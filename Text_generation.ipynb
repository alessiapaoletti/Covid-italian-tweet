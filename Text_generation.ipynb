{
  "nbformat": 4,
  "nbformat_minor": 0,
  "metadata": {
    "colab": {
      "name": "Text_generation.ipynb",
      "provenance": [],
      "collapsed_sections": []
    },
    "kernelspec": {
      "name": "python3",
      "display_name": "Python 3"
    }
  },
  "cells": [
    {
      "cell_type": "code",
      "metadata": {
        "id": "jxWY-dyTGpUp",
        "colab_type": "code",
        "colab": {
          "base_uri": "https://localhost:8080/",
          "height": 34
        },
        "outputId": "0bc957e9-b91e-41ad-b435-dc4f91c1dad8"
      },
      "source": [
        "# google drive settings \n",
        "from google.colab import drive \n",
        "drive.mount('/content/gdrive')"
      ],
      "execution_count": 2,
      "outputs": [
        {
          "output_type": "stream",
          "text": [
            "Drive already mounted at /content/gdrive; to attempt to forcibly remount, call drive.mount(\"/content/gdrive\", force_remount=True).\n"
          ],
          "name": "stdout"
        }
      ]
    },
    {
      "cell_type": "code",
      "metadata": {
        "id": "J-rA0tLwGpl3",
        "colab_type": "code",
        "colab": {}
      },
      "source": [
        "# google drive settings \n",
        "%%capture\n",
        "%cd /content/gdrive/My\\ Drive/NLP"
      ],
      "execution_count": 3,
      "outputs": []
    },
    {
      "cell_type": "code",
      "metadata": {
        "id": "p5wt0IsQCQE5",
        "colab_type": "code",
        "colab": {}
      },
      "source": [
        "from collections import defaultdict\n",
        "import numpy as np\n",
        "import pandas as pd\n",
        "import nltk"
      ],
      "execution_count": 4,
      "outputs": []
    },
    {
      "cell_type": "code",
      "metadata": {
        "id": "JKmtMgnwGsCz",
        "colab_type": "code",
        "colab": {}
      },
      "source": [
        "first_week = pd.read_csv(\"tweet_data/first_week.csv\")\n",
        "second_week = pd.read_csv(\"tweet_data/second_week.csv\")\n",
        "third_week = pd.read_csv(\"tweet_data/third_week.csv\")\n",
        "fourth_week = pd.read_csv(\"tweet_data/fourth_week.csv\")"
      ],
      "execution_count": 5,
      "outputs": []
    },
    {
      "cell_type": "code",
      "metadata": {
        "id": "gNvY0PALauZT",
        "colab_type": "code",
        "colab": {}
      },
      "source": [
        "first_week = first_week[first_week.clean_text.isna()==False] # drop all tweets without text\n",
        "second_week = second_week[second_week.clean_text.isna()==False] # drop all tweets without text\n",
        "third_week = third_week[third_week.clean_text.isna()==False] # drop all tweets without text\n",
        "fourth_week = fourth_week[fourth_week.clean_text.isna()==False] # drop all tweets without text"
      ],
      "execution_count": 6,
      "outputs": []
    },
    {
      "cell_type": "code",
      "metadata": {
        "id": "AQ-b_EkcCshP",
        "colab_type": "code",
        "colab": {}
      },
      "source": [
        "class LM:\n",
        " \n",
        "  def __init__(self, smoothing, n_grams_size):\n",
        "    self.smoothing = smoothing\n",
        "    self.n_grams_size = n_grams_size\n",
        "    self.counts = defaultdict(lambda: defaultdict(lambda: smoothing))\n",
        "    self.START = '_***_'\n",
        "    self.STOP = '_STOP_'\n",
        " \n",
        "  def fit(self, document):\n",
        "    corpus = [line.strip().split() for line in document]\n",
        "  \n",
        "    for sentence in corpus:\n",
        "      tokens = [self.START for _ in range(self.n_grams_size)] + sentence + [self.STOP]\n",
        "      for n_grams_tuple in nltk.ngrams(tokens, self.n_grams_size):\n",
        "        self.counts[n_grams_tuple[:-1]][n_grams_tuple[-1]] += 1\n",
        "  \n",
        "  def _sample_next_word(self, history_tuple, iters=50):\n",
        "    for _ in range(iters):\n",
        "      keys, values = zip(*self.counts[history_tuple].items())\n",
        "      values = np.array(values)\n",
        "      values /= values.sum()\n",
        "      sample = np.random.multinomial(1, values) \n",
        "    \n",
        "    return keys[np.argmax(sample)]\n",
        "  \n",
        "  def generate(self, words_list = []):\n",
        "    result = [self.START for _ in range(self.n_grams_size)]\n",
        "    if words_list: \n",
        "      result.extend(words_list)\n",
        "\n",
        "    history_tuple = tuple([result[i] for i in range(-self.n_grams_size+1, 0, 1)])\n",
        "    next_word = self._sample_next_word(history_tuple)\n",
        "    result.append(next_word)\n",
        "  \n",
        "    while next_word != self.STOP:\n",
        "      history_tuple = tuple(result[i] for i in range(-self.n_grams_size+1, 0, 1))\n",
        "      next_word = self._sample_next_word(history_tuple)\n",
        "      result.append(next_word)\n",
        "  \n",
        "    return ' '.join(result[self.n_grams_size:-1])"
      ],
      "execution_count": 7,
      "outputs": []
    },
    {
      "cell_type": "code",
      "metadata": {
        "id": "A__j0YwvGoYB",
        "colab_type": "code",
        "colab": {}
      },
      "source": [
        "def create_lm(dataset, n=4): \n",
        "  tweets = dataset['clean_tweet'].to_list()\n",
        "  lm = LM(smoothing=0.001, n_grams_size=n)\n",
        "  lm.fit(document=tweets)\n",
        "  return lm "
      ],
      "execution_count": 8,
      "outputs": []
    },
    {
      "cell_type": "markdown",
      "metadata": {
        "id": "JGsvfjtrweYr",
        "colab_type": "text"
      },
      "source": [
        "## 7-gram Model"
      ]
    },
    {
      "cell_type": "code",
      "metadata": {
        "id": "YssQH8PyGAqk",
        "colab_type": "code",
        "colab": {}
      },
      "source": [
        "#create language model for each week \n",
        "w1 = create_lm(first_week, n=7)\n",
        "w2 = create_lm(second_week, n=7)\n",
        "w3 = create_lm(third_week, n=7)\n",
        "w4 = create_lm(fourth_week, n=7)"
      ],
      "execution_count": 8,
      "outputs": []
    },
    {
      "cell_type": "code",
      "metadata": {
        "id": "Jmg-qH70MrrC",
        "colab_type": "code",
        "colab": {}
      },
      "source": [
        "number_of_tweets = 5"
      ],
      "execution_count": 9,
      "outputs": []
    },
    {
      "cell_type": "code",
      "metadata": {
        "id": "PMlcnah9MkWN",
        "colab_type": "code",
        "colab": {
          "base_uri": "https://localhost:8080/",
          "height": 121
        },
        "outputId": "eb582a9b-e136-4e79-f5ff-17a5c472900d"
      },
      "source": [
        "print(np.unique([w1.generate() for _ in range(number_of_tweets)]))"
      ],
      "execution_count": 10,
      "outputs": [
        {
          "output_type": "stream",
          "text": [
            "['_***_ _***_ coronavirus quarantena per chi in zone rosse in ultimi giorni'\n",
            " 'a annullato convegno sul coronavirus'\n",
            " 'coronavirus i consigli dei medici sportivi per chi fa sport all interno di palestre e palasport corriere dell umbria'\n",
            " 'da vedere che insegna la struccante viso lisoformlavanda struccante occhi quasarlavavetri per andare a ballare se ti senti un po cagna due gocce di frontline dietro al collo adoro a lui e a gilda'\n",
            " 'gestione delle emozioni e corretta gli antidoti del finanziario per arginare il panico da nel cliente investitore wallstreetita']\n"
          ],
          "name": "stdout"
        }
      ]
    },
    {
      "cell_type": "code",
      "metadata": {
        "id": "1HDTl3xCKp6d",
        "colab_type": "code",
        "colab": {
          "base_uri": "https://localhost:8080/",
          "height": 121
        },
        "outputId": "6b4cfadb-d688-4b09-b2d5-8a4ba5c37151"
      },
      "source": [
        "print(np.unique([w2.generate() for _ in range(number_of_tweets)]))"
      ],
      "execution_count": 11,
      "outputs": [
        {
          "output_type": "stream",
          "text": [
            "['_***_ _***_ _***_ _***_ _***_ giorno di quarantena mi sento strano sta cosa che non so cosa succederà mi blocca e destabilizza non so come organizzarmi e inquadrare la mia vita ho sempre visto la mia vita come un pezzetto del lego adesso sembra che il mio lego non abbia più forma mi sento perso'\n",
            " '_***_ _***_ _***_ coronavirus in lombardia rallenta il trend i decessi i contagi gellera più chiari che scuri a milano hotel requisito per la quarantena via repubblica'\n",
            " 'coronavirus mattino cinque senza federica panicucci repliche forum e avanti un altro'\n",
            " 'le uniche gioie di poter lavorare ai tempi del covid ad un metro di distanza a bit of joy in working in the era of covid one meter away'\n",
            " 'sisal enternainment s p a emergenza coronavirus che il jackpot del superenalotto vada agli ospedali italiani firma la petizione via changeitalia']\n"
          ],
          "name": "stdout"
        }
      ]
    },
    {
      "cell_type": "code",
      "metadata": {
        "id": "bl5WUELBL79A",
        "colab_type": "code",
        "colab": {
          "base_uri": "https://localhost:8080/",
          "height": 101
        },
        "outputId": "1bcbee66-ad8c-4211-a9d7-0983c1626abc"
      },
      "source": [
        "print(np.unique([w3.generate() for _ in range(number_of_tweets)]))"
      ],
      "execution_count": 12,
      "outputs": [
        {
          "output_type": "stream",
          "text": [
            "['_***_ istituto superiore di sanità rischi dell acquisto on line di farmaci anti covid e danni delle fake news'\n",
            " '_***_ la mascherina di zaia ha pure il paraorecchie bella davvero coronavirus zaia mascherina sempre anche in strada campania via libera alle pizze a domicilio politica ansa'\n",
            " '_***_ sassee l angelo che non lascia soli i gatti randagi di new york ai tempi del coronavirus di lastampa'\n",
            " 'siete in sette e io ho scelto lei pieralfredo rizzi da codogno a pavia scegliere chi far sopravvivere'\n",
            " 'trovato un metodo per identificare la traccia genetica del nuovo coronavirus rivelandone gli spostamenti e l evoluzione']\n"
          ],
          "name": "stdout"
        }
      ]
    },
    {
      "cell_type": "code",
      "metadata": {
        "id": "vHcH8kZIL-iO",
        "colab_type": "code",
        "colab": {
          "base_uri": "https://localhost:8080/",
          "height": 121
        },
        "outputId": "9b41d524-8f29-4de4-f16c-4ab0d4dd24dc"
      },
      "source": [
        "print(np.unique([w4.generate() for _ in range(number_of_tweets)]))"
      ],
      "execution_count": 13,
      "outputs": [
        {
          "output_type": "stream",
          "text": [
            "['_***_ _***_ _***_ emergenza da covid e norme in materia di enti non profit'\n",
            " '_***_ _***_ coronavirus e fase nelle campagne solo lo dei contagi'\n",
            " '_***_ _***_ oristano reagiamo al covid con l e commerce'\n",
            " 'la redazione il patron della virtusbo massimo zanetti è bloccato in polinesia da tre mesi sulla sua barca il noto imprenditore non può attualmente rientrare in italia a causa delle normative sul covid lo riferisce la tribuna'\n",
            " 'rezza vaccino cerotto anti covid sarebbe utile ma aspettiamo i dati covid']\n"
          ],
          "name": "stdout"
        }
      ]
    },
    {
      "cell_type": "code",
      "metadata": {
        "id": "iBvevziXZJ5D",
        "colab_type": "code",
        "colab": {
          "base_uri": "https://localhost:8080/",
          "height": 101
        },
        "outputId": "87a142d2-13ed-4095-ff69-490e398e96cb"
      },
      "source": [
        "print(np.unique([w1.generate(['coronavirus', 'è']) for _ in range(number_of_tweets)]))"
      ],
      "execution_count": 14,
      "outputs": [
        {
          "output_type": "stream",
          "text": [
            "['coronavirus è assalto ai supermercati code alle casse e scaffali di acqua e gel vuoti l emergenza coronavirus vista dai supermercati di repubblica'\n",
            " 'coronavirus è il caso di dirlo viva le élite'\n",
            " 'coronavirus è il triste spettacolo offerto dall italia autolesionista'\n",
            " 'coronavirus è massima allerta ospedali da campo e più tamponi'\n",
            " 'coronavirus è ufficialmente psicosi controlli a due testimoni di lodi al tribunale di messina']\n"
          ],
          "name": "stdout"
        }
      ]
    },
    {
      "cell_type": "code",
      "metadata": {
        "id": "_UUFObYSZJyV",
        "colab_type": "code",
        "colab": {
          "base_uri": "https://localhost:8080/",
          "height": 121
        },
        "outputId": "2b4d6d5a-c271-4cc7-ccf8-d9883c679eab"
      },
      "source": [
        "print(np.unique([w2.generate(['coronavirus', 'è']) for _ in range(number_of_tweets)]))"
      ],
      "execution_count": 15,
      "outputs": [
        {
          "output_type": "stream",
          "text": [
            "['coronavirus è assalto alla spesa online tutti i servizi bloccati'\n",
            " 'coronavirus è grave e assurdo che siano state sottratte alla dogana in polonia oltre mila mascherine ffp acquistate dalla regionelazio abbiamo subito messo al corrente la protezione civile nazionale con l intervento successivo delle nostre autorità diplomatiche'\n",
            " 'coronavirus è in corso l assemblea della lega di serie a'\n",
            " 'coronavirus è morto vittorio gregotti'\n",
            " 'coronavirus è stato il pipistrello via youtube']\n"
          ],
          "name": "stdout"
        }
      ]
    },
    {
      "cell_type": "code",
      "metadata": {
        "id": "wEkkgimcZJmR",
        "colab_type": "code",
        "colab": {
          "base_uri": "https://localhost:8080/",
          "height": 121
        },
        "outputId": "44546a03-1238-429f-c9c5-a612353d6e0a"
      },
      "source": [
        "print(np.unique([w3.generate(['coronavirus', 'è']) for _ in range(number_of_tweets)]))"
      ],
      "execution_count": 16,
      "outputs": [
        {
          "output_type": "stream",
          "text": [
            "['coronavirus è caos sardegna sulla cig il mise dalla regione zero domande'\n",
            " 'coronavirus è guarito l ex sindaco di sabaudia salvatore schintu'\n",
            " 'coronavirus è il giorno della cabina di regia tra governo ed enti locali su fase regioni comuni e province indicazioni chiare su trasporti e uffici decaro anci bisogna definire capienza su metro e bus'\n",
            " 'coronavirus è siciliana la mascherina utilizzabile all infinito di negozio per le imprese news'\n",
            " 'coronavirus è stato creato dall uomo ecco la prova un premio nobel fa discutere di moneypuntoit']\n"
          ],
          "name": "stdout"
        }
      ]
    },
    {
      "cell_type": "code",
      "metadata": {
        "id": "NTCP1RkRZB_r",
        "colab_type": "code",
        "colab": {
          "base_uri": "https://localhost:8080/",
          "height": 121
        },
        "outputId": "290df0c6-591c-4bbc-f204-1dca42223985"
      },
      "source": [
        "print(np.unique([w4.generate(['coronavirus', 'è']) for _ in range(number_of_tweets)]))"
      ],
      "execution_count": 17,
      "outputs": [
        {
          "output_type": "stream",
          "text": [
            "['coronavirus è ancora mistero sulle origini'\n",
            " 'coronavirus è finita chiuso il reparto covid ecco la provincia italiana senza più contagi da giorni'\n",
            " 'coronavirus è guerra tra virologi tarro querela burioni e due giornalisti desolanti effetti collaterali del covid'\n",
            " 'coronavirus è guerra tra virologi tarro querela burioni e due giornalisti opera di denigrazione ai miei danni nuovo capitolo della querelle tarro burioni il virologo napoletano giulio tarro ha infatti incaricato il suo legale l avvocato carlo taormina'\n",
            " 'coronavirus è guerra tra virologi tarro querela burioni e due giornalisti opera di denigrazione continua']\n"
          ],
          "name": "stdout"
        }
      ]
    },
    {
      "cell_type": "markdown",
      "metadata": {
        "id": "CjncCSYpwaAy",
        "colab_type": "text"
      },
      "source": [
        "## 4-gram Model"
      ]
    },
    {
      "cell_type": "code",
      "metadata": {
        "id": "LbDfnR-3fiOG",
        "colab_type": "code",
        "colab": {}
      },
      "source": [
        "#create language model for each week \n",
        "w1_n4 = create_lm(first_week, n=4)\n",
        "w2_n4 = create_lm(second_week, n=4)\n",
        "w3_n4 = create_lm(third_week, n=4)\n",
        "w4_n4 = create_lm(fourth_week, n=4)"
      ],
      "execution_count": 9,
      "outputs": []
    },
    {
      "cell_type": "code",
      "metadata": {
        "id": "1CEhF4G8cFCf",
        "colab_type": "code",
        "colab": {}
      },
      "source": [
        "number_of_tweets = 5"
      ],
      "execution_count": 10,
      "outputs": []
    },
    {
      "cell_type": "code",
      "metadata": {
        "id": "l1F3RNWngk5Y",
        "colab_type": "code",
        "colab": {
          "base_uri": "https://localhost:8080/",
          "height": 121
        },
        "outputId": "5743b74e-c832-4c8f-e1d4-45cb5c0fd3dd"
      },
      "source": [
        "print(np.unique([w1_n4.generate(['conte']) for _ in range(number_of_tweets)]))"
      ],
      "execution_count": 11,
      "outputs": [
        {
          "output_type": "stream",
          "text": [
            "['conte con i tamponi per il abbiamo esagerato scommettiamo che cominceranno a farli i laboratori privati pazzesco'\n",
            " 'conte con i tamponi per il virus'\n",
            " 'conte giuseppi è in difficoltà nella del perché le gattare non riescono a gestire un po meglio la diffusione di nuovi modelli organizzativi e culturali al passo con la è rinviato a data da destinarsi per evitare che il virus uscisse dalla cina ora non saremmo il terzo paese per contagi no ma buongiorno anche a te sandra ricordi la madre me lo disse e me lo riempite'\n",
            " 'conte impugna l ordinanza il governo potrebbe limitare la libera circolazione al di infettare altre zone inneggiando al potere del denaro e del guadagno anche in situazioni così gravi'\n",
            " 'conte è pronto a impatto forte del metro news']\n"
          ],
          "name": "stdout"
        }
      ]
    },
    {
      "cell_type": "code",
      "metadata": {
        "id": "qgsAYnszgnR6",
        "colab_type": "code",
        "colab": {
          "base_uri": "https://localhost:8080/",
          "height": 121
        },
        "outputId": "52b4c542-9376-4752-f635-cbc7107f5186"
      },
      "source": [
        "print(np.unique([w2_n4.generate(['conte']) for _ in range(number_of_tweets)]))"
      ],
      "execution_count": 12,
      "outputs": [
        {
          "output_type": "stream",
          "text": [
            "['conte agli italiani sul coronavirus'\n",
            " 'conte gualtieri lagarde van der leyden li abbiamo votati'\n",
            " 'conte l emergenza coronavirus aderendo alla campagna non si ferma scopri il museoarcheoca qui continua a seguirci sul canale youtube ogni giorno nuovi video dai iscriviti guarda condividi'\n",
            " 'conte ora faccia l unica cosa che ci è sfuggito qualcosa che abbiamo tralasciato o sbagliato non è possibile uscire e entrare'\n",
            " 'conte sta passando per il salvatore della patria non basterà questa non arriva al panettone']\n"
          ],
          "name": "stdout"
        }
      ]
    },
    {
      "cell_type": "code",
      "metadata": {
        "id": "8iInVMC7gnsY",
        "colab_type": "code",
        "colab": {
          "base_uri": "https://localhost:8080/",
          "height": 121
        },
        "outputId": "a960c19f-c70a-48b5-bf4a-9ce8f68c2537"
      },
      "source": [
        "print(np.unique([w3_n4.generate(['conte']) for _ in range(number_of_tweets)]))"
      ],
      "execution_count": 13,
      "outputs": [
        {
          "output_type": "stream",
          "text": [
            "['conte frena sul mes e spinge per gli eurobond attacco alla germania'\n",
            " 'conte frena sul mes e sui coronabond sono solo chiacchiere il mes è una cagata pazzesca semicit grazie a albertobagnai per informazione e umorismo'\n",
            " 'conte ha detto che la è riuscita a controllare le persone si ribelleranno la profezia di cinque anni fa un virus sconosciuto le mascherine e ti mandano watsapp per sapere se siamo stati fortunati ma anche bravi e attenti nel nostro comune vista la mole di provvedimenti nazionali che dovranno fare lo stesso'\n",
            " 'conte i nuovi provvedimenti entreranno in vigore le norme per limitare l epidemia di sta determinando un evoluzione del settore della ristorazione mette a punto un questionario online per capire i rischi del contact digitale fatto male via youtube'\n",
            " 'conte il mes ha brutta fama non dimentichiamo la e rilancia i coronabond']\n"
          ],
          "name": "stdout"
        }
      ]
    },
    {
      "cell_type": "code",
      "metadata": {
        "id": "OrM5U0IrgoPW",
        "colab_type": "code",
        "colab": {
          "base_uri": "https://localhost:8080/",
          "height": 121
        },
        "outputId": "518f385d-a20c-44dd-bf46-14428f3fe54d"
      },
      "source": [
        "print(np.unique([w4_n4.generate(['conte']) for _ in range(number_of_tweets)]))"
      ],
      "execution_count": 14,
      "outputs": [
        {
          "output_type": "stream",
          "text": [
            "['conte e il consenso popolare il premier sopravvivrà al coronavirus di ilpost'\n",
            " 'conte già provato decreto rilancio la precisazione lo stato d emergenza per covid non è stato fatto un errore che pesa enormemente sul bilancio dell epidemia e le crescenti disparità di classe coronavirus school closures impact billion children and remote learning is increasing inequality via conversationuk'\n",
            " 'conte ha firmato il dpcm sulle aperture dal maggio spettacoli all aperto fino a persone all aperto'\n",
            " 'conte lo avevamo capito da un pezzo si prenderà una polmonite che sarà diagnosticata come covid'\n",
            " 'conte sul vaccino anti covid ecco i numeri del in fonte ministero della salute']\n"
          ],
          "name": "stdout"
        }
      ]
    },
    {
      "cell_type": "code",
      "metadata": {
        "id": "0wzR-n2irD_N",
        "colab_type": "code",
        "colab": {
          "base_uri": "https://localhost:8080/",
          "height": 101
        },
        "outputId": "21bf42a6-d654-4fed-da23-9d8ce57dcc98"
      },
      "source": [
        "print(np.unique([w4_n4.generate(['conte']) for _ in range(5)]))"
      ],
      "execution_count": 15,
      "outputs": [
        {
          "output_type": "stream",
          "text": [
            "['conte con i filtri di instagram mentre parlava in conferenza stampa'\n",
            " 'conte dice ancora no a per il prezioso supporto all'\n",
            " 'conte e il governo cadde l inghilterra sopravvisse e vinse la guerra'\n",
            " 'conte firma il dpcm diretta'\n",
            " 'conte non è ancora tempo di movida party e assembramenti di qualunque genere linea dura del ministro dell interno lamorgese a pavia']\n"
          ],
          "name": "stdout"
        }
      ]
    },
    {
      "cell_type": "code",
      "metadata": {
        "id": "SoIr3xBwcI0j",
        "colab_type": "code",
        "colab": {}
      },
      "source": [
        ""
      ],
      "execution_count": 15,
      "outputs": []
    }
  ]
}