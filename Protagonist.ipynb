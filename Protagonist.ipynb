{
  "nbformat": 4,
  "nbformat_minor": 0,
  "metadata": {
    "colab": {
      "name": "Protagonist.ipynb",
      "provenance": []
    },
    "kernelspec": {
      "name": "python3",
      "display_name": "Python 3"
    }
  },
  "cells": [
    {
      "cell_type": "code",
      "metadata": {
        "id": "ykzUH7wLzW_y",
        "colab_type": "code",
        "colab": {
          "base_uri": "https://localhost:8080/",
          "height": 121
        },
        "outputId": "e9736584-e379-4812-c52e-5bf2149efc73"
      },
      "source": [
        "# google drive settings \n",
        "from google.colab import drive \n",
        "drive.mount('/content/gdrive', force_remount=True)"
      ],
      "execution_count": 1,
      "outputs": [
        {
          "output_type": "stream",
          "text": [
            "Go to this URL in a browser: https://accounts.google.com/o/oauth2/auth?client_id=947318989803-6bn6qk8qdgf4n4g3pfee6491hc0brc4i.apps.googleusercontent.com&redirect_uri=urn%3aietf%3awg%3aoauth%3a2.0%3aoob&response_type=code&scope=email%20https%3a%2f%2fwww.googleapis.com%2fauth%2fdocs.test%20https%3a%2f%2fwww.googleapis.com%2fauth%2fdrive%20https%3a%2f%2fwww.googleapis.com%2fauth%2fdrive.photos.readonly%20https%3a%2f%2fwww.googleapis.com%2fauth%2fpeopleapi.readonly\n",
            "\n",
            "Enter your authorization code:\n",
            "··········\n",
            "Mounted at /content/gdrive\n"
          ],
          "name": "stdout"
        }
      ]
    },
    {
      "cell_type": "code",
      "metadata": {
        "id": "gMVVGkkszPzi",
        "colab_type": "code",
        "colab": {}
      },
      "source": [
        "# google drive settings \n",
        "%%capture\n",
        "%cd /content/gdrive/My\\ Drive/NLP"
      ],
      "execution_count": 2,
      "outputs": []
    },
    {
      "cell_type": "code",
      "metadata": {
        "id": "ki8geHqQ1izY",
        "colab_type": "code",
        "colab": {}
      },
      "source": [
        "%%capture \n",
        "!python3 -m spacy download it_core_news_sm"
      ],
      "execution_count": 3,
      "outputs": []
    },
    {
      "cell_type": "code",
      "metadata": {
        "id": "7q82JR2X1DSE",
        "colab_type": "code",
        "colab": {}
      },
      "source": [
        "import pandas as pd\n",
        "import collections\n",
        "import it_core_news_sm\n",
        "nlp = it_core_news_sm.load()"
      ],
      "execution_count": 4,
      "outputs": []
    },
    {
      "cell_type": "code",
      "metadata": {
        "id": "BlOE7jADB_jq",
        "colab_type": "code",
        "colab": {}
      },
      "source": [
        "first_week = pd.read_csv(\"tweet_data/first_week.csv\")\n",
        "second_week = pd.read_csv(\"tweet_data/second_week.csv\")\n",
        "third_week = pd.read_csv(\"tweet_data/third_week.csv\")\n",
        "fourth_week = pd.read_csv(\"tweet_data/fourth_week.csv\")"
      ],
      "execution_count": 5,
      "outputs": []
    },
    {
      "cell_type": "code",
      "metadata": {
        "id": "RNzU56v2DjW-",
        "colab_type": "code",
        "colab": {}
      },
      "source": [
        "first_week = first_week[first_week.clean_text.isna()==False] # drop all tweets without text\n",
        "second_week = second_week[second_week.clean_text.isna()==False] # drop all tweets without text\n",
        "third_week = third_week[third_week.clean_text.isna()==False] # drop all tweets without text\n",
        "fourth_week = fourth_week[fourth_week.clean_text.isna()==False] # drop all tweets without text"
      ],
      "execution_count": 6,
      "outputs": []
    },
    {
      "cell_type": "code",
      "metadata": {
        "id": "SPkxiuQU0-Vs",
        "colab_type": "code",
        "colab": {}
      },
      "source": [
        "def proper_names(text): \n",
        "  lemmas = [token.lemma_ for token in nlp(text) \n",
        "              if token.pos_ in  {'PROPN'}]\n",
        "  return lemmas"
      ],
      "execution_count": 7,
      "outputs": []
    },
    {
      "cell_type": "code",
      "metadata": {
        "id": "-6Btm1PW0-Tc",
        "colab_type": "code",
        "colab": {
          "base_uri": "https://localhost:8080/",
          "height": 50
        },
        "outputId": "7d66547c-a339-47d3-e6bd-93b9a1896f39"
      },
      "source": [
        "%time w1_aux = first_week['clean_text'].apply(proper_names)"
      ],
      "execution_count": 32,
      "outputs": [
        {
          "output_type": "stream",
          "text": [
            "CPU times: user 27min 48s, sys: 1.47 s, total: 27min 49s\n",
            "Wall time: 27min 51s\n"
          ],
          "name": "stdout"
        }
      ]
    },
    {
      "cell_type": "code",
      "metadata": {
        "id": "SBAqGD-63GHh",
        "colab_type": "code",
        "colab": {
          "base_uri": "https://localhost:8080/",
          "height": 185
        },
        "outputId": "47eccc15-90e9-4ad0-a00e-a32c3e266c5f"
      },
      "source": [
        "# get most famous protagonist (according to occurences in tweets)\n",
        "w1_prot = [item for sublist in w1_aux for item in sublist] #flat list \n",
        "w1_occ = collections.Counter(w1_prot)\n",
        "w1_occ.most_common(10)"
      ],
      "execution_count": 36,
      "outputs": [
        {
          "output_type": "execute_result",
          "data": {
            "text/plain": [
              "[('lombardia', 6592),\n",
              " ('milano', 6102),\n",
              " ('cina', 5381),\n",
              " ('veneto', 4036),\n",
              " ('regione', 3711),\n",
              " ('repubblica', 2567),\n",
              " ('roma', 2498),\n",
              " ('contagiare', 2419),\n",
              " ('europa', 2068),\n",
              " ('mascherina', 2056)]"
            ]
          },
          "metadata": {
            "tags": []
          },
          "execution_count": 36
        }
      ]
    },
    {
      "cell_type": "code",
      "metadata": {
        "id": "fsPC_I35-RRk",
        "colab_type": "code",
        "colab": {
          "base_uri": "https://localhost:8080/",
          "height": 50
        },
        "outputId": "78cbbece-3a68-41bb-c964-a31fbcf1440c"
      },
      "source": [
        "%time w2_aux = second_week['clean_text'].apply(proper_names)"
      ],
      "execution_count": 8,
      "outputs": [
        {
          "output_type": "stream",
          "text": [
            "CPU times: user 47min 55s, sys: 3.04 s, total: 47min 58s\n",
            "Wall time: 48min 4s\n"
          ],
          "name": "stdout"
        }
      ]
    },
    {
      "cell_type": "code",
      "metadata": {
        "id": "ofXsTdQI-cnw",
        "colab_type": "code",
        "colab": {
          "base_uri": "https://localhost:8080/",
          "height": 185
        },
        "outputId": "85cc5b2e-dae3-4b4b-bf38-ce74b9547720"
      },
      "source": [
        "# get most famous protagonist (according to occurences in tweets)\n",
        "w2_prot = [item for sublist in w2_aux for item in sublist] #flat list \n",
        "w2_occ = collections.Counter(w2_prot)\n",
        "w2_occ.most_common(10)"
      ],
      "execution_count": 9,
      "outputs": [
        {
          "output_type": "execute_result",
          "data": {
            "text/plain": [
              "[('repubblica', 5480),\n",
              " ('roma', 5368),\n",
              " ('cina', 4758),\n",
              " ('milano', 4706),\n",
              " ('lombardia', 4610),\n",
              " ('contagiare', 3230),\n",
              " ('regione', 2995),\n",
              " ('europa', 2963),\n",
              " ('mascherina', 2853),\n",
              " ('tampone', 2653)]"
            ]
          },
          "metadata": {
            "tags": []
          },
          "execution_count": 9
        }
      ]
    },
    {
      "cell_type": "code",
      "metadata": {
        "id": "hHF9NBRq8wux",
        "colab_type": "code",
        "colab": {
          "base_uri": "https://localhost:8080/",
          "height": 857
        },
        "outputId": "44f2f35d-be9e-482b-aa0b-d874319dccfb"
      },
      "source": [
        "w2_occ.most_common(50)"
      ],
      "execution_count": 16,
      "outputs": [
        {
          "output_type": "execute_result",
          "data": {
            "text/plain": [
              "[('repubblica', 5480),\n",
              " ('roma', 5368),\n",
              " ('cina', 4758),\n",
              " ('milano', 4706),\n",
              " ('lombardia', 4610),\n",
              " ('contagiare', 3230),\n",
              " ('regione', 2995),\n",
              " ('europa', 2963),\n",
              " ('mascherina', 2853),\n",
              " ('tampone', 2653),\n",
              " ('bergamo', 2516),\n",
              " ('napoli', 2443),\n",
              " ('youtube', 2209),\n",
              " ('amp', 2151),\n",
              " ('bollettino', 2095),\n",
              " ('germania', 1871),\n",
              " ('ue', 1851),\n",
              " ('neo', 1846),\n",
              " ('francia', 1635),\n",
              " ('campania', 1525),\n",
              " ('new', 1472),\n",
              " ('spagna', 1431),\n",
              " ('pandemia', 1407),\n",
              " ('facebook', 1404),\n",
              " ('lazio', 1390),\n",
              " ('sicilia', 1369),\n",
              " ('terapia', 1262),\n",
              " ('unire', 1246),\n",
              " ('emilia', 1199),\n",
              " ('giuseppeconteit', 1104),\n",
              " ('borrelli', 1099),\n",
              " ('lucere', 1099),\n",
              " ('sud', 1099),\n",
              " ('giuseppe', 1089),\n",
              " ('veneto', 1079),\n",
              " ('calabria', 1071),\n",
              " ('paolo', 1065),\n",
              " ('decesso', 1041),\n",
              " ('graziare', 1025),\n",
              " ('twitter', 996),\n",
              " ('instagram', 982),\n",
              " ('miliardo', 928),\n",
              " ('fanpage', 920),\n",
              " ('torino', 885),\n",
              " ('migliaio', 881),\n",
              " ('capello', 877),\n",
              " ('salvini', 874),\n",
              " ('russia', 862),\n",
              " ('francesco', 858),\n",
              " ('servizo', 854)]"
            ]
          },
          "metadata": {
            "tags": []
          },
          "execution_count": 16
        }
      ]
    },
    {
      "cell_type": "code",
      "metadata": {
        "id": "DWVWwakm-Sh7",
        "colab_type": "code",
        "colab": {
          "base_uri": "https://localhost:8080/",
          "height": 50
        },
        "outputId": "0e024e48-2418-43cf-f247-f082723dd564"
      },
      "source": [
        "%time w3_aux = third_week['clean_text'].apply(proper_names)"
      ],
      "execution_count": 10,
      "outputs": [
        {
          "output_type": "stream",
          "text": [
            "CPU times: user 25min 53s, sys: 1.68 s, total: 25min 54s\n",
            "Wall time: 25min 58s\n"
          ],
          "name": "stdout"
        }
      ]
    },
    {
      "cell_type": "code",
      "metadata": {
        "id": "KpqstpOI-goR",
        "colab_type": "code",
        "colab": {
          "base_uri": "https://localhost:8080/",
          "height": 185
        },
        "outputId": "1cbe9e71-f5d2-482c-cfef-180b2712560b"
      },
      "source": [
        "# get most famous protagonist (according to occurences in tweets)\n",
        "w3_prot = [item for sublist in w3_aux for item in sublist] #flat list \n",
        "w3_occ = collections.Counter(w3_prot)\n",
        "w3_occ.most_common(10)"
      ],
      "execution_count": 11,
      "outputs": [
        {
          "output_type": "execute_result",
          "data": {
            "text/plain": [
              "[('lombardia', 3313),\n",
              " ('milano', 2639),\n",
              " ('regione', 2507),\n",
              " ('roma', 2385),\n",
              " ('contagiare', 2365),\n",
              " ('repubblica', 2237),\n",
              " ('amp', 1870),\n",
              " ('bollettino', 1709),\n",
              " ('tampone', 1609),\n",
              " ('europa', 1563)]"
            ]
          },
          "metadata": {
            "tags": []
          },
          "execution_count": 11
        }
      ]
    },
    {
      "cell_type": "code",
      "metadata": {
        "id": "IrLchTPN8sj7",
        "colab_type": "code",
        "colab": {
          "base_uri": "https://localhost:8080/",
          "height": 857
        },
        "outputId": "6649d928-b112-47d8-ae49-02d003825e3c"
      },
      "source": [
        "w3_occ.most_common(50)"
      ],
      "execution_count": 15,
      "outputs": [
        {
          "output_type": "execute_result",
          "data": {
            "text/plain": [
              "[('lombardia', 3313),\n",
              " ('milano', 2639),\n",
              " ('regione', 2507),\n",
              " ('roma', 2385),\n",
              " ('contagiare', 2365),\n",
              " ('repubblica', 2237),\n",
              " ('amp', 1870),\n",
              " ('bollettino', 1709),\n",
              " ('tampone', 1609),\n",
              " ('europa', 1563),\n",
              " ('mascherina', 1549),\n",
              " ('youtube', 1531),\n",
              " ('napoli', 1415),\n",
              " ('cina', 1370),\n",
              " ('lockdown', 1300),\n",
              " ('ue', 1273),\n",
              " ('neo', 1201),\n",
              " ('pandemia', 1061),\n",
              " ('sicilia', 1036),\n",
              " ('lazio', 1032),\n",
              " ('campania', 1010),\n",
              " ('giuseppe', 999),\n",
              " ('decesso', 943),\n",
              " ('germania', 939),\n",
              " ('emilia', 835),\n",
              " ('changeitalia', 826),\n",
              " ('new', 817),\n",
              " ('terapia', 793),\n",
              " ('facebook', 787),\n",
              " ('lucere', 725),\n",
              " ('sud', 722),\n",
              " ('nobel', 720),\n",
              " ('mes', 708),\n",
              " ('eurobond', 685),\n",
              " ('wuhan', 681),\n",
              " ('app', 678),\n",
              " ('lastampa', 676),\n",
              " ('festa', 663),\n",
              " ('calere', 657),\n",
              " ('capello', 627),\n",
              " ('piemonte', 624),\n",
              " ('calabria', 617),\n",
              " ('bergamo', 610),\n",
              " ('torino', 597),\n",
              " ('veneto', 587),\n",
              " ('montagnier', 572),\n",
              " ('prof', 570),\n",
              " ('gates', 557),\n",
              " ('live', 549),\n",
              " ('asl', 541)]"
            ]
          },
          "metadata": {
            "tags": []
          },
          "execution_count": 15
        }
      ]
    },
    {
      "cell_type": "code",
      "metadata": {
        "id": "WoZpNdKE-TFN",
        "colab_type": "code",
        "colab": {
          "base_uri": "https://localhost:8080/",
          "height": 50
        },
        "outputId": "9540e262-5d4c-434b-f565-e3c3be143d3c"
      },
      "source": [
        "%time w4_aux = fourth_week['clean_text'].apply(proper_names)"
      ],
      "execution_count": 12,
      "outputs": [
        {
          "output_type": "stream",
          "text": [
            "CPU times: user 12min 54s, sys: 924 ms, total: 12min 55s\n",
            "Wall time: 12min 57s\n"
          ],
          "name": "stdout"
        }
      ]
    },
    {
      "cell_type": "code",
      "metadata": {
        "id": "MTDre5Yi2IUs",
        "colab_type": "code",
        "colab": {
          "base_uri": "https://localhost:8080/",
          "height": 185
        },
        "outputId": "c1082e6c-2db5-4d9e-863b-0ea36120ff70"
      },
      "source": [
        "# get most famous protagonist (according to occurences in tweets)\n",
        "w4_prot = [item for sublist in w4_aux for item in sublist] #flat list \n",
        "w4_occ = collections.Counter(w4_prot)\n",
        "w4_occ.most_common(10)"
      ],
      "execution_count": 13,
      "outputs": [
        {
          "output_type": "execute_result",
          "data": {
            "text/plain": [
              "[('lombardia', 2749),\n",
              " ('contagiare', 2033),\n",
              " ('bollettino', 1707),\n",
              " ('regione', 1648),\n",
              " ('tampone', 1227),\n",
              " ('milano', 1147),\n",
              " ('roma', 1120),\n",
              " ('lockdown', 1033),\n",
              " ('cina', 1028),\n",
              " ('mascherina', 923)]"
            ]
          },
          "metadata": {
            "tags": []
          },
          "execution_count": 13
        }
      ]
    },
    {
      "cell_type": "code",
      "metadata": {
        "id": "BVgaK8XZ7DQx",
        "colab_type": "code",
        "colab": {
          "base_uri": "https://localhost:8080/",
          "height": 857
        },
        "outputId": "a9e913f4-a66f-4b1c-a4ca-102eb3198ece"
      },
      "source": [
        "w4_occ.most_common(50)"
      ],
      "execution_count": 14,
      "outputs": [
        {
          "output_type": "execute_result",
          "data": {
            "text/plain": [
              "[('lombardia', 2749),\n",
              " ('contagiare', 2033),\n",
              " ('bollettino', 1707),\n",
              " ('regione', 1648),\n",
              " ('tampone', 1227),\n",
              " ('milano', 1147),\n",
              " ('roma', 1120),\n",
              " ('lockdown', 1033),\n",
              " ('cina', 1028),\n",
              " ('mascherina', 923),\n",
              " ('repubblica', 876),\n",
              " ('amp', 867),\n",
              " ('decesso', 848),\n",
              " ('pandemia', 694),\n",
              " ('europa', 692),\n",
              " ('lazio', 668),\n",
              " ('neo', 593),\n",
              " ('campania', 573),\n",
              " ('sicilia', 558),\n",
              " ('brasile', 505),\n",
              " ('calabria', 483),\n",
              " ('emilia', 478),\n",
              " ('new', 459),\n",
              " ('napoli', 450),\n",
              " ('twitter', 441),\n",
              " ('live', 416),\n",
              " ('veneto', 405),\n",
              " ('youtube', 397),\n",
              " ('francia', 391),\n",
              " ('ue', 388),\n",
              " ('terapia', 383),\n",
              " ('sardegna', 353),\n",
              " ('germania', 344),\n",
              " ('lucere', 338),\n",
              " ('bergamo', 328),\n",
              " ('unire', 315),\n",
              " ('russia', 311),\n",
              " ('piemonte', 294),\n",
              " ('capello', 294),\n",
              " ('puglia', 286),\n",
              " ('reggio', 284),\n",
              " ('wuhan', 282),\n",
              " ('menare', 276),\n",
              " ('facebook', 268),\n",
              " ('york', 267),\n",
              " ('asl', 266),\n",
              " ('calere', 256),\n",
              " ('paolo', 256),\n",
              " ('times', 256),\n",
              " ('miliardo', 255)]"
            ]
          },
          "metadata": {
            "tags": []
          },
          "execution_count": 14
        }
      ]
    }
  ]
}