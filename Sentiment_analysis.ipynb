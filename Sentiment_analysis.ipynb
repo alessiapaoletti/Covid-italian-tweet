{
  "nbformat": 4,
  "nbformat_minor": 0,
  "metadata": {
    "colab": {
      "name": "Sentiment_analysis.ipynb",
      "provenance": [],
      "collapsed_sections": [
        "VtV5gvuLRe81"
      ],
      "toc_visible": true
    },
    "kernelspec": {
      "name": "python3",
      "display_name": "Python 3"
    }
  },
  "cells": [
    {
      "cell_type": "markdown",
      "metadata": {
        "id": "75MYYecNG1-2",
        "colab_type": "text"
      },
      "source": [
        "##Start setup"
      ]
    },
    {
      "cell_type": "code",
      "metadata": {
        "id": "ykzUH7wLzW_y",
        "colab_type": "code",
        "colab": {
          "base_uri": "https://localhost:8080/",
          "height": 34
        },
        "outputId": "070f6fa8-283f-468d-d540-ee57d852f836"
      },
      "source": [
        "# google drive settings \n",
        "from google.colab import drive \n",
        "drive.mount('/content/gdrive', force_remount=True)"
      ],
      "execution_count": 1,
      "outputs": [
        {
          "output_type": "stream",
          "text": [
            "Mounted at /content/gdrive\n"
          ],
          "name": "stdout"
        }
      ]
    },
    {
      "cell_type": "code",
      "metadata": {
        "id": "gMVVGkkszPzi",
        "colab_type": "code",
        "colab": {}
      },
      "source": [
        "# google drive settings \n",
        "%%capture\n",
        "%cd /content/gdrive/My\\ Drive/NLP"
      ],
      "execution_count": 2,
      "outputs": []
    },
    {
      "cell_type": "code",
      "metadata": {
        "id": "TR8wzTnyTGgC",
        "colab_type": "code",
        "colab": {
          "base_uri": "https://localhost:8080/",
          "height": 34
        },
        "outputId": "f5903b1a-d47e-42d6-f377-62af3a0640ab"
      },
      "source": [
        "import pandas as pd\n",
        "import numpy as np\n",
        "from prettytable import PrettyTable\n",
        "import keras"
      ],
      "execution_count": 3,
      "outputs": [
        {
          "output_type": "stream",
          "text": [
            "Using TensorFlow backend.\n"
          ],
          "name": "stderr"
        }
      ]
    },
    {
      "cell_type": "code",
      "metadata": {
        "id": "fricmldxUsbm",
        "colab_type": "code",
        "colab": {}
      },
      "source": [
        "import warnings\n",
        "warnings.filterwarnings('ignore')"
      ],
      "execution_count": 4,
      "outputs": []
    },
    {
      "cell_type": "code",
      "metadata": {
        "id": "Y1_95qj5oQJC",
        "colab_type": "code",
        "colab": {}
      },
      "source": [
        "%%capture \n",
        "!pip install scikit-plot"
      ],
      "execution_count": 5,
      "outputs": []
    },
    {
      "cell_type": "markdown",
      "metadata": {
        "id": "VtV5gvuLRe81",
        "colab_type": "text"
      },
      "source": [
        "## Support utility functions "
      ]
    },
    {
      "cell_type": "code",
      "metadata": {
        "id": "jMd8EqaKTb_N",
        "colab_type": "code",
        "colab": {}
      },
      "source": [
        "%%capture\n",
        "! python -m spacy download it"
      ],
      "execution_count": null,
      "outputs": []
    },
    {
      "cell_type": "code",
      "metadata": {
        "id": "tuSMZTC5Rn5N",
        "colab_type": "code",
        "colab": {}
      },
      "source": [
        "import spacy\n",
        "import re\n",
        "import it_core_news_sm\n",
        "nlp =it_core_news_sm.load()"
      ],
      "execution_count": null,
      "outputs": []
    },
    {
      "cell_type": "code",
      "metadata": {
        "id": "yUscTytITSo4",
        "colab_type": "code",
        "colab": {}
      },
      "source": [
        "def clean_tweet(text):   \n",
        "  #remove urls \n",
        "  urls_pattern = 'http\\S+'\n",
        "  clean_version = re.sub(urls_pattern, ' ', text)\n",
        "\n",
        "  #replace hashtag symbol with whitespace\n",
        "  hashtag_pattern = '#(\\w+)'\n",
        "  clean_version = re.sub(hashtag_pattern, ' ', clean_version)\n",
        "\n",
        "  #replace - with whitespace\n",
        "  clean_version = clean_version.replace('-', ' ')\n",
        "\n",
        "  clean_version = clean_version.replace('_', ' ')\n",
        "\n",
        "  #replace \\ with whitespace\n",
        "  clean_version = clean_version.replace('\\'' , ' ')\n",
        "\n",
        "  #remove \\n \n",
        "  clean_version = clean_version.replace('\\n', ' ')\n",
        "\n",
        "  #remove emoji \n",
        "  emoji_pattern = re.compile(pattern = \"[\"\n",
        "        u\"\\U0001F600-\\U0001F64F\"  # emoticons\n",
        "        u\"\\U0001F300-\\U0001F5FF\"  # symbols & pictographs\n",
        "        u\"\\U0001F680-\\U0001F6FF\"  # transport & map symbols\n",
        "        u\"\\U0001F1E0-\\U0001F1FF\"  # flags (iOS)\n",
        "                           \"]+\", flags = re.UNICODE)\n",
        "  clean_version = emoji_pattern.sub(' ',clean_version)\n",
        "\n",
        "  #remove numbers \n",
        "  numbers_pattern = '\\d+'\n",
        "  clean_version = re.sub(numbers_pattern, ' ', clean_version)\n",
        "\n",
        "  #remove punctuation (remove also @)\n",
        "  punt_pattern = '[^\\w\\s]'\n",
        "  clean_version = re.sub(punt_pattern,' ',clean_version)\n",
        "\n",
        "  # remove multiple whitespace \n",
        "  clean_version = re.sub(' +', ' ', clean_version )\n",
        "\n",
        "  return clean_version.lower()"
      ],
      "execution_count": null,
      "outputs": []
    },
    {
      "cell_type": "code",
      "metadata": {
        "id": "yFtrCGjmzHWT",
        "colab_type": "code",
        "colab": {}
      },
      "source": [
        "# retrieve italian stopwords from file \n",
        "stop_word_file = open(\"tweet_data/italian_stop_words.txt\", \"r\")\n",
        "stopwords_italian = stop_word_file.read().split('\\n')\n",
        "set_word = set(stopwords_italian) #transform it to set to allow faster evaluation\n",
        "\n",
        "def lemmatize_text(text, stopword_list = set_word): \n",
        "  final_words = [] \n",
        "  lemmas = [token.lemma_ for token in nlp(text) \n",
        "              if token.pos_ in {'ADJ', 'ADV', 'NOUN', 'NUMERAL', 'NUM', 'PROPN','VERB'}]\n",
        "  for word in lemmas:  \n",
        "    if word not in stopword_list: \n",
        "      final_words.append(word)\n",
        "  return (\" \".join(final_words))"
      ],
      "execution_count": null,
      "outputs": []
    },
    {
      "cell_type": "markdown",
      "metadata": {
        "id": "PuFRGpr6qvLN",
        "colab_type": "text"
      },
      "source": [
        "## Retrieve original dataset and preprocess them \n",
        "\n",
        "Dataset source [GitHub](https://github.com/charlesmalafosse/open-dataset-for-sentiment-analysis \n",
        ")\n",
        "\n",
        "To run only the fist time (the result of the preprocess phase is saved into new csv files) "
      ]
    },
    {
      "cell_type": "markdown",
      "metadata": {
        "id": "FMIJIglvQ8qY",
        "colab_type": "text"
      },
      "source": [
        "### First dataset with tweets about footbal players"
      ]
    },
    {
      "cell_type": "code",
      "metadata": {
        "id": "aXZMOFHuS7R-",
        "colab_type": "code",
        "colab": {}
      },
      "source": [
        "sport_sentiment = pd.read_csv('tweet_data/sentiment.csv', encoding='ISO-8859-1')"
      ],
      "execution_count": null,
      "outputs": []
    },
    {
      "cell_type": "code",
      "metadata": {
        "id": "tqWPucjoV91u",
        "colab_type": "code",
        "colab": {
          "base_uri": "https://localhost:8080/",
          "height": 34
        },
        "outputId": "955d2d62-dcec-4869-fc9d-a43466eb36b5"
      },
      "source": [
        "sport_sentiment.shape"
      ],
      "execution_count": null,
      "outputs": [
        {
          "output_type": "execute_result",
          "data": {
            "text/plain": [
              "(165815, 9)"
            ]
          },
          "metadata": {
            "tags": []
          },
          "execution_count": 27
        }
      ]
    },
    {
      "cell_type": "code",
      "metadata": {
        "id": "kLH5gTXXTSwr",
        "colab_type": "code",
        "colab": {
          "base_uri": "https://localhost:8080/",
          "height": 101
        },
        "outputId": "85ef0189-9e0d-474a-81d8-07e9351ecdfc"
      },
      "source": [
        "sport_sentiment['sentiment'].value_counts()"
      ],
      "execution_count": null,
      "outputs": [
        {
          "output_type": "execute_result",
          "data": {
            "text/plain": [
              "NEUTRAL     135194\n",
              "POSITIVE     23552\n",
              "NEGATIVE      6542\n",
              "MIXED          527\n",
              "Name: sentiment, dtype: int64"
            ]
          },
          "metadata": {
            "tags": []
          },
          "execution_count": 28
        }
      ]
    },
    {
      "cell_type": "code",
      "metadata": {
        "id": "QCb-SmY5TSh5",
        "colab_type": "code",
        "colab": {
          "base_uri": "https://localhost:8080/",
          "height": 227
        },
        "outputId": "d107ef5c-61ce-4c3e-d8ce-365a86b9a1cd"
      },
      "source": [
        "sport_sentiment.head(2)"
      ],
      "execution_count": null,
      "outputs": [
        {
          "output_type": "execute_result",
          "data": {
            "text/html": [
              "<div>\n",
              "<style scoped>\n",
              "    .dataframe tbody tr th:only-of-type {\n",
              "        vertical-align: middle;\n",
              "    }\n",
              "\n",
              "    .dataframe tbody tr th {\n",
              "        vertical-align: top;\n",
              "    }\n",
              "\n",
              "    .dataframe thead th {\n",
              "        text-align: right;\n",
              "    }\n",
              "</style>\n",
              "<table border=\"1\" class=\"dataframe\">\n",
              "  <thead>\n",
              "    <tr style=\"text-align: right;\">\n",
              "      <th></th>\n",
              "      <th>tweet_date_created</th>\n",
              "      <th>tweet_id</th>\n",
              "      <th>tweet_text</th>\n",
              "      <th>language</th>\n",
              "      <th>sentiment</th>\n",
              "      <th>sentiment_score</th>\n",
              "      <th>cleaned_tweet</th>\n",
              "      <th>clean_tweet</th>\n",
              "      <th>clean_text</th>\n",
              "    </tr>\n",
              "  </thead>\n",
              "  <tbody>\n",
              "    <tr>\n",
              "      <th>0</th>\n",
              "      <td>2018-12-10T10:45:40.865000</td>\n",
              "      <td>1072079899224100865</td>\n",
              "      <td>@juventusfc @G_Higuain Auguri pipita,sempre co...</td>\n",
              "      <td>it</td>\n",
              "      <td>NEUTRAL</td>\n",
              "      <td>{\"Neutral\":0.858726024627685546875,\"Negative\":...</td>\n",
              "      <td>juventusfc g higuain auguri pipita sempre con...</td>\n",
              "      <td>juventusfc g higuain auguri pipita sempre con...</td>\n",
              "      <td>juventusfc higuain augurio pipita</td>\n",
              "    </tr>\n",
              "    <tr>\n",
              "      <th>1</th>\n",
              "      <td>2018-06-30T18:41:02.817000</td>\n",
              "      <td>1013130303454498817</td>\n",
              "      <td>@realvarriale @massimozampini @KMbappe @G_Higu...</td>\n",
              "      <td>it</td>\n",
              "      <td>NEUTRAL</td>\n",
              "      <td>{\"Neutral\":0.973993778228759765625,\"Negative\":...</td>\n",
              "      <td>realvarriale massimozampini kmbappe g higuain...</td>\n",
              "      <td>realvarriale massimozampini kmbappe g higuain...</td>\n",
              "      <td>realvarriale massimozampini kmbappe higuain pa...</td>\n",
              "    </tr>\n",
              "  </tbody>\n",
              "</table>\n",
              "</div>"
            ],
            "text/plain": [
              "           tweet_date_created  ...                                         clean_text\n",
              "0  2018-12-10T10:45:40.865000  ...                  juventusfc higuain augurio pipita\n",
              "1  2018-06-30T18:41:02.817000  ...  realvarriale massimozampini kmbappe higuain pa...\n",
              "\n",
              "[2 rows x 9 columns]"
            ]
          },
          "metadata": {
            "tags": []
          },
          "execution_count": 138
        }
      ]
    },
    {
      "cell_type": "code",
      "metadata": {
        "id": "CcB5UQInTStq",
        "colab_type": "code",
        "colab": {
          "base_uri": "https://localhost:8080/",
          "height": 50
        },
        "outputId": "c4d6d664-b55b-4d06-bbd1-8298de4ff540"
      },
      "source": [
        "%%time\n",
        "sport_sentiment['clean_tweet'] = sport_sentiment['tweet_text'].apply(clean_tweet)"
      ],
      "execution_count": null,
      "outputs": [
        {
          "output_type": "stream",
          "text": [
            "CPU times: user 3.54 s, sys: 14.1 ms, total: 3.55 s\n",
            "Wall time: 3.56 s\n"
          ],
          "name": "stdout"
        }
      ]
    },
    {
      "cell_type": "code",
      "metadata": {
        "id": "HRMO7khNz17x",
        "colab_type": "code",
        "colab": {
          "base_uri": "https://localhost:8080/",
          "height": 50
        },
        "outputId": "1406c8ff-8960-4162-b88c-e497c571a6ce"
      },
      "source": [
        "%%time\n",
        "sport_sentiment['clean_text'] = sport_sentiment['clean_tweet'].apply(lemmatize_text)"
      ],
      "execution_count": null,
      "outputs": [
        {
          "output_type": "stream",
          "text": [
            "CPU times: user 25min 41s, sys: 2.37 s, total: 25min 43s\n",
            "Wall time: 25min 45s\n"
          ],
          "name": "stdout"
        }
      ]
    },
    {
      "cell_type": "code",
      "metadata": {
        "id": "sEFC3m-F0FOp",
        "colab_type": "code",
        "colab": {}
      },
      "source": [
        "import csv\n",
        "columns = ['tweet_text', 'clean_tweet', 'clean_text', 'sentiment', 'sentiment_score']\n",
        "sport_sentiment[columns].to_csv('tweet_data/sport_player_new.csv', index=False, quoting=csv.QUOTE_ALL)"
      ],
      "execution_count": null,
      "outputs": []
    },
    {
      "cell_type": "markdown",
      "metadata": {
        "id": "8LgybNEOIkcy",
        "colab_type": "text"
      },
      "source": [
        "### Second dataset about football teams"
      ]
    },
    {
      "cell_type": "code",
      "metadata": {
        "id": "_R31CaMQIaHV",
        "colab_type": "code",
        "colab": {}
      },
      "source": [
        "sport_teams = pd.read_csv('tweet_data/sport_sentiment_team_1.csv', encoding='ISO-8859-1')"
      ],
      "execution_count": null,
      "outputs": []
    },
    {
      "cell_type": "code",
      "metadata": {
        "id": "pNJAA4wjIZ_6",
        "colab_type": "code",
        "colab": {
          "base_uri": "https://localhost:8080/",
          "height": 34
        },
        "outputId": "2a5a6d6a-805e-4a2e-d898-ec2eb6cdfcaf"
      },
      "source": [
        "sport_teams.shape"
      ],
      "execution_count": null,
      "outputs": [
        {
          "output_type": "execute_result",
          "data": {
            "text/plain": [
              "(259569, 8)"
            ]
          },
          "metadata": {
            "tags": []
          },
          "execution_count": 147
        }
      ]
    },
    {
      "cell_type": "code",
      "metadata": {
        "id": "oh5MZR65I-0-",
        "colab_type": "code",
        "colab": {
          "base_uri": "https://localhost:8080/",
          "height": 101
        },
        "outputId": "80bbd535-e3b4-48d9-9775-d289c9cb2bf7"
      },
      "source": [
        "sport_teams['sentiment'].value_counts()"
      ],
      "execution_count": null,
      "outputs": [
        {
          "output_type": "execute_result",
          "data": {
            "text/plain": [
              "NEUTRAL     226868\n",
              "POSITIVE     22883\n",
              "NEGATIVE      9441\n",
              "MIXED          377\n",
              "Name: sentiment, dtype: int64"
            ]
          },
          "metadata": {
            "tags": []
          },
          "execution_count": 142
        }
      ]
    },
    {
      "cell_type": "code",
      "metadata": {
        "id": "1iMBKVP6I-yv",
        "colab_type": "code",
        "colab": {
          "base_uri": "https://localhost:8080/",
          "height": 140
        },
        "outputId": "9c2fa6a5-d596-44e5-d796-3842807454c4"
      },
      "source": [
        "sport_teams.head(2)"
      ],
      "execution_count": null,
      "outputs": [
        {
          "output_type": "execute_result",
          "data": {
            "text/html": [
              "<div>\n",
              "<style scoped>\n",
              "    .dataframe tbody tr th:only-of-type {\n",
              "        vertical-align: middle;\n",
              "    }\n",
              "\n",
              "    .dataframe tbody tr th {\n",
              "        vertical-align: top;\n",
              "    }\n",
              "\n",
              "    .dataframe thead th {\n",
              "        text-align: right;\n",
              "    }\n",
              "</style>\n",
              "<table border=\"1\" class=\"dataframe\">\n",
              "  <thead>\n",
              "    <tr style=\"text-align: right;\">\n",
              "      <th></th>\n",
              "      <th>tweet_date_created</th>\n",
              "      <th>tweet_id</th>\n",
              "      <th>tweet_text</th>\n",
              "      <th>language</th>\n",
              "      <th>sentiment</th>\n",
              "      <th>sentiment_score</th>\n",
              "    </tr>\n",
              "  </thead>\n",
              "  <tbody>\n",
              "    <tr>\n",
              "      <th>0</th>\n",
              "      <td>2018-12-10T10:45:40.865000</td>\n",
              "      <td>1072079899224100865</td>\n",
              "      <td>@juventusfc @G_Higuain Auguri pipita,sempre co...</td>\n",
              "      <td>it</td>\n",
              "      <td>NEUTRAL</td>\n",
              "      <td>{\"Neutral\":0.858726024627685546875,\"Negative\":...</td>\n",
              "    </tr>\n",
              "    <tr>\n",
              "      <th>1</th>\n",
              "      <td>2018-12-26T19:40:44.308000</td>\n",
              "      <td>1078012758069858308</td>\n",
              "      <td>@OfficialASRoma @D_10Perotti @Hyundai_Italia S...</td>\n",
              "      <td>it</td>\n",
              "      <td>NEUTRAL</td>\n",
              "      <td>{\"Neutral\":0.9844334125518798828125,\"Negative\"...</td>\n",
              "    </tr>\n",
              "  </tbody>\n",
              "</table>\n",
              "</div>"
            ],
            "text/plain": [
              "           tweet_date_created  ...                                    sentiment_score\n",
              "0  2018-12-10T10:45:40.865000  ...  {\"Neutral\":0.858726024627685546875,\"Negative\":...\n",
              "1  2018-12-26T19:40:44.308000  ...  {\"Neutral\":0.9844334125518798828125,\"Negative\"...\n",
              "\n",
              "[2 rows x 6 columns]"
            ]
          },
          "metadata": {
            "tags": []
          },
          "execution_count": 143
        }
      ]
    },
    {
      "cell_type": "code",
      "metadata": {
        "id": "Ps2BRWXCI-wP",
        "colab_type": "code",
        "colab": {
          "base_uri": "https://localhost:8080/",
          "height": 50
        },
        "outputId": "6093fc86-bd03-4f39-b353-2acad3315c66"
      },
      "source": [
        "%%time\n",
        "sport_teams['clean_tweet'] = sport_teams['tweet_text'].apply(clean_tweet)"
      ],
      "execution_count": null,
      "outputs": [
        {
          "output_type": "stream",
          "text": [
            "CPU times: user 5.34 s, sys: 66.9 ms, total: 5.41 s\n",
            "Wall time: 5.41 s\n"
          ],
          "name": "stdout"
        }
      ]
    },
    {
      "cell_type": "code",
      "metadata": {
        "id": "nURJ59mgI-uR",
        "colab_type": "code",
        "colab": {
          "base_uri": "https://localhost:8080/",
          "height": 50
        },
        "outputId": "59ab9bf8-5ccf-4db6-b405-e4afe4aed137"
      },
      "source": [
        "%%time\n",
        "sport_teams['clean_text'] = sport_teams['clean_tweet'].apply(lemmatize_text)"
      ],
      "execution_count": null,
      "outputs": [
        {
          "output_type": "stream",
          "text": [
            "CPU times: user 40min 51s, sys: 3.72 s, total: 40min 55s\n",
            "Wall time: 40min 58s\n"
          ],
          "name": "stdout"
        }
      ]
    },
    {
      "cell_type": "code",
      "metadata": {
        "id": "BDA_-ZfrI-re",
        "colab_type": "code",
        "colab": {}
      },
      "source": [
        "import csv\n",
        "columns = ['tweet_text', 'clean_tweet', 'clean_text', 'sentiment', 'sentiment_score']\n",
        "sport_teams[columns].to_csv('tweet_data/sport_teams_new.csv', index=False, quoting=csv.QUOTE_ALL)"
      ],
      "execution_count": null,
      "outputs": []
    },
    {
      "cell_type": "code",
      "metadata": {
        "id": "y_b_wNYqI-nw",
        "colab_type": "code",
        "colab": {}
      },
      "source": [
        ""
      ],
      "execution_count": null,
      "outputs": []
    },
    {
      "cell_type": "markdown",
      "metadata": {
        "id": "UYx6J3cZVCHu",
        "colab_type": "text"
      },
      "source": [
        "### Create global sport dataset"
      ]
    },
    {
      "cell_type": "code",
      "metadata": {
        "id": "_XfuDajgU9G4",
        "colab_type": "code",
        "colab": {}
      },
      "source": [
        "player_sentiment = pd.read_csv('tweet_data/sport_player_new.csv', encoding='ISO-8859-1')\n",
        "team_sentiment = pd.read_csv('tweet_data/sport_teams_new.csv', encoding='ISO-8859-1')"
      ],
      "execution_count": null,
      "outputs": []
    },
    {
      "cell_type": "code",
      "metadata": {
        "id": "9uoU3PPMU89W",
        "colab_type": "code",
        "colab": {}
      },
      "source": [
        "# drop nan \n",
        "player_sentiment = player_sentiment[player_sentiment.clean_text.isna() == False ]\n",
        "team_sentiment = team_sentiment[team_sentiment.clean_text.isna() == False ]\n",
        "\n",
        "#drop \"mixed\" sentiment \n",
        "player_red = player_sentiment[player_sentiment.sentiment!='MIXED']\n",
        "team_red = team_sentiment[team_sentiment.sentiment!='MIXED']"
      ],
      "execution_count": null,
      "outputs": []
    },
    {
      "cell_type": "code",
      "metadata": {
        "id": "2RtXdLfEK5yF",
        "colab_type": "code",
        "colab": {
          "base_uri": "https://localhost:8080/",
          "height": 34
        },
        "outputId": "189e8a26-a182-412c-dd48-9c4a7cc89d42"
      },
      "source": [
        "player_red.shape"
      ],
      "execution_count": null,
      "outputs": [
        {
          "output_type": "execute_result",
          "data": {
            "text/plain": [
              "(165281, 5)"
            ]
          },
          "metadata": {
            "tags": []
          },
          "execution_count": 7
        }
      ]
    },
    {
      "cell_type": "code",
      "metadata": {
        "id": "JGoWEvohQtTB",
        "colab_type": "code",
        "colab": {
          "base_uri": "https://localhost:8080/",
          "height": 84
        },
        "outputId": "b7752889-25e2-45ef-c995-daedfa578e67"
      },
      "source": [
        "player_red_counts = player_red['sentiment'].value_counts()\n",
        "player_red_counts"
      ],
      "execution_count": null,
      "outputs": [
        {
          "output_type": "execute_result",
          "data": {
            "text/plain": [
              "NEUTRAL     135187\n",
              "POSITIVE     23552\n",
              "NEGATIVE      6542\n",
              "Name: sentiment, dtype: int64"
            ]
          },
          "metadata": {
            "tags": []
          },
          "execution_count": 8
        }
      ]
    },
    {
      "cell_type": "code",
      "metadata": {
        "id": "VIGKuvZSQ161",
        "colab_type": "code",
        "colab": {
          "base_uri": "https://localhost:8080/",
          "height": 67
        },
        "outputId": "e681696f-7843-4389-d12f-17220c74a8a6"
      },
      "source": [
        "print(\"neutral {}\".format(player_red_counts[0]/player_red.shape[0] *100))\n",
        "print(\"positive {}\".format(player_red_counts[1]/player_red.shape[0] *100))\n",
        "print(\"negative {}\".format(player_red_counts[2]/player_red.shape[0] *100))"
      ],
      "execution_count": null,
      "outputs": [
        {
          "output_type": "stream",
          "text": [
            "neutral 81.79222052141505\n",
            "positive 14.249671771104966\n",
            "negative 3.958107707479989\n"
          ],
          "name": "stdout"
        }
      ]
    },
    {
      "cell_type": "code",
      "metadata": {
        "id": "Jdq7Po_oK77t",
        "colab_type": "code",
        "colab": {
          "base_uri": "https://localhost:8080/",
          "height": 34
        },
        "outputId": "4f1454a6-238a-443f-a95d-bf7b82d8b180"
      },
      "source": [
        "team_red.shape"
      ],
      "execution_count": null,
      "outputs": [
        {
          "output_type": "execute_result",
          "data": {
            "text/plain": [
              "(258354, 5)"
            ]
          },
          "metadata": {
            "tags": []
          },
          "execution_count": 10
        }
      ]
    },
    {
      "cell_type": "code",
      "metadata": {
        "id": "RZkRTR3QQ8_k",
        "colab_type": "code",
        "colab": {
          "base_uri": "https://localhost:8080/",
          "height": 84
        },
        "outputId": "bf053173-ab70-45f0-b97f-b7f1c53c9256"
      },
      "source": [
        "team_red_counts = team_red['sentiment'].value_counts()\n",
        "team_red_counts"
      ],
      "execution_count": null,
      "outputs": [
        {
          "output_type": "execute_result",
          "data": {
            "text/plain": [
              "NEUTRAL     226102\n",
              "POSITIVE     22813\n",
              "NEGATIVE      9439\n",
              "Name: sentiment, dtype: int64"
            ]
          },
          "metadata": {
            "tags": []
          },
          "execution_count": 11
        }
      ]
    },
    {
      "cell_type": "code",
      "metadata": {
        "id": "VPNYJRYeRBz1",
        "colab_type": "code",
        "colab": {
          "base_uri": "https://localhost:8080/",
          "height": 67
        },
        "outputId": "2782f921-bee3-401a-b1d5-acccdf420211"
      },
      "source": [
        "print(\"neutral {}\".format(team_red_counts[0]/team_red.shape[0] *100))\n",
        "print(\"positive {}\".format(team_red_counts[1]/team_red.shape[0] *100))\n",
        "print(\"negative {}\".format(team_red_counts[2]/team_red.shape[0] *100))"
      ],
      "execution_count": null,
      "outputs": [
        {
          "output_type": "stream",
          "text": [
            "neutral 87.51635353042724\n",
            "positive 8.830132299093492\n",
            "negative 3.653514170479265\n"
          ],
          "name": "stdout"
        }
      ]
    },
    {
      "cell_type": "code",
      "metadata": {
        "id": "lzHyjiwK81p3",
        "colab_type": "code",
        "colab": {
          "base_uri": "https://localhost:8080/",
          "height": 34
        },
        "outputId": "08e8238a-93ec-4b34-9fab-0acc31af1da3"
      },
      "source": [
        "# create global dataset \n",
        "sport_sentiment_full = pd.concat([player_red, team_red], ignore_index=True)\n",
        "sport_sentiment_full.shape"
      ],
      "execution_count": null,
      "outputs": [
        {
          "output_type": "execute_result",
          "data": {
            "text/plain": [
              "(423635, 5)"
            ]
          },
          "metadata": {
            "tags": []
          },
          "execution_count": 7
        }
      ]
    },
    {
      "cell_type": "code",
      "metadata": {
        "id": "8qe1Xf0UICMJ",
        "colab_type": "code",
        "colab": {
          "base_uri": "https://localhost:8080/",
          "height": 84
        },
        "outputId": "992c5fb6-a7d6-4dd7-dd89-66e4cc9c0073"
      },
      "source": [
        "sentiment_counts = sport_sentiment_full['sentiment'].value_counts()\n",
        "sentiment_counts"
      ],
      "execution_count": null,
      "outputs": [
        {
          "output_type": "execute_result",
          "data": {
            "text/plain": [
              "NEUTRAL     361289\n",
              "POSITIVE     46365\n",
              "NEGATIVE     15981\n",
              "Name: sentiment, dtype: int64"
            ]
          },
          "metadata": {
            "tags": []
          },
          "execution_count": 14
        }
      ]
    },
    {
      "cell_type": "code",
      "metadata": {
        "id": "4135A0xlLg27",
        "colab_type": "code",
        "colab": {
          "base_uri": "https://localhost:8080/",
          "height": 67
        },
        "outputId": "b30fe7e6-3b3e-4790-fa71-f1bbdba9b102"
      },
      "source": [
        "print(\"neutral {}\".format(sentiment_counts[0]/sport_sentiment_full.shape[0] *100))\n",
        "print(\"positive {}\".format(sentiment_counts[1]/sport_sentiment_full.shape[0] *100))\n",
        "print(\"negative {}\".format(sentiment_counts[2]/sport_sentiment_full.shape[0] *100))\n"
      ],
      "execution_count": null,
      "outputs": [
        {
          "output_type": "stream",
          "text": [
            "neutral 85.28308567516848\n",
            "positive 10.944563126276158\n",
            "negative 3.7723511985553597\n"
          ],
          "name": "stdout"
        }
      ]
    },
    {
      "cell_type": "code",
      "metadata": {
        "id": "UoFPA2GoKWu1",
        "colab_type": "code",
        "colab": {}
      },
      "source": [
        "# # create global balanced dataset\n",
        "# sport_sentiment = sport_sentiment_full.groupby('sentiment').apply(lambda x: x.sample(n=15981)).reset_index(drop = True)\n",
        "# sport_sentiment.shape"
      ],
      "execution_count": null,
      "outputs": []
    },
    {
      "cell_type": "code",
      "metadata": {
        "id": "Huy3e6eOKj-5",
        "colab_type": "code",
        "colab": {}
      },
      "source": [
        "# sport_sentiment['sentiment'].value_counts()"
      ],
      "execution_count": null,
      "outputs": []
    },
    {
      "cell_type": "code",
      "metadata": {
        "id": "WB6bTRs-rXWr",
        "colab_type": "code",
        "colab": {
          "base_uri": "https://localhost:8080/",
          "height": 118
        },
        "outputId": "4a51c44f-838a-445d-a63e-488fee55c51f"
      },
      "source": [
        "sport_sentiment_full.isna().any()"
      ],
      "execution_count": null,
      "outputs": [
        {
          "output_type": "execute_result",
          "data": {
            "text/plain": [
              "tweet_text         False\n",
              "clean_tweet        False\n",
              "clean_text         False\n",
              "sentiment          False\n",
              "sentiment_score    False\n",
              "dtype: bool"
            ]
          },
          "metadata": {
            "tags": []
          },
          "execution_count": 18
        }
      ]
    },
    {
      "cell_type": "markdown",
      "metadata": {
        "id": "KMFBg6RpNsg9",
        "colab_type": "text"
      },
      "source": [
        "# Models"
      ]
    },
    {
      "cell_type": "code",
      "metadata": {
        "id": "Btqa1Q1wtMlz",
        "colab_type": "code",
        "colab": {}
      },
      "source": [
        "# if already run, load train and test files\n",
        "train = pd.read_csv(\"tweet_data/train.csv\", lineterminator='\\n')\n",
        "test = pd.read_csv(\"tweet_data/test.csv\", lineterminator='\\n') \n",
        "train_under = pd.read_csv(\"tweet_data/train_under.csv\", lineterminator='\\n')"
      ],
      "execution_count": 7,
      "outputs": []
    },
    {
      "cell_type": "code",
      "metadata": {
        "id": "5_AlSpL3WSUv",
        "colab_type": "code",
        "colab": {
          "base_uri": "https://localhost:8080/",
          "height": 50
        },
        "outputId": "5acdfa46-a0b2-4467-ce97-dfdf4d16885d"
      },
      "source": [
        "# otherwise divide train and test \n",
        "from sklearn.model_selection import train_test_split\n",
        "train, test = train_test_split(sport_sentiment_full, test_size=0.33, random_state=42)\n",
        "print(\"Train\", train.shape)\n",
        "print(\"Test\", test.shape)"
      ],
      "execution_count": null,
      "outputs": [
        {
          "output_type": "stream",
          "text": [
            "Train (283835, 5)\n",
            "Test (139800, 5)\n"
          ],
          "name": "stdout"
        }
      ]
    },
    {
      "cell_type": "code",
      "metadata": {
        "id": "Vy5DhsKQYCqT",
        "colab_type": "code",
        "colab": {}
      },
      "source": [
        "# To run only the first time to save the train and test dataset\n",
        "# train.to_csv('tweet_data/train.csv', index = False)\n",
        "# test.to_csv('tweet_data/test.csv', index = False)"
      ],
      "execution_count": null,
      "outputs": []
    },
    {
      "cell_type": "code",
      "metadata": {
        "id": "cPeH4LonIR4V",
        "colab_type": "code",
        "colab": {
          "base_uri": "https://localhost:8080/",
          "height": 84
        },
        "outputId": "f37b4339-5c3b-4cda-bb8c-a8c85372958c"
      },
      "source": [
        "train['sentiment'].value_counts()"
      ],
      "execution_count": null,
      "outputs": [
        {
          "output_type": "execute_result",
          "data": {
            "text/plain": [
              "NEUTRAL     242084\n",
              "POSITIVE     30994\n",
              "NEGATIVE     10757\n",
              "Name: sentiment, dtype: int64"
            ]
          },
          "metadata": {
            "tags": []
          },
          "execution_count": 20
        }
      ]
    },
    {
      "cell_type": "code",
      "metadata": {
        "id": "XxNPJ30kPEQt",
        "colab_type": "code",
        "colab": {}
      },
      "source": [
        "# under-sampling --> the category with less instances is the negative one with 10757 rows \n",
        "train_under = train.groupby('sentiment').apply(lambda x: x.sample(n=10757)).reset_index(drop = True)\n",
        "# train_under.to_csv('tweet_data/train_under.csv')"
      ],
      "execution_count": null,
      "outputs": []
    },
    {
      "cell_type": "code",
      "metadata": {
        "id": "DZ2z7ZPYWWoq",
        "colab_type": "code",
        "colab": {
          "base_uri": "https://localhost:8080/",
          "height": 34
        },
        "outputId": "5cf14294-209d-47ba-8f2a-487428f95994"
      },
      "source": [
        "train_under.shape"
      ],
      "execution_count": null,
      "outputs": [
        {
          "output_type": "execute_result",
          "data": {
            "text/plain": [
              "(32271, 5)"
            ]
          },
          "metadata": {
            "tags": []
          },
          "execution_count": 22
        }
      ]
    },
    {
      "cell_type": "code",
      "metadata": {
        "id": "oaL0AJeVWbD2",
        "colab_type": "code",
        "colab": {
          "base_uri": "https://localhost:8080/",
          "height": 84
        },
        "outputId": "7d64b3a6-5ae6-4c7f-de8c-988607ff0767"
      },
      "source": [
        "train_under['sentiment'].value_counts()"
      ],
      "execution_count": null,
      "outputs": [
        {
          "output_type": "execute_result",
          "data": {
            "text/plain": [
              "POSITIVE    10757\n",
              "NEUTRAL     10757\n",
              "NEGATIVE    10757\n",
              "Name: sentiment, dtype: int64"
            ]
          },
          "metadata": {
            "tags": []
          },
          "execution_count": 23
        }
      ]
    },
    {
      "cell_type": "markdown",
      "metadata": {
        "id": "oiYoTxOvTjj9",
        "colab_type": "text"
      },
      "source": [
        "## Logistic regression"
      ]
    },
    {
      "cell_type": "code",
      "metadata": {
        "id": "IEzdCKqql1cG",
        "colab_type": "code",
        "colab": {}
      },
      "source": [
        "# load the models (if already trained to avoid re-run all)\n",
        "from joblib import load\n",
        "logistic_under = load('tweet_data/models/logistic_under.joblib') \n",
        "logistic_over = load('tweet_data/models/logistic_over.joblib') \n",
        "logistic_original = load('tweet_data/models/logistic_original.joblib')"
      ],
      "execution_count": 5,
      "outputs": []
    },
    {
      "cell_type": "markdown",
      "metadata": {
        "id": "PorRgt5-spYU",
        "colab_type": "text"
      },
      "source": [
        "### Original dataset"
      ]
    },
    {
      "cell_type": "code",
      "metadata": {
        "id": "HeCurkjdssgn",
        "colab_type": "code",
        "colab": {
          "base_uri": "https://localhost:8080/",
          "height": 34
        },
        "outputId": "2816491a-3063-49d9-9824-ef533fce9531"
      },
      "source": [
        "# transfrom label into numbers\n",
        "from sklearn.preprocessing import LabelEncoder\n",
        "labels2numbers = LabelEncoder()\n",
        "y_original = labels2numbers.fit_transform(train['sentiment'])\n",
        "print(labels2numbers.classes_)"
      ],
      "execution_count": 11,
      "outputs": [
        {
          "output_type": "stream",
          "text": [
            "['NEGATIVE' 'NEUTRAL' 'POSITIVE']\n"
          ],
          "name": "stdout"
        }
      ]
    },
    {
      "cell_type": "code",
      "metadata": {
        "id": "6bP3n89Rstx4",
        "colab_type": "code",
        "colab": {
          "base_uri": "https://localhost:8080/",
          "height": 34
        },
        "outputId": "2cf44151-afb2-44aa-fd1d-afe3f6a0a0f6"
      },
      "source": [
        "from sklearn.feature_extraction.text import TfidfVectorizer\n",
        "\n",
        "vectorizer = TfidfVectorizer(ngram_range=(1,4), \n",
        "                             min_df=0.001, \n",
        "                             max_df=0.75)\n",
        "\n",
        "X_original = vectorizer.fit_transform(train['clean_text'])\n",
        "print(X_original.shape)"
      ],
      "execution_count": 10,
      "outputs": [
        {
          "output_type": "stream",
          "text": [
            "(283835, 1578)\n"
          ],
          "name": "stdout"
        }
      ]
    },
    {
      "cell_type": "code",
      "metadata": {
        "id": "yiWFLh9Ws12W",
        "colab_type": "code",
        "colab": {
          "base_uri": "https://localhost:8080/",
          "height": 134
        },
        "outputId": "22e7e322-6983-4255-e45c-71eb9b411084"
      },
      "source": [
        "# fitting the model \n",
        "from sklearn.linear_model import LogisticRegression\n",
        "logistic_original = LogisticRegression(n_jobs=-1)\n",
        "%time logistic_original.fit(X_original, y_original)\n",
        "print(logistic_original)"
      ],
      "execution_count": null,
      "outputs": [
        {
          "output_type": "stream",
          "text": [
            "CPU times: user 39.7 ms, sys: 126 ms, total: 166 ms\n",
            "Wall time: 12.8 s\n",
            "LogisticRegression(C=1.0, class_weight=None, dual=False, fit_intercept=True,\n",
            "                   intercept_scaling=1, l1_ratio=None, max_iter=100,\n",
            "                   multi_class='auto', n_jobs=-1, penalty='l2',\n",
            "                   random_state=None, solver='lbfgs', tol=0.0001, verbose=0,\n",
            "                   warm_start=False)\n"
          ],
          "name": "stdout"
        }
      ]
    },
    {
      "cell_type": "code",
      "metadata": {
        "id": "-Xim5JBPtDrk",
        "colab_type": "code",
        "colab": {}
      },
      "source": [
        "new_X = vectorizer.transform(test['clean_text']) # transform text into word counts \n",
        "new_y = labels2numbers.transform(test['sentiment']) # transfrom label into numbers \n",
        "new_predictions = logistic_original.predict(new_X) # prediction using the logistic classifier "
      ],
      "execution_count": 12,
      "outputs": []
    },
    {
      "cell_type": "code",
      "metadata": {
        "id": "7Bg1Sj9-tW0Z",
        "colab_type": "code",
        "colab": {
          "base_uri": "https://localhost:8080/",
          "height": 34
        },
        "outputId": "4445f4ea-4f30-4875-9097-e0235ce1db77"
      },
      "source": [
        "new_X.shape"
      ],
      "execution_count": null,
      "outputs": [
        {
          "output_type": "execute_result",
          "data": {
            "text/plain": [
              "(139800, 1578)"
            ]
          },
          "metadata": {
            "tags": []
          },
          "execution_count": 66
        }
      ]
    },
    {
      "cell_type": "code",
      "metadata": {
        "id": "UsPUhxzUtamW",
        "colab_type": "code",
        "colab": {
          "base_uri": "https://localhost:8080/",
          "height": 185
        },
        "outputId": "db1fe8bc-eeb6-4838-e814-705461a6d00e"
      },
      "source": [
        "from sklearn.metrics import classification_report\n",
        "print(classification_report(new_y, new_predictions))"
      ],
      "execution_count": 30,
      "outputs": [
        {
          "output_type": "stream",
          "text": [
            "              precision    recall  f1-score   support\n",
            "\n",
            "           0       0.63      0.18      0.28      5224\n",
            "           1       0.89      0.98      0.93    119205\n",
            "           2       0.70      0.34      0.45     15371\n",
            "\n",
            "    accuracy                           0.88    139800\n",
            "   macro avg       0.74      0.50      0.56    139800\n",
            "weighted avg       0.86      0.88      0.85    139800\n",
            "\n"
          ],
          "name": "stdout"
        }
      ]
    },
    {
      "cell_type": "code",
      "metadata": {
        "id": "nNlse0ejteNZ",
        "colab_type": "code",
        "colab": {
          "base_uri": "https://localhost:8080/",
          "height": 185
        },
        "outputId": "c8f07408-fac9-4436-e84a-e1588faff7fd"
      },
      "source": [
        "# baseline, assign all tweets to the most frequent category (neutral)\n",
        "baseline_predictions =  [labels2numbers.transform(['NEUTRAL'])] * len(new_y)\n",
        "print(classification_report(new_y, baseline_predictions))"
      ],
      "execution_count": 31,
      "outputs": [
        {
          "output_type": "stream",
          "text": [
            "              precision    recall  f1-score   support\n",
            "\n",
            "           0       0.00      0.00      0.00      5224\n",
            "           1       0.85      1.00      0.92    119205\n",
            "           2       0.00      0.00      0.00     15371\n",
            "\n",
            "    accuracy                           0.85    139800\n",
            "   macro avg       0.28      0.33      0.31    139800\n",
            "weighted avg       0.73      0.85      0.78    139800\n",
            "\n"
          ],
          "name": "stdout"
        }
      ]
    },
    {
      "cell_type": "code",
      "metadata": {
        "id": "6fEcL7-mlt2n",
        "colab_type": "code",
        "colab": {
          "base_uri": "https://localhost:8080/",
          "height": 34
        },
        "outputId": "ed98e27f-97f8-4367-8981-bbedc862d327"
      },
      "source": [
        "# ROC curve \n",
        "from sklearn import metrics\n",
        "fpr_original, tpr_original, thresholds_original = metrics.roc_curve(new_y, new_predictions, pos_label=0)\n",
        "auc_original = np.trapz(tpr_original,fpr_original)\n",
        "print('AUC:', auc_original)"
      ],
      "execution_count": 43,
      "outputs": [
        {
          "output_type": "stream",
          "text": [
            "AUC: 0.3951397546554473\n"
          ],
          "name": "stdout"
        }
      ]
    },
    {
      "cell_type": "code",
      "metadata": {
        "id": "ZDcO1I5bqyf2",
        "colab_type": "code",
        "colab": {
          "base_uri": "https://localhost:8080/",
          "height": 34
        },
        "outputId": "7145b688-a2af-4dae-a1b3-1ab8626a453e"
      },
      "source": [
        "# ROC curve \n",
        "from sklearn import metrics\n",
        "fpr_baseline, tpr_baseline, thresholds_baseline = metrics.roc_curve(new_y, baseline_predictions, pos_label=0)\n",
        "auc_baseline = np.trapz(tpr_baseline,fpr_baseline)\n",
        "print('AUC:', auc_baseline)"
      ],
      "execution_count": 44,
      "outputs": [
        {
          "output_type": "stream",
          "text": [
            "AUC: 0.5\n"
          ],
          "name": "stdout"
        }
      ]
    },
    {
      "cell_type": "code",
      "metadata": {
        "id": "XT9O77OnrLei",
        "colab_type": "code",
        "colab": {
          "base_uri": "https://localhost:8080/",
          "height": 265
        },
        "outputId": "c7f403dd-fdea-415e-dbd4-9dbe9ba89d9b"
      },
      "source": [
        "import matplotlib.pyplot as plt\n",
        "# Print ROC curve\n",
        "plt.plot(fpr_original,tpr_original)\n",
        "plt.plot(fpr_baseline, tpr_baseline)\n",
        "plt.show() "
      ],
      "execution_count": 37,
      "outputs": [
        {
          "output_type": "display_data",
          "data": {
            "image/png": "[encoded data removed]",
            "text/plain": [
              "<Figure size 432x288 with 1 Axes>"
            ]
          },
          "metadata": {
            "tags": [],
            "needs_background": "light"
          }
        }
      ]
    },
    {
      "cell_type": "code",
      "metadata": {
        "id": "17dpRpLazN8f",
        "colab_type": "code",
        "colab": {
          "base_uri": "https://localhost:8080/",
          "height": 34
        },
        "outputId": "a88a7de0-4608-4082-a34e-764cd09dfefb"
      },
      "source": [
        "# save the model \n",
        "from joblib import dump\n",
        "dump(logistic_original, 'tweet_data/models/logistic_original.joblib') "
      ],
      "execution_count": null,
      "outputs": [
        {
          "output_type": "execute_result",
          "data": {
            "text/plain": [
              "['tweet_data/models/logistic_original.joblib']"
            ]
          },
          "metadata": {
            "tags": []
          },
          "execution_count": 74
        }
      ]
    },
    {
      "cell_type": "markdown",
      "metadata": {
        "id": "g5YJZcjFLn37",
        "colab_type": "text"
      },
      "source": [
        "### Under-sampling dataset"
      ]
    },
    {
      "cell_type": "code",
      "metadata": {
        "id": "bN0LE_fCUh9l",
        "colab_type": "code",
        "colab": {
          "base_uri": "https://localhost:8080/",
          "height": 34
        },
        "outputId": "51ddf370-0cf0-45d3-b47a-4c6b0a35b93d"
      },
      "source": [
        "#transfrom label into numbers\n",
        "from sklearn.preprocessing import LabelEncoder\n",
        "labels2numbers = LabelEncoder()\n",
        "y_under = labels2numbers.fit_transform(train_under['sentiment'])\n",
        "print(labels2numbers.classes_)"
      ],
      "execution_count": 45,
      "outputs": [
        {
          "output_type": "stream",
          "text": [
            "['NEGATIVE' 'NEUTRAL' 'POSITIVE']\n"
          ],
          "name": "stdout"
        }
      ]
    },
    {
      "cell_type": "code",
      "metadata": {
        "id": "TNgvkL5gVL_M",
        "colab_type": "code",
        "colab": {
          "base_uri": "https://localhost:8080/",
          "height": 34
        },
        "outputId": "c23309e3-5388-45d1-e9d0-b9a1e30b2d95"
      },
      "source": [
        "from sklearn.feature_extraction.text import TfidfVectorizer\n",
        "\n",
        "vectorizer = TfidfVectorizer(ngram_range=(1,4), \n",
        "                             min_df=0.001, \n",
        "                             max_df=0.75)\n",
        "\n",
        "X_under = vectorizer.fit_transform(train_under['clean_text'])\n",
        "print(X_under.shape)"
      ],
      "execution_count": 46,
      "outputs": [
        {
          "output_type": "stream",
          "text": [
            "(32271, 1610)\n"
          ],
          "name": "stdout"
        }
      ]
    },
    {
      "cell_type": "code",
      "metadata": {
        "id": "SyrrixouVj9C",
        "colab_type": "code",
        "colab": {
          "base_uri": "https://localhost:8080/",
          "height": 134
        },
        "outputId": "0df6a49a-4c2d-41ea-9ef3-5b169b451c84"
      },
      "source": [
        "#fitting the model \n",
        "from sklearn.linear_model import LogisticRegression\n",
        "logistic_under = LogisticRegression(n_jobs=-1, class_weight='balanced')\n",
        "%time logistic_under.fit(X_under, y_under)\n",
        "print(logistic_under)"
      ],
      "execution_count": null,
      "outputs": [
        {
          "output_type": "stream",
          "text": [
            "CPU times: user 19.3 ms, sys: 58.8 ms, total: 78.1 ms\n",
            "Wall time: 2.56 s\n",
            "LogisticRegression(C=1.0, class_weight='balanced', dual=False,\n",
            "                   fit_intercept=True, intercept_scaling=1, l1_ratio=None,\n",
            "                   max_iter=100, multi_class='auto', n_jobs=-1, penalty='l2',\n",
            "                   random_state=None, solver='lbfgs', tol=0.0001, verbose=0,\n",
            "                   warm_start=False)\n"
          ],
          "name": "stdout"
        }
      ]
    },
    {
      "cell_type": "code",
      "metadata": {
        "id": "LylUnfdsVp_I",
        "colab_type": "code",
        "colab": {}
      },
      "source": [
        "new_X = vectorizer.transform(test['clean_text']) # transform text into word counts \n",
        "new_y = labels2numbers.transform(test['sentiment']) # transfrom label into numbers \n",
        "new_predictions = logistic_under.predict(new_X) # prediction using the logistic classifier "
      ],
      "execution_count": 47,
      "outputs": []
    },
    {
      "cell_type": "code",
      "metadata": {
        "id": "Sn2tlVONSs_-",
        "colab_type": "code",
        "colab": {
          "base_uri": "https://localhost:8080/",
          "height": 34
        },
        "outputId": "db22cc53-2f1c-4632-e1f8-83fa162cfac9"
      },
      "source": [
        "new_X.shape"
      ],
      "execution_count": null,
      "outputs": [
        {
          "output_type": "execute_result",
          "data": {
            "text/plain": [
              "(139800, 1610)"
            ]
          },
          "metadata": {
            "tags": []
          },
          "execution_count": 17
        }
      ]
    },
    {
      "cell_type": "code",
      "metadata": {
        "id": "KIzOlvsXXUjL",
        "colab_type": "code",
        "colab": {
          "base_uri": "https://localhost:8080/",
          "height": 185
        },
        "outputId": "b625f227-9911-4455-d50a-90c9ffeafa53"
      },
      "source": [
        "from sklearn.metrics import classification_report\n",
        "print(classification_report(new_y, new_predictions))"
      ],
      "execution_count": null,
      "outputs": [
        {
          "output_type": "stream",
          "text": [
            "              precision    recall  f1-score   support\n",
            "\n",
            "           0       0.18      0.76      0.29      5224\n",
            "           1       0.95      0.70      0.81    119205\n",
            "           2       0.37      0.70      0.48     15371\n",
            "\n",
            "    accuracy                           0.70    139800\n",
            "   macro avg       0.50      0.72      0.53    139800\n",
            "weighted avg       0.86      0.70      0.75    139800\n",
            "\n"
          ],
          "name": "stdout"
        }
      ]
    },
    {
      "cell_type": "code",
      "metadata": {
        "id": "H8XHLcA6sUm7",
        "colab_type": "code",
        "colab": {
          "base_uri": "https://localhost:8080/",
          "height": 34
        },
        "outputId": "91940e63-e91a-4f21-8e97-6d6052ebaf5f"
      },
      "source": [
        "# ROC curve \n",
        "from sklearn import metrics\n",
        "fpr_under, tpr_under, thresholds_under = metrics.roc_curve(new_y, new_predictions, pos_label=0)\n",
        "auc_under = np.trapz(tpr_under,fpr_under)\n",
        "print('AUC:', auc_under)"
      ],
      "execution_count": 49,
      "outputs": [
        {
          "output_type": "stream",
          "text": [
            "AUC: 0.19211367574307\n"
          ],
          "name": "stdout"
        }
      ]
    },
    {
      "cell_type": "code",
      "metadata": {
        "id": "8tz-TUv7sVl1",
        "colab_type": "code",
        "colab": {
          "base_uri": "https://localhost:8080/",
          "height": 282
        },
        "outputId": "3b5d82f6-cf00-46bf-a209-120c4b42b09d"
      },
      "source": [
        "import matplotlib.pyplot as plt\n",
        "# Print ROC curve\n",
        "plt.plot(fpr_under,tpr_under)"
      ],
      "execution_count": 50,
      "outputs": [
        {
          "output_type": "execute_result",
          "data": {
            "text/plain": [
              "[<matplotlib.lines.Line2D at 0x7f9d9f6146a0>]"
            ]
          },
          "metadata": {
            "tags": []
          },
          "execution_count": 50
        },
        {
          "output_type": "display_data",
          "data": {
            "image/png": "[encoded data removed]",
            "text/plain": [
              "<Figure size 432x288 with 1 Axes>"
            ]
          },
          "metadata": {
            "tags": [],
            "needs_background": "light"
          }
        }
      ]
    },
    {
      "cell_type": "code",
      "metadata": {
        "id": "TF6PmKtGSKqS",
        "colab_type": "code",
        "colab": {
          "base_uri": "https://localhost:8080/",
          "height": 34
        },
        "outputId": "3f2fb564-f706-461b-fdb4-d019e1d746ac"
      },
      "source": [
        "# save the model \n",
        "from joblib import dump\n",
        "dump(logistic_under, 'tweet_data/models/logistic_under.joblib') "
      ],
      "execution_count": null,
      "outputs": [
        {
          "output_type": "execute_result",
          "data": {
            "text/plain": [
              "['tweet_data/models/logistic_under.joblib']"
            ]
          },
          "metadata": {
            "tags": []
          },
          "execution_count": 19
        }
      ]
    },
    {
      "cell_type": "markdown",
      "metadata": {
        "id": "X0Kbz5x9BDcW",
        "colab_type": "text"
      },
      "source": [
        "### Over-sampling dataset"
      ]
    },
    {
      "cell_type": "code",
      "metadata": {
        "id": "BM2VZmDuIOfJ",
        "colab_type": "code",
        "colab": {}
      },
      "source": [
        "%%capture\n",
        "!pip install imbalanced-learn"
      ],
      "execution_count": null,
      "outputs": []
    },
    {
      "cell_type": "code",
      "metadata": {
        "id": "CNH7m10FAj4v",
        "colab_type": "code",
        "colab": {
          "base_uri": "https://localhost:8080/",
          "height": 50
        },
        "outputId": "a6bd35b9-f4c8-49dd-a651-e5b0881691c8"
      },
      "source": [
        "#transfrom label into numbers\n",
        "from sklearn.preprocessing import LabelEncoder\n",
        "labels2numbers = LabelEncoder()\n",
        "y = labels2numbers.fit_transform(train['sentiment'])\n",
        "print(labels2numbers.classes_)\n",
        "\n",
        "from sklearn.feature_extraction.text import TfidfVectorizer\n",
        "vectorizer = TfidfVectorizer(ngram_range=(1,4), \n",
        "                             min_df=0.001, \n",
        "                             max_df=0.75)\n",
        "\n",
        "X = vectorizer.fit_transform(train['clean_text'])\n",
        "print(X.shape)"
      ],
      "execution_count": null,
      "outputs": [
        {
          "output_type": "stream",
          "text": [
            "['NEGATIVE' 'NEUTRAL' 'POSITIVE']\n",
            "(283835, 1578)\n"
          ],
          "name": "stdout"
        }
      ]
    },
    {
      "cell_type": "code",
      "metadata": {
        "id": "exBxXoKk04MP",
        "colab_type": "code",
        "colab": {
          "base_uri": "https://localhost:8080/",
          "height": 50
        },
        "outputId": "e699ca3d-f3f2-45d7-fe01-aef37764cff6"
      },
      "source": [
        "# over-sampling with SMOTE\n",
        "from imblearn.over_sampling import SMOTE\n",
        "oversample = SMOTE()\n",
        "%time X_over, y_over = oversample.fit_resample(X, y)"
      ],
      "execution_count": null,
      "outputs": [
        {
          "output_type": "stream",
          "text": [
            "CPU times: user 6min 11s, sys: 7.09 s, total: 6min 18s\n",
            "Wall time: 6min 5s\n"
          ],
          "name": "stdout"
        }
      ]
    },
    {
      "cell_type": "code",
      "metadata": {
        "id": "xMUg-p-WIhPd",
        "colab_type": "code",
        "colab": {
          "base_uri": "https://localhost:8080/",
          "height": 34
        },
        "outputId": "399ba1a1-d816-4886-f5d0-0d83a4e58ea2"
      },
      "source": [
        "X_over.shape"
      ],
      "execution_count": null,
      "outputs": [
        {
          "output_type": "execute_result",
          "data": {
            "text/plain": [
              "(726252, 1578)"
            ]
          },
          "metadata": {
            "tags": []
          },
          "execution_count": 42
        }
      ]
    },
    {
      "cell_type": "code",
      "metadata": {
        "id": "V-tM4GR_bB6B",
        "colab_type": "code",
        "colab": {}
      },
      "source": [
        "# save the sparse matrix X_over\n",
        "from scipy import sparse\n",
        "sparse.save_npz(\"X_over.npz\", X_over)\n",
        "np.save('y_over.npy', y_over)"
      ],
      "execution_count": null,
      "outputs": []
    },
    {
      "cell_type": "code",
      "metadata": {
        "id": "ft8DBpjqAtWS",
        "colab_type": "code",
        "colab": {
          "base_uri": "https://localhost:8080/",
          "height": 134
        },
        "outputId": "4e646ad5-dfd9-4abc-d7c4-12d8d42d3c58"
      },
      "source": [
        "#fitting the model \n",
        "from sklearn.linear_model import LogisticRegression\n",
        "\n",
        "logistic_over = LogisticRegression(n_jobs=-1, class_weight='balanced')\n",
        "%time logistic_over.fit(X_over, y_over)\n",
        "print(logistic_over)"
      ],
      "execution_count": null,
      "outputs": [
        {
          "output_type": "stream",
          "text": [
            "CPU times: user 58.2 ms, sys: 206 ms, total: 264 ms\n",
            "Wall time: 32.6 s\n",
            "LogisticRegression(C=1.0, class_weight='balanced', dual=False,\n",
            "                   fit_intercept=True, intercept_scaling=1, l1_ratio=None,\n",
            "                   max_iter=100, multi_class='auto', n_jobs=-1, penalty='l2',\n",
            "                   random_state=None, solver='lbfgs', tol=0.0001, verbose=0,\n",
            "                   warm_start=False)\n"
          ],
          "name": "stdout"
        }
      ]
    },
    {
      "cell_type": "code",
      "metadata": {
        "id": "WV2exfR09Sk9",
        "colab_type": "code",
        "colab": {}
      },
      "source": [
        "new_X = vectorizer.transform(test['clean_text']) # transform text into word counts\n",
        "new_y = labels2numbers.transform(test['sentiment']) # transform labels into numbers\n",
        "new_predictions = logistic_over.predict(new_X) # prediction using the logistic classifier "
      ],
      "execution_count": null,
      "outputs": []
    },
    {
      "cell_type": "code",
      "metadata": {
        "id": "WguCzj1q04FH",
        "colab_type": "code",
        "colab": {
          "base_uri": "https://localhost:8080/",
          "height": 185
        },
        "outputId": "f6064815-fd52-40e8-c7ab-bce5938cc4b3"
      },
      "source": [
        "from sklearn.metrics import classification_report\n",
        "print(classification_report(new_y, new_predictions))"
      ],
      "execution_count": null,
      "outputs": [
        {
          "output_type": "stream",
          "text": [
            "              precision    recall  f1-score   support\n",
            "\n",
            "           0       0.13      0.64      0.22      5224\n",
            "           1       0.94      0.68      0.78    119205\n",
            "           2       0.36      0.67      0.47     15371\n",
            "\n",
            "    accuracy                           0.67    139800\n",
            "   macro avg       0.48      0.66      0.49    139800\n",
            "weighted avg       0.84      0.67      0.73    139800\n",
            "\n"
          ],
          "name": "stdout"
        }
      ]
    },
    {
      "cell_type": "code",
      "metadata": {
        "id": "TAdCepTWSRl_",
        "colab_type": "code",
        "colab": {
          "base_uri": "https://localhost:8080/",
          "height": 34
        },
        "outputId": "236e72d4-df00-4da9-ebae-94b08b401cbf"
      },
      "source": [
        "# save the model \n",
        "from joblib import dump\n",
        "dump(logistic_over, 'tweet_data/models/logistic_over.joblib') "
      ],
      "execution_count": null,
      "outputs": [
        {
          "output_type": "execute_result",
          "data": {
            "text/plain": [
              "['tweet_data/models/logistic_over.joblib']"
            ]
          },
          "metadata": {
            "tags": []
          },
          "execution_count": 48
        }
      ]
    },
    {
      "cell_type": "markdown",
      "metadata": {
        "id": "Q454quVZQm0J",
        "colab_type": "text"
      },
      "source": [
        "## Deep Learning"
      ]
    },
    {
      "cell_type": "markdown",
      "metadata": {
        "id": "eL7N8A7BrIFI",
        "colab_type": "text"
      },
      "source": [
        "We consider only two sentiment: negative and non-negative (that includes positive and neutral tweets)"
      ]
    },
    {
      "cell_type": "code",
      "metadata": {
        "id": "dO0Hx5abHBta",
        "colab_type": "code",
        "colab": {}
      },
      "source": [
        "train = pd.read_csv(\"tweet_data/train.csv\", lineterminator='\\n')\n",
        "test = pd.read_csv(\"tweet_data/test.csv\", lineterminator='\\n')\n",
        "train_under  = pd.read_csv(\"tweet_data/train_under.csv\", lineterminator='\\n')"
      ],
      "execution_count": null,
      "outputs": []
    },
    {
      "cell_type": "code",
      "metadata": {
        "id": "3NqghQo-QqPM",
        "colab_type": "code",
        "colab": {}
      },
      "source": [
        "# the new train and test files are obtained from the original (unbalanced) version of the sport dataset\n",
        "train_dual = train[train['sentiment'] != 'NEUTRAL']\n",
        "test_dual = test[test['sentiment'] != 'NEUTRAL']"
      ],
      "execution_count": null,
      "outputs": []
    },
    {
      "cell_type": "code",
      "metadata": {
        "id": "RIGDebzAi1e5",
        "colab_type": "code",
        "colab": {
          "base_uri": "https://localhost:8080/",
          "height": 50
        },
        "outputId": "57ee6033-433e-46c9-b284-c978b97817b2"
      },
      "source": [
        "sentiment_label = train_dual.sentiment.factorize()\n",
        "sentiment_label"
      ],
      "execution_count": null,
      "outputs": [
        {
          "output_type": "execute_result",
          "data": {
            "text/plain": [
              "(array([0, 1, 0, ..., 0, 0, 1]),\n",
              " Index(['POSITIVE', 'NEGATIVE'], dtype='object'))"
            ]
          },
          "metadata": {
            "tags": []
          },
          "execution_count": 32
        }
      ]
    },
    {
      "cell_type": "markdown",
      "metadata": {
        "id": "r7c2SkuMPb_B",
        "colab_type": "text"
      },
      "source": [
        "### LSTM - Binary "
      ]
    },
    {
      "cell_type": "code",
      "metadata": {
        "id": "bm_eubJPhx-7",
        "colab_type": "code",
        "colab": {}
      },
      "source": [
        "from tensorflow.keras.preprocessing.text import Tokenizer\n",
        "from tensorflow.keras.preprocessing.sequence import pad_sequences\n",
        "\n",
        "tweet = train_dual.clean_text # retrive the text data \n",
        "\n",
        "tokenizer = Tokenizer(num_words=10000)\n",
        "tokenizer.fit_on_texts(tweet)\n",
        "vocab_size = len(tokenizer.word_index) + 1\n",
        "encoded_docs = tokenizer.texts_to_sequences(tweet)\n",
        "\n",
        "padded_sequence = pad_sequences(encoded_docs, maxlen=200) #padding "
      ],
      "execution_count": null,
      "outputs": []
    },
    {
      "cell_type": "code",
      "metadata": {
        "id": "M-Hpf7SwiQLk",
        "colab_type": "code",
        "colab": {
          "base_uri": "https://localhost:8080/",
          "height": 336
        },
        "outputId": "c8035a98-305c-4379-8449-ca35b09546fe"
      },
      "source": [
        "# Build the model\n",
        "from tensorflow.keras.models import Sequential\n",
        "from tensorflow.keras.layers import LSTM, Dense, Dropout\n",
        "from tensorflow.keras.layers import SpatialDropout1D\n",
        "from tensorflow.keras.layers import Embedding\n",
        "\n",
        "embedding_vector_length = 32\n",
        "model = Sequential()\n",
        "model.add(Embedding(vocab_size, embedding_vector_length, input_length=200) )\n",
        "# model.add(SpatialDropout1D(0.25))\n",
        "model.add(LSTM(50, dropout=0.5, recurrent_dropout=0.5))\n",
        "model.add(Dropout(0.2))\n",
        "model.add(Dense(1, activation='sigmoid'))\n",
        "model.compile(loss='binary_crossentropy', optimizer='adam', metrics=['accuracy'])\n",
        "print(model.summary())"
      ],
      "execution_count": null,
      "outputs": [
        {
          "output_type": "stream",
          "text": [
            "Model: \"sequential\"\n",
            "_________________________________________________________________\n",
            "Layer (type)                 Output Shape              Param #   \n",
            "=================================================================\n",
            "embedding (Embedding)        (None, 200, 32)           939168    \n",
            "_________________________________________________________________\n",
            "spatial_dropout1d (SpatialDr (None, 200, 32)           0         \n",
            "_________________________________________________________________\n",
            "lstm (LSTM)                  (None, 50)                16600     \n",
            "_________________________________________________________________\n",
            "dropout (Dropout)            (None, 50)                0         \n",
            "_________________________________________________________________\n",
            "dense (Dense)                (None, 1)                 51        \n",
            "=================================================================\n",
            "Total params: 955,819\n",
            "Trainable params: 955,819\n",
            "Non-trainable params: 0\n",
            "_________________________________________________________________\n",
            "None\n"
          ],
          "name": "stdout"
        }
      ]
    },
    {
      "cell_type": "code",
      "metadata": {
        "id": "oKCd2dpKihTY",
        "colab_type": "code",
        "colab": {
          "base_uri": "https://localhost:8080/",
          "height": 185
        },
        "outputId": "75d5fbe2-885d-45ad-9cb6-85afbe73692c"
      },
      "source": [
        "history = model.fit(padded_sequence,sentiment_label[0],\n",
        "                  validation_split=0.2, epochs=5, batch_size=32)"
      ],
      "execution_count": null,
      "outputs": [
        {
          "output_type": "stream",
          "text": [
            "Epoch 1/5\n",
            "1044/1044 [==============================] - 265s 254ms/step - loss: 0.3302 - accuracy: 0.8569 - val_loss: 0.2440 - val_accuracy: 0.8999\n",
            "Epoch 2/5\n",
            "1044/1044 [==============================] - 268s 257ms/step - loss: 0.2103 - accuracy: 0.9178 - val_loss: 0.2358 - val_accuracy: 0.9062\n",
            "Epoch 3/5\n",
            "1044/1044 [==============================] - 266s 255ms/step - loss: 0.1834 - accuracy: 0.9302 - val_loss: 0.2365 - val_accuracy: 0.9080\n",
            "Epoch 4/5\n",
            "1044/1044 [==============================] - 264s 253ms/step - loss: 0.1626 - accuracy: 0.9380 - val_loss: 0.2466 - val_accuracy: 0.9049\n",
            "Epoch 5/5\n",
            "1044/1044 [==============================] - 269s 258ms/step - loss: 0.1485 - accuracy: 0.9449 - val_loss: 0.2560 - val_accuracy: 0.9055\n"
          ],
          "name": "stdout"
        }
      ]
    },
    {
      "cell_type": "code",
      "metadata": {
        "id": "WPhG7G9-uKd0",
        "colab_type": "code",
        "colab": {}
      },
      "source": [
        "model.save('lstm.h5')"
      ],
      "execution_count": null,
      "outputs": []
    },
    {
      "cell_type": "code",
      "metadata": {
        "id": "ViJzjufmHTIy",
        "colab_type": "code",
        "colab": {}
      },
      "source": [
        "# load the lstm model if already trained \n",
        "import tensorflow as tf \n",
        "model = tf.keras.models.load_model('lstm.h5')\n",
        "# from keras.models import load_model\n",
        "# model = load_model('lstm.h5') "
      ],
      "execution_count": null,
      "outputs": []
    },
    {
      "cell_type": "code",
      "metadata": {
        "id": "5BEOwd_emDc4",
        "colab_type": "code",
        "colab": {
          "base_uri": "https://localhost:8080/",
          "height": 295
        },
        "outputId": "f351c9f2-88f4-4558-8625-b6008d63485f"
      },
      "source": [
        "# plot train and validation loss\n",
        "%matplotlib inline\n",
        "import matplotlib.pyplot as plt\n",
        "plt.plot(history.history['loss'])\n",
        "plt.plot(history.history['val_loss'])\n",
        "plt.title('model train vs validation loss')\n",
        "plt.ylabel('loss')\n",
        "plt.xlabel('epoch')\n",
        "plt.legend(['train', 'validation'], loc='upper right')\n",
        "plt.show()"
      ],
      "execution_count": null,
      "outputs": [
        {
          "output_type": "display_data",
          "data": {
            "image/png": "[encoded data removed]",
            "text/plain": [
              "<Figure size 432x288 with 1 Axes>"
            ]
          },
          "metadata": {
            "tags": [],
            "needs_background": "light"
          }
        }
      ]
    },
    {
      "cell_type": "code",
      "metadata": {
        "id": "lom2vymXjn9F",
        "colab_type": "code",
        "colab": {}
      },
      "source": [
        "tw = tokenizer.texts_to_sequences(test_dual.clean_text)\n",
        "tw = pad_sequences(tw,maxlen=200)\n",
        "prediction = model.predict(tw)"
      ],
      "execution_count": null,
      "outputs": []
    },
    {
      "cell_type": "code",
      "metadata": {
        "id": "bkSISOK2mC_L",
        "colab_type": "code",
        "colab": {}
      },
      "source": [
        "# 0 is POSITIVE, 1 is NEGATIVE\n",
        "# we consider a score < 0.5 as POSITIVE and a score > 0.5 as NEGATIVE\n",
        "sentiment = []\n",
        "for pred in prediction: \n",
        "  if pred < 0.5: \n",
        "    sentiment.append('POSITIVE')\n",
        "  else: \n",
        "    sentiment.append('NEGATIVE')"
      ],
      "execution_count": null,
      "outputs": []
    },
    {
      "cell_type": "code",
      "metadata": {
        "id": "iYW_22aJxCG9",
        "colab_type": "code",
        "colab": {
          "base_uri": "https://localhost:8080/",
          "height": 168
        },
        "outputId": "d8b2d225-1f50-4ac5-c2b8-fd1eb67b62e5"
      },
      "source": [
        "from sklearn.metrics import classification_report\n",
        "print(classification_report(test_dual['sentiment'], sentiment))"
      ],
      "execution_count": null,
      "outputs": [
        {
          "output_type": "stream",
          "text": [
            "              precision    recall  f1-score   support\n",
            "\n",
            "    NEGATIVE       0.82      0.80      0.81      5224\n",
            "    POSITIVE       0.93      0.94      0.94     15371\n",
            "\n",
            "    accuracy                           0.90     20595\n",
            "   macro avg       0.88      0.87      0.87     20595\n",
            "weighted avg       0.90      0.90      0.90     20595\n",
            "\n"
          ],
          "name": "stdout"
        }
      ]
    },
    {
      "cell_type": "code",
      "metadata": {
        "id": "pAp1G3alpkXt",
        "colab_type": "code",
        "colab": {
          "base_uri": "https://localhost:8080/",
          "height": 34
        },
        "outputId": "ae1e9408-1bb1-43fb-a3b9-7be200e6bc28"
      },
      "source": [
        "print(sentiment[0], test_dual['tweet_text'][15])"
      ],
      "execution_count": null,
      "outputs": [
        {
          "output_type": "stream",
          "text": [
            "NEGATIVE Tanti auguri @G_Higuain sarÃ  ma cmq a me manchi...E mi dispiace vederti li ?auguri #pipita\n"
          ],
          "name": "stdout"
        }
      ]
    },
    {
      "cell_type": "markdown",
      "metadata": {
        "id": "Cg9uVsM_S9Cn",
        "colab_type": "text"
      },
      "source": [
        "### LSTM - Categorical"
      ]
    },
    {
      "cell_type": "code",
      "metadata": {
        "id": "6RO8olsQJA9w",
        "colab_type": "code",
        "colab": {}
      },
      "source": [
        "train = pd.read_csv(\"tweet_data/train.csv\", lineterminator='\\n')\n",
        "test = pd.read_csv(\"tweet_data/test.csv\", lineterminator='\\n')\n",
        "train_under = pd.read_csv(\"tweet_data/train_under.csv\", lineterminator='\\n')"
      ],
      "execution_count": null,
      "outputs": []
    },
    {
      "cell_type": "markdown",
      "metadata": {
        "id": "eAeTRLc9TVRk",
        "colab_type": "text"
      },
      "source": [
        "#### Under-sampling dataset"
      ]
    },
    {
      "cell_type": "code",
      "metadata": {
        "id": "ID2sSf8oTAA1",
        "colab_type": "code",
        "colab": {}
      },
      "source": [
        "from keras.preprocessing.text import Tokenizer\n",
        "from sklearn.preprocessing import LabelEncoder\n",
        "import keras\n",
        "\n",
        "train_texts = train_under['clean_text']\n",
        "test_texts = test['clean_text']\n",
        "\n",
        "# tokenizer \n",
        "t = Tokenizer()\n",
        "t.fit_on_texts(train_texts)\n",
        "X_train = t.texts_to_sequences(train_texts)\n",
        "\n",
        "# transform labels into numbers\n",
        "labels2numbers = LabelEncoder()\n",
        "y_train_org = labels2numbers.fit_transform(train_under['sentiment'])\n",
        "\n",
        "\n",
        "X_test = t.texts_to_sequences(test_texts)\n",
        "y_test_org = labels2numbers.transform(test['sentiment'])\n",
        "\n",
        "num_classes = max(y_train_org) + 1 # get number of classes for transformation\n",
        "vocab_size = len(t.word_index) + 1 # vocabulary size (plus reserved index 0)\n",
        "\n",
        "y_train = keras.utils.to_categorical(y_train_org, num_classes)\n",
        "y_test = keras.utils.to_categorical(y_test_org, num_classes)"
      ],
      "execution_count": null,
      "outputs": []
    },
    {
      "cell_type": "code",
      "metadata": {
        "id": "LwXI2WiSTiy7",
        "colab_type": "code",
        "colab": {
          "base_uri": "https://localhost:8080/",
          "height": 386
        },
        "outputId": "8fa76732-2cbe-404c-85ea-10a6e3f18ff7"
      },
      "source": [
        "from keras.models import Sequential\n",
        "from keras.layers import Bidirectional, LSTM, CuDNNLSTM, Embedding, Flatten\n",
        "from keras.layers.core import Lambda, Dropout, Dense, Activation\n",
        "from keras.layers.convolutional import Conv1D\n",
        "from keras import backend as K\n",
        "\n",
        "hidden_dims = 96\n",
        "lstm_dims = 48\n",
        "\n",
        "model = Sequential()\n",
        "model.add(Embedding(output_dim=64, \n",
        "                    input_dim=vocab_size,\n",
        "                    input_length=None))\n",
        "model.add(LSTM(lstm_dims))\n",
        "model.add(Dense(hidden_dims))\n",
        "model.add(Dropout(rate=0.2))\n",
        "model.add(Activation('relu'))\n",
        "model.add(Dense(num_classes))\n",
        "model.add(Activation('softmax'))\n",
        "model.summary()"
      ],
      "execution_count": null,
      "outputs": [
        {
          "output_type": "stream",
          "text": [
            "Model: \"sequential_1\"\n",
            "_________________________________________________________________\n",
            "Layer (type)                 Output Shape              Param #   \n",
            "=================================================================\n",
            "embedding_1 (Embedding)      (None, None, 64)          1844928   \n",
            "_________________________________________________________________\n",
            "lstm_1 (LSTM)                (None, 48)                21696     \n",
            "_________________________________________________________________\n",
            "dense_1 (Dense)              (None, 96)                4704      \n",
            "_________________________________________________________________\n",
            "dropout_1 (Dropout)          (None, 96)                0         \n",
            "_________________________________________________________________\n",
            "activation_1 (Activation)    (None, 96)                0         \n",
            "_________________________________________________________________\n",
            "dense_2 (Dense)              (None, 3)                 291       \n",
            "_________________________________________________________________\n",
            "activation_2 (Activation)    (None, 3)                 0         \n",
            "=================================================================\n",
            "Total params: 1,871,619\n",
            "Trainable params: 1,871,619\n",
            "Non-trainable params: 0\n",
            "_________________________________________________________________\n"
          ],
          "name": "stdout"
        }
      ]
    },
    {
      "cell_type": "code",
      "metadata": {
        "id": "M7pMUzFrTupe",
        "colab_type": "code",
        "colab": {}
      },
      "source": [
        "from keras.preprocessing.sequence import pad_sequences\n",
        "\n",
        "# padding \n",
        "k = sorted([len(xx) for xx in X_train])\n",
        "f = k[int(len(k)/100*90)]\n",
        "\n",
        "maxlen = f\n",
        "X_train = pad_sequences(X_train, padding='post', maxlen=maxlen)\n",
        "X_test = pad_sequences(X_test, padding='post', maxlen=maxlen)"
      ],
      "execution_count": null,
      "outputs": []
    },
    {
      "cell_type": "code",
      "metadata": {
        "id": "xeuXTiZDTw9q",
        "colab_type": "code",
        "colab": {
          "base_uri": "https://localhost:8080/",
          "height": 252
        },
        "outputId": "b93ba1b6-0591-43ed-8862-57de46d1909d"
      },
      "source": [
        "batch_size = 32\n",
        "epochs = 5\n",
        "\n",
        "model.compile(loss='categorical_crossentropy',\n",
        "              optimizer='adam',\n",
        "              metrics=['accuracy'])\n",
        "\n",
        "history = model.fit(X_train, y_train,\n",
        "                    batch_size=batch_size,\n",
        "                    epochs=epochs,\n",
        "                    verbose=1,\n",
        "                    validation_split=0.2)\n",
        "\n",
        "loss, accuracy = model.evaluate(X_test, y_test,\n",
        "                       batch_size=batch_size, verbose=1)\n",
        "print('Test loss:', loss)\n",
        "print('Test accuracy:', accuracy)"
      ],
      "execution_count": null,
      "outputs": [
        {
          "output_type": "stream",
          "text": [
            "Train on 25816 samples, validate on 6455 samples\n",
            "Epoch 1/5\n",
            "25816/25816 [==============================] - 27s 1ms/step - loss: 0.7317 - accuracy: 0.6850 - val_loss: 1.0292 - val_accuracy: 0.5701\n",
            "Epoch 2/5\n",
            "25816/25816 [==============================] - 27s 1ms/step - loss: 0.4685 - accuracy: 0.8214 - val_loss: 0.9965 - val_accuracy: 0.6183\n",
            "Epoch 3/5\n",
            "25816/25816 [==============================] - 27s 1ms/step - loss: 0.3383 - accuracy: 0.8748 - val_loss: 1.2906 - val_accuracy: 0.5875\n",
            "Epoch 4/5\n",
            "25816/25816 [==============================] - 27s 1ms/step - loss: 0.2568 - accuracy: 0.9093 - val_loss: 1.2512 - val_accuracy: 0.6229\n",
            "Epoch 5/5\n",
            "25816/25816 [==============================] - 27s 1ms/step - loss: 0.1996 - accuracy: 0.9275 - val_loss: 1.9544 - val_accuracy: 0.5771\n",
            "139800/139800 [==============================] - 12s 87us/step\n",
            "Test loss: 1.1742022013425486\n",
            "Test accuracy: 0.6444063186645508\n"
          ],
          "name": "stdout"
        }
      ]
    },
    {
      "cell_type": "code",
      "metadata": {
        "id": "yfo22IV4bRuF",
        "colab_type": "code",
        "colab": {}
      },
      "source": [
        "model.save('lstm_category_under.h5')"
      ],
      "execution_count": null,
      "outputs": []
    },
    {
      "cell_type": "code",
      "metadata": {
        "id": "Wy2weuOlT8gE",
        "colab_type": "code",
        "colab": {}
      },
      "source": [
        "prediction = model.predict(X_test)\n",
        "sentiment = []\n",
        "for pred in prediction: \n",
        "  sentiment.append(labels2numbers.inverse_transform([pred.argmax()])[0])"
      ],
      "execution_count": null,
      "outputs": []
    },
    {
      "cell_type": "code",
      "metadata": {
        "id": "9SwBNoH-UINP",
        "colab_type": "code",
        "colab": {
          "base_uri": "https://localhost:8080/",
          "height": 185
        },
        "outputId": "ac3ece80-49a2-4aae-f120-0bb0aa247eb4"
      },
      "source": [
        "from sklearn.metrics import classification_report\n",
        "print(classification_report(test['sentiment'], sentiment))"
      ],
      "execution_count": null,
      "outputs": [
        {
          "output_type": "stream",
          "text": [
            "              precision    recall  f1-score   support\n",
            "\n",
            "    NEGATIVE       0.43      0.33      0.37      5224\n",
            "     NEUTRAL       0.91      0.94      0.92    119205\n",
            "    POSITIVE       0.58      0.45      0.50     15371\n",
            "\n",
            "    accuracy                           0.87    139800\n",
            "   macro avg       0.64      0.57      0.60    139800\n",
            "weighted avg       0.85      0.87      0.86    139800\n",
            "\n"
          ],
          "name": "stdout"
        }
      ]
    },
    {
      "cell_type": "markdown",
      "metadata": {
        "id": "Qk-5uokYuKBi",
        "colab_type": "text"
      },
      "source": [
        "#### Over-sampling dataset"
      ]
    },
    {
      "cell_type": "code",
      "metadata": {
        "id": "eQSxKS7huQ6o",
        "colab_type": "code",
        "colab": {}
      },
      "source": [
        "import pandas as pd\n",
        "import numpy as np\n",
        "from keras.preprocessing.text import Tokenizer\n",
        "from sklearn.preprocessing import LabelEncoder\n",
        "import keras\n",
        "\n",
        "train_texts = train['clean_text']\n",
        "test_texts = test['clean_text']\n",
        "\n",
        "# tokenizer \n",
        "t = Tokenizer()\n",
        "t.fit_on_texts(train_texts)\n",
        "X_train = t.texts_to_sequences(train_texts)\n",
        "\n",
        "# transform labels into numbers\n",
        "labels2numbers = LabelEncoder()\n",
        "y_train_org = labels2numbers.fit_transform(train['sentiment'])\n",
        "\n",
        "X_test = t.texts_to_sequences(test_texts)\n",
        "y_test_org = labels2numbers.transform(test['sentiment'])\n",
        "\n",
        "num_classes = max(y_train_org) + 1 # get number of classes for transformation\n",
        "vocab_size = len(t.word_index) + 1 # vocabulary size (plus reserved index 0)\n",
        "\n",
        "y_train = keras.utils.to_categorical(y_train_org, num_classes)\n",
        "y_test = keras.utils.to_categorical(y_test_org, num_classes)"
      ],
      "execution_count": null,
      "outputs": []
    },
    {
      "cell_type": "code",
      "metadata": {
        "id": "5BEHtMChuuc1",
        "colab_type": "code",
        "colab": {}
      },
      "source": [
        "# padding \n",
        "k = sorted([len(xx) for xx in X_train])\n",
        "f = k[int(len(k)/100*90)]\n",
        "\n",
        "from keras.preprocessing.sequence import pad_sequences\n",
        "maxlen = f\n",
        "X_train = pad_sequences(X_train, padding='post', maxlen=maxlen)\n",
        "X_test = pad_sequences(X_test, padding='post', maxlen=maxlen)"
      ],
      "execution_count": null,
      "outputs": []
    },
    {
      "cell_type": "code",
      "metadata": {
        "id": "p85sKxTTuMkT",
        "colab_type": "code",
        "colab": {
          "base_uri": "https://localhost:8080/",
          "height": 50
        },
        "outputId": "1628a75a-c192-427d-dfb6-c7fc644d2851"
      },
      "source": [
        "# over-sampling with SMOTE\n",
        "from imblearn.over_sampling import SMOTE\n",
        "oversample = SMOTE()\n",
        "%time X_over, y_over = oversample.fit_resample(X_train, y_train)"
      ],
      "execution_count": null,
      "outputs": [
        {
          "output_type": "stream",
          "text": [
            "CPU times: user 16.8 s, sys: 402 µs, total: 16.8 s\n",
            "Wall time: 16.8 s\n"
          ],
          "name": "stdout"
        }
      ]
    },
    {
      "cell_type": "code",
      "metadata": {
        "id": "2u-KoiK0u75u",
        "colab_type": "code",
        "colab": {
          "base_uri": "https://localhost:8080/",
          "height": 386
        },
        "outputId": "7bed1321-412a-4215-b217-b7ec224409e3"
      },
      "source": [
        "from keras.models import Sequential\n",
        "from keras.layers import Bidirectional, LSTM, CuDNNLSTM, Embedding, Flatten\n",
        "from keras.layers.core import Lambda, Dropout, Dense, Activation\n",
        "from keras.layers.convolutional import Conv1D\n",
        "from keras import backend as K\n",
        "\n",
        "hidden_dims = 96\n",
        "lstm_dims = 48\n",
        "\n",
        "model = Sequential()\n",
        "model.add(Embedding(output_dim=64, \n",
        "                    input_dim=vocab_size,\n",
        "                    input_length=None))\n",
        "model.add(LSTM(lstm_dims))\n",
        "model.add(Dense(hidden_dims))\n",
        "model.add(Dropout(rate=0.2))\n",
        "model.add(Activation('relu'))\n",
        "model.add(Dense(num_classes))\n",
        "model.add(Activation('softmax'))\n",
        "model.summary()"
      ],
      "execution_count": null,
      "outputs": [
        {
          "output_type": "stream",
          "text": [
            "Model: \"sequential_3\"\n",
            "_________________________________________________________________\n",
            "Layer (type)                 Output Shape              Param #   \n",
            "=================================================================\n",
            "embedding_3 (Embedding)      (None, None, 64)          6420480   \n",
            "_________________________________________________________________\n",
            "lstm_3 (LSTM)                (None, 48)                21696     \n",
            "_________________________________________________________________\n",
            "dense_5 (Dense)              (None, 96)                4704      \n",
            "_________________________________________________________________\n",
            "dropout_3 (Dropout)          (None, 96)                0         \n",
            "_________________________________________________________________\n",
            "activation_5 (Activation)    (None, 96)                0         \n",
            "_________________________________________________________________\n",
            "dense_6 (Dense)              (None, 3)                 291       \n",
            "_________________________________________________________________\n",
            "activation_6 (Activation)    (None, 3)                 0         \n",
            "=================================================================\n",
            "Total params: 6,447,171\n",
            "Trainable params: 6,447,171\n",
            "Non-trainable params: 0\n",
            "_________________________________________________________________\n"
          ],
          "name": "stdout"
        }
      ]
    },
    {
      "cell_type": "code",
      "metadata": {
        "id": "Jh3w0igGvBLe",
        "colab_type": "code",
        "colab": {
          "base_uri": "https://localhost:8080/",
          "height": 252
        },
        "outputId": "7d954a62-3b8c-495c-ad1c-dedec69d1f2c"
      },
      "source": [
        "batch_size = 32\n",
        "epochs = 5\n",
        "\n",
        "model.compile(loss='categorical_crossentropy',\n",
        "              optimizer='adam',\n",
        "              metrics=['accuracy'])\n",
        "\n",
        "history = model.fit(X_train, y_train,\n",
        "                    batch_size=batch_size,\n",
        "                    epochs=epochs,\n",
        "                    verbose=1,\n",
        "                    validation_split=0.2)\n",
        "\n",
        "loss, accuracy = model.evaluate(X_test, y_test,\n",
        "                       batch_size=batch_size, verbose=1)\n",
        "print('Test loss:', loss)\n",
        "print('Test accuracy:', accuracy)"
      ],
      "execution_count": null,
      "outputs": [
        {
          "output_type": "stream",
          "text": [
            "Train on 227068 samples, validate on 56767 samples\n",
            "Epoch 1/5\n",
            "227068/227068 [==============================] - 607s 3ms/step - loss: 0.3605 - accuracy: 0.8748 - val_loss: 0.3339 - val_accuracy: 0.8801\n",
            "Epoch 2/5\n",
            "227068/227068 [==============================] - 602s 3ms/step - loss: 0.2933 - accuracy: 0.8904 - val_loss: 0.3302 - val_accuracy: 0.8805\n",
            "Epoch 3/5\n",
            "227068/227068 [==============================] - 597s 3ms/step - loss: 0.2470 - accuracy: 0.9067 - val_loss: 0.3621 - val_accuracy: 0.8736\n",
            "Epoch 4/5\n",
            "227068/227068 [==============================] - 596s 3ms/step - loss: 0.2057 - accuracy: 0.9232 - val_loss: 0.4206 - val_accuracy: 0.8649\n",
            "Epoch 5/5\n",
            "227068/227068 [==============================] - 594s 3ms/step - loss: 0.1720 - accuracy: 0.9362 - val_loss: 0.4949 - val_accuracy: 0.8523\n",
            "139800/139800 [==============================] - 11s 78us/step\n",
            "Test loss: 0.468470223671377\n",
            "Test accuracy: 0.8626537919044495\n"
          ],
          "name": "stdout"
        }
      ]
    },
    {
      "cell_type": "code",
      "metadata": {
        "colab_type": "code",
        "id": "e4PGxF8pvOMO",
        "colab": {}
      },
      "source": [
        "model.save('lstm_category_over.h5')"
      ],
      "execution_count": null,
      "outputs": []
    },
    {
      "cell_type": "code",
      "metadata": {
        "colab_type": "code",
        "id": "uGNQ34xuvOMS",
        "colab": {}
      },
      "source": [
        "prediction = model.predict(X_test)\n",
        "sentiment = []\n",
        "for pred in prediction: \n",
        "  sentiment.append(labels2numbers.inverse_transform([pred.argmax()])[0])"
      ],
      "execution_count": null,
      "outputs": []
    },
    {
      "cell_type": "code",
      "metadata": {
        "colab_type": "code",
        "id": "vR1kKEqNvOMU",
        "colab": {
          "base_uri": "https://localhost:8080/",
          "height": 185
        },
        "outputId": "9fda7011-4376-4902-f788-f3f2292dc0a3"
      },
      "source": [
        "from sklearn.metrics import classification_report\n",
        "print(classification_report(test['sentiment'], sentiment))"
      ],
      "execution_count": null,
      "outputs": [
        {
          "output_type": "stream",
          "text": [
            "              precision    recall  f1-score   support\n",
            "\n",
            "    NEGATIVE       0.43      0.34      0.38      5224\n",
            "     NEUTRAL       0.91      0.93      0.92    119205\n",
            "    POSITIVE       0.56      0.49      0.52     15371\n",
            "\n",
            "    accuracy                           0.86    139800\n",
            "   macro avg       0.63      0.59      0.61    139800\n",
            "weighted avg       0.85      0.86      0.86    139800\n",
            "\n"
          ],
          "name": "stdout"
        }
      ]
    },
    {
      "cell_type": "markdown",
      "metadata": {
        "id": "phkPXWDXTkje",
        "colab_type": "text"
      },
      "source": [
        "#### Original (unbalanced) dataset"
      ]
    },
    {
      "cell_type": "code",
      "metadata": {
        "id": "MTF0NXQETo88",
        "colab_type": "code",
        "colab": {}
      },
      "source": [
        "import pandas as pd\n",
        "import numpy as np\n",
        "from keras.preprocessing.text import Tokenizer\n",
        "from sklearn.preprocessing import LabelEncoder\n",
        "import keras\n",
        "\n",
        "train_texts = train['clean_text']\n",
        "test_texts = test['clean_text']\n",
        "\n",
        "# tokenizer \n",
        "t = Tokenizer()\n",
        "t.fit_on_texts(train_texts)\n",
        "X_train = t.texts_to_sequences(train_texts)\n",
        "\n",
        "# transform labels into numbers\n",
        "labels2numbers = LabelEncoder()\n",
        "y_train_org = labels2numbers.fit_transform(train['sentiment'])\n",
        "\n",
        "\n",
        "X_test = t.texts_to_sequences(test_texts)\n",
        "y_test_org = labels2numbers.transform(test['sentiment'])\n",
        "\n",
        "num_classes = max(y_train_org) + 1 # get number of classes for transformation\n",
        "vocab_size = len(t.word_index) + 1 # vocabulary size (plus reserved index 0)\n",
        "\n",
        "y_train = keras.utils.to_categorical(y_train_org, num_classes)\n",
        "y_test = keras.utils.to_categorical(y_test_org, num_classes)"
      ],
      "execution_count": null,
      "outputs": []
    },
    {
      "cell_type": "code",
      "metadata": {
        "id": "GEC59WHGTzgs",
        "colab_type": "code",
        "colab": {
          "base_uri": "https://localhost:8080/",
          "height": 386
        },
        "outputId": "6325f19e-946e-4a47-bbeb-2138ec686d22"
      },
      "source": [
        "from keras.models import Sequential\n",
        "from keras.layers import Bidirectional, LSTM, CuDNNLSTM, Embedding, Flatten\n",
        "from keras.layers.core import Lambda, Dropout, Dense, Activation\n",
        "from keras.layers.convolutional import Conv1D\n",
        "from keras import backend as K\n",
        "\n",
        "hidden_dims = 96\n",
        "lstm_dims = 48\n",
        "\n",
        "model = Sequential()\n",
        "model.add(Embedding(output_dim=64, \n",
        "                    input_dim=vocab_size,\n",
        "                    input_length=None))\n",
        "model.add(LSTM(lstm_dims))\n",
        "model.add(Dense(hidden_dims))\n",
        "model.add(Dropout(rate=0.2))\n",
        "model.add(Activation('relu'))\n",
        "model.add(Dense(num_classes))\n",
        "model.add(Activation('softmax'))\n",
        "model.summary()"
      ],
      "execution_count": null,
      "outputs": [
        {
          "output_type": "stream",
          "text": [
            "Model: \"sequential_2\"\n",
            "_________________________________________________________________\n",
            "Layer (type)                 Output Shape              Param #   \n",
            "=================================================================\n",
            "embedding_2 (Embedding)      (None, None, 64)          6420480   \n",
            "_________________________________________________________________\n",
            "lstm_2 (LSTM)                (None, 48)                21696     \n",
            "_________________________________________________________________\n",
            "dense_3 (Dense)              (None, 96)                4704      \n",
            "_________________________________________________________________\n",
            "dropout_2 (Dropout)          (None, 96)                0         \n",
            "_________________________________________________________________\n",
            "activation_3 (Activation)    (None, 96)                0         \n",
            "_________________________________________________________________\n",
            "dense_4 (Dense)              (None, 3)                 291       \n",
            "_________________________________________________________________\n",
            "activation_4 (Activation)    (None, 3)                 0         \n",
            "=================================================================\n",
            "Total params: 6,447,171\n",
            "Trainable params: 6,447,171\n",
            "Non-trainable params: 0\n",
            "_________________________________________________________________\n"
          ],
          "name": "stdout"
        }
      ]
    },
    {
      "cell_type": "code",
      "metadata": {
        "id": "BPtLshEIT0YI",
        "colab_type": "code",
        "colab": {}
      },
      "source": [
        "# padding \n",
        "k = sorted([len(xx) for xx in X_train])\n",
        "f = k[int(len(k)/100*90)]\n",
        "\n",
        "from keras.preprocessing.sequence import pad_sequences\n",
        "maxlen = f\n",
        "X_train = pad_sequences(X_train, padding='post', maxlen=maxlen)\n",
        "X_test = pad_sequences(X_test, padding='post', maxlen=maxlen)"
      ],
      "execution_count": null,
      "outputs": []
    },
    {
      "cell_type": "code",
      "metadata": {
        "id": "mWxqhhIET-Zw",
        "colab_type": "code",
        "colab": {
          "base_uri": "https://localhost:8080/",
          "height": 252
        },
        "outputId": "46f3a63c-fba8-4a27-c508-c45d19b005b1"
      },
      "source": [
        "batch_size = 32\n",
        "epochs = 5\n",
        "\n",
        "model.compile(loss='categorical_crossentropy',\n",
        "              optimizer='adam',\n",
        "              metrics=['accuracy'])\n",
        "\n",
        "history = model.fit(X_train, y_train,\n",
        "                    batch_size=batch_size,\n",
        "                    epochs=epochs,\n",
        "                    verbose=1,\n",
        "                    validation_split=0.2)\n",
        "\n",
        "loss, accuracy = model.evaluate(X_test, y_test,\n",
        "                       batch_size=batch_size, verbose=1)\n",
        "print('Test loss:', loss)\n",
        "print('Test accuracy:', accuracy)"
      ],
      "execution_count": null,
      "outputs": [
        {
          "output_type": "stream",
          "text": [
            "Train on 227068 samples, validate on 56767 samples\n",
            "Epoch 1/5\n",
            "227068/227068 [==============================] - 611s 3ms/step - loss: 0.3608 - accuracy: 0.8753 - val_loss: 0.3314 - val_accuracy: 0.8797\n",
            "Epoch 2/5\n",
            "227068/227068 [==============================] - 605s 3ms/step - loss: 0.2927 - accuracy: 0.8908 - val_loss: 0.3352 - val_accuracy: 0.8797\n",
            "Epoch 3/5\n",
            "227068/227068 [==============================] - 595s 3ms/step - loss: 0.2452 - accuracy: 0.9077 - val_loss: 0.3723 - val_accuracy: 0.8726\n",
            "Epoch 4/5\n",
            "227068/227068 [==============================] - 601s 3ms/step - loss: 0.2047 - accuracy: 0.9234 - val_loss: 0.4120 - val_accuracy: 0.8570\n",
            "Epoch 5/5\n",
            "227068/227068 [==============================] - 602s 3ms/step - loss: 0.1718 - accuracy: 0.9360 - val_loss: 0.4672 - val_accuracy: 0.8544\n",
            "139800/139800 [==============================] - 11s 81us/step\n",
            "Test loss: 0.4464702679867055\n",
            "Test accuracy: 0.8644635081291199\n"
          ],
          "name": "stdout"
        }
      ]
    },
    {
      "cell_type": "code",
      "metadata": {
        "id": "XPBw_CIfUDmR",
        "colab_type": "code",
        "colab": {}
      },
      "source": [
        "model.save('lstm_category.h5')"
      ],
      "execution_count": null,
      "outputs": []
    },
    {
      "cell_type": "code",
      "metadata": {
        "id": "3PixJkfKUHwc",
        "colab_type": "code",
        "colab": {}
      },
      "source": [
        "prediction = model.predict(X_test)\n",
        "sentiment = []\n",
        "for pred in prediction: \n",
        "  sentiment.append(labels2numbers.inverse_transform([pred.argmax()])[0])"
      ],
      "execution_count": null,
      "outputs": []
    },
    {
      "cell_type": "code",
      "metadata": {
        "id": "3YHHQsBiUJUy",
        "colab_type": "code",
        "colab": {
          "base_uri": "https://localhost:8080/",
          "height": 185
        },
        "outputId": "f8191386-f1da-4812-f1e8-c158dd23e542"
      },
      "source": [
        "from sklearn.metrics import classification_report\n",
        "print(classification_report(test['sentiment'], sentiment))"
      ],
      "execution_count": null,
      "outputs": [
        {
          "output_type": "stream",
          "text": [
            "              precision    recall  f1-score   support\n",
            "\n",
            "    NEGATIVE       0.48      0.31      0.38      5224\n",
            "     NEUTRAL       0.91      0.93      0.92    119205\n",
            "    POSITIVE       0.55      0.51      0.53     15371\n",
            "\n",
            "    accuracy                           0.86    139800\n",
            "   macro avg       0.65      0.58      0.61    139800\n",
            "weighted avg       0.86      0.86      0.86    139800\n",
            "\n"
          ],
          "name": "stdout"
        }
      ]
    },
    {
      "cell_type": "markdown",
      "metadata": {
        "id": "VvGksNU1IOs8",
        "colab_type": "text"
      },
      "source": [
        "# Predictions on covid tweets"
      ]
    },
    {
      "cell_type": "code",
      "metadata": {
        "id": "BlOE7jADB_jq",
        "colab_type": "code",
        "colab": {}
      },
      "source": [
        "first_week = pd.read_csv(\"tweet_data/first_week.csv\")\n",
        "second_week = pd.read_csv(\"tweet_data/second_week.csv\")\n",
        "third_week = pd.read_csv(\"tweet_data/third_week.csv\")\n",
        "fourth_week = pd.read_csv(\"tweet_data/fourth_week.csv\")"
      ],
      "execution_count": 21,
      "outputs": []
    },
    {
      "cell_type": "code",
      "metadata": {
        "id": "RNzU56v2DjW-",
        "colab_type": "code",
        "colab": {}
      },
      "source": [
        "first_week = first_week[first_week.clean_text.isna()==False] # drop all tweets without text\n",
        "second_week = second_week[second_week.clean_text.isna()==False] # drop all tweets without text\n",
        "third_week = third_week[third_week.clean_text.isna()==False] # drop all tweets without text\n",
        "fourth_week = fourth_week[fourth_week.clean_text.isna()==False] # drop all tweets without text"
      ],
      "execution_count": 22,
      "outputs": []
    },
    {
      "cell_type": "code",
      "metadata": {
        "id": "UaHgCLHLePmj",
        "colab_type": "code",
        "colab": {}
      },
      "source": [
        "train_under = pd.read_csv(\"tweet_data/train_under.csv\")\n",
        "train = pd.read_csv(\"tweet_data/train.csv\", lineterminator='\\n')\n",
        "test = pd.read_csv(\"tweet_data/test.csv\", lineterminator='\\n')"
      ],
      "execution_count": 23,
      "outputs": []
    },
    {
      "cell_type": "code",
      "metadata": {
        "id": "jWteJyjjFd9z",
        "colab_type": "code",
        "colab": {}
      },
      "source": [
        "import random\n",
        "def print_tweet(dataset, emotion, model, number = 5): \n",
        "  df = dataset.loc[dataset[model] == emotion]\n",
        "  random_idx = random.sample(list(df.index), number)\n",
        "  tweet = [] \n",
        "  for idx in random_idx: \n",
        "    tweet.append(df['text'][idx])\n",
        "  return tweet"
      ],
      "execution_count": 24,
      "outputs": []
    },
    {
      "cell_type": "markdown",
      "metadata": {
        "id": "tiGyqvqLMgQ3",
        "colab_type": "text"
      },
      "source": [
        "### Logistic regression"
      ]
    },
    {
      "cell_type": "code",
      "metadata": {
        "id": "YensQ8FTMfmL",
        "colab_type": "code",
        "colab": {}
      },
      "source": [
        "# load the models\n",
        "from joblib import load\n",
        "logistic_under = load('tweet_data/models/logistic_under.joblib') \n",
        "logistic_over = load('tweet_data/models/logistic_over.joblib') \n",
        "logistic_original = load('tweet_data/models/logistic_original.joblib')"
      ],
      "execution_count": null,
      "outputs": []
    },
    {
      "cell_type": "markdown",
      "metadata": {
        "id": "UY53wOxmMv_n",
        "colab_type": "text"
      },
      "source": [
        "#### Under-sampling model\n",
        "Create the same vectorizer used during the training phase with the *train_under* dataset. Then use the clean version of tweets as test to predict the sentiments"
      ]
    },
    {
      "cell_type": "code",
      "metadata": {
        "id": "qkBvP2yvMycv",
        "colab_type": "code",
        "colab": {
          "base_uri": "https://localhost:8080/",
          "height": 34
        },
        "outputId": "4e819f84-dc75-4c57-b6d1-fef419d7cce3"
      },
      "source": [
        "# create the same vectorizer used during the training phase \n",
        "from sklearn.feature_extraction.text import TfidfVectorizer\n",
        "\n",
        "vectorizer = TfidfVectorizer(ngram_range=(1,4), \n",
        "                             min_df=0.001, \n",
        "                             max_df=0.75)\n",
        "\n",
        "X_under = vectorizer.fit_transform(train_under['clean_text'])\n",
        "\n",
        "from sklearn.preprocessing import LabelEncoder\n",
        "labels2numbers = LabelEncoder()\n",
        "y_under = labels2numbers.fit_transform(train_under['sentiment'])\n",
        "print(labels2numbers.classes_)"
      ],
      "execution_count": null,
      "outputs": [
        {
          "output_type": "stream",
          "text": [
            "['NEGATIVE' 'NEUTRAL' 'POSITIVE']\n"
          ],
          "name": "stdout"
        }
      ]
    },
    {
      "cell_type": "code",
      "metadata": {
        "id": "6e9K-tS4M-Wh",
        "colab_type": "code",
        "colab": {
          "base_uri": "https://localhost:8080/",
          "height": 101
        },
        "outputId": "adca0d60-44cf-4ca2-e150-bba5d4461417"
      },
      "source": [
        "# first week \n",
        "new_X = vectorizer.transform(first_week['clean_text'])\n",
        "predw1_logistic_under = logistic_under.predict(new_X)\n",
        "first_week['sentiment_log_under'] = labels2numbers.inverse_transform(predw1_logistic_under)\n",
        "first_week_counts = first_week['sentiment_log_under'].value_counts()\n",
        "\n",
        "# store result in a pretty table \n",
        "from prettytable import PrettyTable\n",
        "w1_logistic = PrettyTable(['Model', 'Positive' ,'Negative', 'Neutral'])\n",
        "w1_logistic.add_row(['Logistic Regression (under)', \n",
        "           round((first_week_counts[2]/first_week.shape[0] * 100),2), \n",
        "           round((first_week_counts[1]/first_week.shape[0] * 100),2), \n",
        "           round((first_week_counts[0]/first_week.shape[0] * 100),2) ])\n",
        "print(w1_logistic)"
      ],
      "execution_count": null,
      "outputs": [
        {
          "output_type": "stream",
          "text": [
            "+-----------------------------+----------+----------+---------+\n",
            "|            Model            | Positive | Negative | Neutral |\n",
            "+-----------------------------+----------+----------+---------+\n",
            "| Logistic Regression (under) |   8.13   |  16.38   |  75.49  |\n",
            "+-----------------------------+----------+----------+---------+\n"
          ],
          "name": "stdout"
        }
      ]
    },
    {
      "cell_type": "code",
      "metadata": {
        "id": "V4kLoP4eNfy-",
        "colab_type": "code",
        "colab": {
          "base_uri": "https://localhost:8080/",
          "height": 101
        },
        "outputId": "5666edee-69c6-4c4b-967b-4fe9379e1d17"
      },
      "source": [
        "# second week \n",
        "new_X = vectorizer.transform(second_week['clean_text'])\n",
        "predw2_logistic_under = logistic_under.predict(new_X)\n",
        "second_week['sentiment_log_under'] = labels2numbers.inverse_transform(predw2_logistic_under)\n",
        "second_week_counts = second_week['sentiment_log_under'].value_counts()\n",
        "w2_logistic = PrettyTable(['Model', 'Positive' ,'Negative', 'Neutral'])\n",
        "w2_logistic.add_row(['Logistic Regression (under)', \n",
        "           round((second_week_counts[2]/second_week.shape[0] * 100),2), \n",
        "           round((second_week_counts[1]/second_week.shape[0] * 100),2), \n",
        "           round((second_week_counts[0]/second_week.shape[0] * 100),2) ])\n",
        "print(w2_logistic)"
      ],
      "execution_count": null,
      "outputs": [
        {
          "output_type": "stream",
          "text": [
            "+-----------------------------+----------+----------+---------+\n",
            "|            Model            | Positive | Negative | Neutral |\n",
            "+-----------------------------+----------+----------+---------+\n",
            "| Logistic Regression (under) |   12.5   |  14.69   |   72.8  |\n",
            "+-----------------------------+----------+----------+---------+\n"
          ],
          "name": "stdout"
        }
      ]
    },
    {
      "cell_type": "code",
      "metadata": {
        "id": "Q3xTnqEhODll",
        "colab_type": "code",
        "colab": {
          "base_uri": "https://localhost:8080/",
          "height": 101
        },
        "outputId": "3859d253-aace-4942-8823-f50e1a972189"
      },
      "source": [
        "# third week \n",
        "new_X = vectorizer.transform(third_week['clean_text'])\n",
        "predw3_logistic_under = logistic_under.predict(new_X)\n",
        "third_week['sentiment_log_under'] = labels2numbers.inverse_transform(predw3_logistic_under)\n",
        "third_week_counts = third_week['sentiment_log_under'].value_counts()\n",
        "w3_logistic = PrettyTable(['Model', 'Positive' ,'Negative', 'Neutral'])\n",
        "w3_logistic.add_row(['Logistic Regression (under)', \n",
        "           round((third_week_counts[2]/third_week.shape[0] * 100),2), \n",
        "           round((third_week_counts[1]/third_week.shape[0] * 100),2), \n",
        "           round((third_week_counts[0]/third_week.shape[0] * 100),2) ])\n",
        "print(w3_logistic)"
      ],
      "execution_count": null,
      "outputs": [
        {
          "output_type": "stream",
          "text": [
            "+-----------------------------+----------+----------+---------+\n",
            "|            Model            | Positive | Negative | Neutral |\n",
            "+-----------------------------+----------+----------+---------+\n",
            "| Logistic Regression (under) |   11.5   |  13.94   |  74.57  |\n",
            "+-----------------------------+----------+----------+---------+\n"
          ],
          "name": "stdout"
        }
      ]
    },
    {
      "cell_type": "code",
      "metadata": {
        "id": "UKx5bzC4OR_9",
        "colab_type": "code",
        "colab": {
          "base_uri": "https://localhost:8080/",
          "height": 101
        },
        "outputId": "bc5a5f72-d8a4-4018-adfc-ac553382a966"
      },
      "source": [
        "new_X = vectorizer.transform(fourth_week['clean_text'])\n",
        "predw4_logistic_under = logistic_under.predict(new_X)\n",
        "fourth_week['sentiment_log_under'] = labels2numbers.inverse_transform(predw4_logistic_under)\n",
        "fourth_week_counts = fourth_week['sentiment_log_under'].value_counts()\n",
        "w4_logistic = PrettyTable(['Model', 'Positive' ,'Negative', 'Neutral'])\n",
        "w4_logistic.add_row(['Logistic Regression (under)', \n",
        "           round((fourth_week_counts[2]/fourth_week.shape[0] * 100),2), \n",
        "           round((fourth_week_counts[1]/fourth_week.shape[0] * 100),2), \n",
        "           round((fourth_week_counts[0]/fourth_week.shape[0] * 100),2) ])\n",
        "print(w4_logistic)"
      ],
      "execution_count": null,
      "outputs": [
        {
          "output_type": "stream",
          "text": [
            "+-----------------------------+----------+----------+---------+\n",
            "|            Model            | Positive | Negative | Neutral |\n",
            "+-----------------------------+----------+----------+---------+\n",
            "| Logistic Regression (under) |   9.89   |   14.0   |  76.11  |\n",
            "+-----------------------------+----------+----------+---------+\n"
          ],
          "name": "stdout"
        }
      ]
    },
    {
      "cell_type": "markdown",
      "metadata": {
        "id": "Ie0THUtXO_cw",
        "colab_type": "text"
      },
      "source": [
        "#### Over-sampling model "
      ]
    },
    {
      "cell_type": "code",
      "metadata": {
        "id": "qAMlbJr-PS7N",
        "colab_type": "code",
        "colab": {
          "base_uri": "https://localhost:8080/",
          "height": 34
        },
        "outputId": "1d9998e5-4905-41f1-a656-1f54430f5853"
      },
      "source": [
        "from sklearn.feature_extraction.text import TfidfVectorizer\n",
        "\n",
        "vectorizer = TfidfVectorizer(ngram_range=(1,4), \n",
        "                             min_df=0.001, \n",
        "                             max_df=0.75)\n",
        "\n",
        "X = vectorizer.fit_transform(train['clean_text'])\n",
        "\n",
        "from sklearn.preprocessing import LabelEncoder\n",
        "labels2numbers = LabelEncoder()\n",
        "y = labels2numbers.fit_transform(train['sentiment'])\n",
        "print(labels2numbers.classes_)"
      ],
      "execution_count": null,
      "outputs": [
        {
          "output_type": "stream",
          "text": [
            "['NEGATIVE' 'NEUTRAL' 'POSITIVE']\n"
          ],
          "name": "stdout"
        }
      ]
    },
    {
      "cell_type": "code",
      "metadata": {
        "id": "MMsincX7PM8D",
        "colab_type": "code",
        "colab": {
          "base_uri": "https://localhost:8080/",
          "height": 118
        },
        "outputId": "784ad6e3-529c-4d75-ec75-8f1f72e27456"
      },
      "source": [
        "# first week \n",
        "new_X = vectorizer.transform(first_week['clean_text'])\n",
        "predw1_logistic_over = logistic_over.predict(new_X)\n",
        "first_week['sentiment_log_over'] = labels2numbers.inverse_transform(predw1_logistic_over)\n",
        "first_week_counts = first_week['sentiment_log_over'].value_counts()\n",
        "\n",
        "w1_logistic.add_row(['Logistic Regression (over)', \n",
        "           round((first_week_counts[2]/first_week.shape[0] * 100),2), \n",
        "           round((first_week_counts[1]/first_week.shape[0] * 100),2), \n",
        "           round((first_week_counts[0]/first_week.shape[0] * 100),2) ])\n",
        "print(w1_logistic)"
      ],
      "execution_count": null,
      "outputs": [
        {
          "output_type": "stream",
          "text": [
            "+-----------------------------+----------+----------+---------+\n",
            "|            Model            | Positive | Negative | Neutral |\n",
            "+-----------------------------+----------+----------+---------+\n",
            "| Logistic Regression (under) |   8.13   |  16.38   |  75.49  |\n",
            "|  Logistic Regression (over) |  11.74   |  36.56   |   51.7  |\n",
            "+-----------------------------+----------+----------+---------+\n"
          ],
          "name": "stdout"
        }
      ]
    },
    {
      "cell_type": "code",
      "metadata": {
        "id": "pN6iwlgxPM47",
        "colab_type": "code",
        "colab": {
          "base_uri": "https://localhost:8080/",
          "height": 118
        },
        "outputId": "ead0adc1-634a-4241-febc-e43dbd3e1558"
      },
      "source": [
        "# second week \n",
        "new_X = vectorizer.transform(second_week['clean_text'])\n",
        "predw2_logistic_over = logistic_over.predict(new_X)\n",
        "second_week['sentiment_log_over'] = labels2numbers.inverse_transform(predw2_logistic_over)\n",
        "second_week_counts = second_week['sentiment_log_over'].value_counts()\n",
        "w2_logistic.add_row(['Logistic Regression (over)', \n",
        "           round((second_week_counts[2]/second_week.shape[0] * 100),2), \n",
        "           round((second_week_counts[1]/second_week.shape[0] * 100),2), \n",
        "           round((second_week_counts[0]/second_week.shape[0] * 100),2) ])\n",
        "print(w2_logistic)"
      ],
      "execution_count": null,
      "outputs": [
        {
          "output_type": "stream",
          "text": [
            "+-----------------------------+----------+----------+---------+\n",
            "|            Model            | Positive | Negative | Neutral |\n",
            "+-----------------------------+----------+----------+---------+\n",
            "| Logistic Regression (under) |   12.5   |  14.69   |   72.8  |\n",
            "|  Logistic Regression (over) |  16.12   |  31.15   |  52.73  |\n",
            "+-----------------------------+----------+----------+---------+\n"
          ],
          "name": "stdout"
        }
      ]
    },
    {
      "cell_type": "code",
      "metadata": {
        "id": "qw0gqQ6APM1O",
        "colab_type": "code",
        "colab": {
          "base_uri": "https://localhost:8080/",
          "height": 118
        },
        "outputId": "ae1ea7ca-2a26-4972-caae-ce3635086fb5"
      },
      "source": [
        "# third week \n",
        "new_X = vectorizer.transform(third_week['clean_text'])\n",
        "predw3_logistic_over = logistic_over.predict(new_X)\n",
        "third_week['sentiment_log_over'] = labels2numbers.inverse_transform(predw3_logistic_over)\n",
        "third_week_counts = third_week['sentiment_log_over'].value_counts()\n",
        "w3_logistic.add_row(['Logistic Regression (over)', \n",
        "           round((third_week_counts[2]/third_week.shape[0] * 100),2), \n",
        "           round((third_week_counts[1]/third_week.shape[0] * 100),2), \n",
        "           round((third_week_counts[0]/third_week.shape[0] * 100),2) ])\n",
        "print(w3_logistic)"
      ],
      "execution_count": null,
      "outputs": [
        {
          "output_type": "stream",
          "text": [
            "+-----------------------------+----------+----------+---------+\n",
            "|            Model            | Positive | Negative | Neutral |\n",
            "+-----------------------------+----------+----------+---------+\n",
            "| Logistic Regression (under) |   11.5   |  13.94   |  74.57  |\n",
            "|  Logistic Regression (over) |  14.57   |  32.61   |  52.82  |\n",
            "+-----------------------------+----------+----------+---------+\n"
          ],
          "name": "stdout"
        }
      ]
    },
    {
      "cell_type": "code",
      "metadata": {
        "id": "YjRVAHwDPggg",
        "colab_type": "code",
        "colab": {
          "base_uri": "https://localhost:8080/",
          "height": 118
        },
        "outputId": "cb6cd994-8045-48fe-a45b-bba9e4b80397"
      },
      "source": [
        "# fourth week \n",
        "new_X = vectorizer.transform(fourth_week['clean_text'])\n",
        "predw4_logistic_over = logistic_over.predict(new_X)\n",
        "fourth_week['sentiment_log_over'] = labels2numbers.inverse_transform(predw4_logistic_over)\n",
        "fourth_week_counts = fourth_week['sentiment_log_over'].value_counts()\n",
        "w4_logistic.add_row(['Logistic Regression (over)', \n",
        "           round((fourth_week_counts[2]/fourth_week.shape[0] * 100),2), \n",
        "           round((fourth_week_counts[1]/fourth_week.shape[0] * 100),2), \n",
        "           round((fourth_week_counts[0]/fourth_week.shape[0] * 100),2) ])\n",
        "print(w4_logistic)"
      ],
      "execution_count": null,
      "outputs": [
        {
          "output_type": "stream",
          "text": [
            "+-----------------------------+----------+----------+---------+\n",
            "|            Model            | Positive | Negative | Neutral |\n",
            "+-----------------------------+----------+----------+---------+\n",
            "| Logistic Regression (under) |   9.89   |   14.0   |  76.11  |\n",
            "|  Logistic Regression (over) |  13.77   |  33.86   |  52.37  |\n",
            "+-----------------------------+----------+----------+---------+\n"
          ],
          "name": "stdout"
        }
      ]
    },
    {
      "cell_type": "markdown",
      "metadata": {
        "id": "wlbfMdQcQelP",
        "colab_type": "text"
      },
      "source": [
        "#### Classification difference "
      ]
    },
    {
      "cell_type": "code",
      "metadata": {
        "id": "NhKZfghLQk8m",
        "colab_type": "code",
        "colab": {}
      },
      "source": [
        "def different_sentiment(row): \n",
        "  difference = row['sentiment_log_over'] != row['sentiment_log_under']\n",
        "  if difference: \n",
        "    return row['sentiment_log_over'] +\"-\"+ row['sentiment_log_under']"
      ],
      "execution_count": null,
      "outputs": []
    },
    {
      "cell_type": "code",
      "metadata": {
        "id": "oeU6JU4bQ77x",
        "colab_type": "code",
        "colab": {
          "base_uri": "https://localhost:8080/",
          "height": 134
        },
        "outputId": "d670fe7d-2520-4ebc-f860-e81371f9258d"
      },
      "source": [
        "first_week['log_difference'] = first_week.apply(lambda row: different_sentiment(row), axis = 1 )\n",
        "first_week['log_difference'].value_counts()"
      ],
      "execution_count": null,
      "outputs": [
        {
          "output_type": "execute_result",
          "data": {
            "text/plain": [
              "NEGATIVE-NEUTRAL     44711\n",
              "POSITIVE-NEUTRAL     10934\n",
              "NEUTRAL-NEGATIVE      6856\n",
              "NEUTRAL-POSITIVE      3277\n",
              "NEGATIVE-POSITIVE     1504\n",
              "POSITIVE-NEGATIVE      751\n",
              "Name: log_difference, dtype: int64"
            ]
          },
          "metadata": {
            "tags": []
          },
          "execution_count": 44
        }
      ]
    },
    {
      "cell_type": "code",
      "metadata": {
        "id": "_1ksvTaRQkXC",
        "colab_type": "code",
        "colab": {
          "base_uri": "https://localhost:8080/",
          "height": 134
        },
        "outputId": "9236b3e6-b945-4fae-eb9a-8e1fd1f21671"
      },
      "source": [
        "second_week['log_difference'] = second_week.apply(lambda row: different_sentiment(row), axis = 1 )\n",
        "second_week['log_difference'].value_counts()"
      ],
      "execution_count": null,
      "outputs": [
        {
          "output_type": "execute_result",
          "data": {
            "text/plain": [
              "NEGATIVE-NEUTRAL     64985\n",
              "POSITIVE-NEUTRAL     22528\n",
              "NEUTRAL-NEGATIVE     12577\n",
              "NEUTRAL-POSITIVE      9471\n",
              "NEGATIVE-POSITIVE     2515\n",
              "POSITIVE-NEGATIVE     1262\n",
              "Name: log_difference, dtype: int64"
            ]
          },
          "metadata": {
            "tags": []
          },
          "execution_count": 47
        }
      ]
    },
    {
      "cell_type": "code",
      "metadata": {
        "id": "IqkwkrfjRUSp",
        "colab_type": "code",
        "colab": {
          "base_uri": "https://localhost:8080/",
          "height": 134
        },
        "outputId": "f0e5ac64-7003-40f0-f43e-633c7bc5fb2d"
      },
      "source": [
        "third_week['log_difference'] = third_week.apply(lambda row: different_sentiment(row), axis = 1 )\n",
        "third_week['log_difference'].value_counts()"
      ],
      "execution_count": null,
      "outputs": [
        {
          "output_type": "execute_result",
          "data": {
            "text/plain": [
              "NEGATIVE-NEUTRAL     37671\n",
              "POSITIVE-NEUTRAL     10853\n",
              "NEUTRAL-NEGATIVE      5722\n",
              "NEUTRAL-POSITIVE      4587\n",
              "NEGATIVE-POSITIVE     1624\n",
              "POSITIVE-NEGATIVE      754\n",
              "Name: log_difference, dtype: int64"
            ]
          },
          "metadata": {
            "tags": []
          },
          "execution_count": 46
        }
      ]
    },
    {
      "cell_type": "code",
      "metadata": {
        "id": "8CgJN9YiRVLD",
        "colab_type": "code",
        "colab": {
          "base_uri": "https://localhost:8080/",
          "height": 134
        },
        "outputId": "0173838e-defb-4bbe-f041-ec2a38131a74"
      },
      "source": [
        "fourth_week['log_difference'] = fourth_week.apply(lambda row: different_sentiment(row), axis = 1 )\n",
        "fourth_week['log_difference'].value_counts()"
      ],
      "execution_count": null,
      "outputs": [
        {
          "output_type": "execute_result",
          "data": {
            "text/plain": [
              "NEGATIVE-NEUTRAL     19980\n",
              "POSITIVE-NEUTRAL      5793\n",
              "NEUTRAL-NEGATIVE      2722\n",
              "NEUTRAL-POSITIVE      2063\n",
              "NEGATIVE-POSITIVE      654\n",
              "POSITIVE-NEGATIVE      359\n",
              "Name: log_difference, dtype: int64"
            ]
          },
          "metadata": {
            "tags": []
          },
          "execution_count": 45
        }
      ]
    },
    {
      "cell_type": "markdown",
      "metadata": {
        "id": "CNTQrS9tRsRh",
        "colab_type": "text"
      },
      "source": [
        "#### Print tweets"
      ]
    },
    {
      "cell_type": "code",
      "metadata": {
        "id": "KBG6ArkoBTAL",
        "colab_type": "code",
        "colab": {
          "base_uri": "https://localhost:8080/",
          "height": 205
        },
        "outputId": "0cbc03a7-5f58-4d80-da2e-3588b334225c"
      },
      "source": [
        "print_tweet(first_week, 'NEGATIVE', 'sentiment_log_under', 10)"
      ],
      "execution_count": null,
      "outputs": [
        {
          "output_type": "execute_result",
          "data": {
            "text/plain": [
              "[\"Più di 1000 positivi al #coronavirus ed è psicosi da mascherina e amuchina, nel mondo 30 milioni di persone con l'#AIDS e ancora non usiamo il preservativo, per non dimentare 8 bambini morti in 20gg a #Taranto e anche lì il nulla 🖤\",\n",
              " 'Quando usate un hashtag io lo capisco se è un hashtag coerente, se di cortesia (per permettere il mute a chi non frega un cazzo dell’argomento) o se lo mettete solo per guadagnare qualche visualizzazione. PEZZENTI! \\n#COVID19 #coronarvirusitalia #TetteGrandi #ScopareGratis #Figa',\n",
              " 'Per il #coronavirus, come al solito si da la colpa al governo. Onestamente, il 2001 per accontentare la #lega, si è riformata la Costituzione e la sanità è esclusiva delle regioni. Bisognerebbe annullare quella riforma INDECENTE e ridare la sanità allo #Stato. #NonelArena',\n",
              " \"#Conte dovrebbe prendere esempio da #Fontana che, con gran senso di responsabilità, ha messo a tacere le polemiche, dimostrandosi grande rappresentante delle istituzioni, concentrandosi solo sulla gestione dell'emergenza: avanti! #coronavirus #Lombardia ↘️https://t.co/KCOVQ6ppJx https://t.co/XCHhSbq6vd\",\n",
              " 'Di vecchiaia si vive. Dolorosa riflessione di Adriano Sofri, per chi si sente rassicurato se di #coronavirus muoiono solo i vecchi già malati https://t.co/AOXkKuvYuD',\n",
              " 'Stupido autogol comunicativo delle istituzioni e di noi cittadini italiani. Adesso sta a noi a invertire il messaggio a ns favore, senza piangerci addosso!!! #coronavirus #COVID19 #Italia https://t.co/1TRAaICqzf',\n",
              " \"#valledelsacco Mi preoccupa di più la possibilità di morire di #tumore a causa dell'aria merdosa che respiro ogni giorno, che la possibilità di contrarre il #coronavirus.\",\n",
              " \"#Coronavirus, crolla l'#economia. Aziende nel panico: “Solo 10% è assicurata” - https://t.co/oEFAxjDwPu https://t.co/pgN8IPnfRp\",\n",
              " 'Ci sarà da rimboccarsi le maniche e immettere liquidità per sostenere questo dramma #economico..\\n\\nSentiremo tanti \"facciamo deficit\" e pochi \"tagliamoci lo stipendio\" \\n\\nEppure il @Mov5Stelle cerca di metterlo a norma invano da parecchi anni\\n\\nChe fosse la volta buona?\\n#coronavirus',\n",
              " 'Capuozzo sferza Mattarella: \"Sul coronavirus ha sbagliato\" https://t.co/Jw5kO9poEo']"
            ]
          },
          "metadata": {
            "tags": []
          },
          "execution_count": 14
        }
      ]
    },
    {
      "cell_type": "code",
      "metadata": {
        "id": "idl-98jukeSa",
        "colab_type": "code",
        "colab": {
          "base_uri": "https://localhost:8080/",
          "height": 205
        },
        "outputId": "a0d8eea2-4fcc-4f44-a045-60deda04b922"
      },
      "source": [
        "print_tweet(first_week, 'NEUTRAL', 'sentiment_log_under', 10)"
      ],
      "execution_count": null,
      "outputs": [
        {
          "output_type": "execute_result",
          "data": {
            "text/plain": [
              "['#Trenitalia rimborsa chi rinuncia a viaggiare. #coronavirus\\n\\nhttps://t.co/PtCOePV530',\n",
              " 'Coronavirus, Israele blocca l’ingresso a chi arriva dall’Italia. Macron: “Non chiudo le frontiere”. Di Maio: “Siamo un Paese affidabile”  - La Stampa https://t.co/1er7xD8Jz4',\n",
              " 'Coronavirus, guanti e mascherine ai postini del Gruppo Mail Express \\xa0 https://t.co/l2oM0ZjQRH',\n",
              " 'Thread by @michelaz988: Due parole sulla narrazione grafica del #COVID19. C’è un divario fra “il rischio” e “la percezione del rischio” che neliminare del tutto. Compito di chi comunica, sia con i grafici che con le notizie, è far sì che questo divario s… https://t.co/EMOkXgGMTk',\n",
              " 'Nei Grigioni i contagiati sono due bambini\\ncoronavirus\\n\\nSono figli di una famiglia italiana in vacanza in Engadina - Annullata la Maratona Engadinese di sci di fondo https://t.co/Z7KX82Ir8A',\n",
              " 'Confermata per una settimana la chiusura di scuole, asili e università in Lombardia, Veneto e Emilia Romagna #coronavirus',\n",
              " 'Da troppo tempo ormai seguo come tutti le informazioni che arrivano da ogni canale di informazione su cosa sta succedendo con il #coronavirus Ci sono ancora altri #rimedifloreali come ad esempio la #floriiterapia Californiana e quella Australiana. #benessere #Salute #Milano https://t.co/sX5KtPOjTU',\n",
              " 'Coronavirus: sindaco Sesto S.Giovanni misure drastiche a tutela salute pubblica -  #Coronavirus: #sindaco #Sesto  https://t.co/U9s7tiXvs2',\n",
              " \"Ad oggi la Lazio che ha giocato a porte aperte con i Bolognesi(che han le scuole e università chiuse fino al 7 marzo per i 189 casi di coronavirus) è a +8 sull'Inter e +2 sulla Juve, ma il problema è Agnelli che vuole penalizzare i nerazzurri. Li stimo.\",\n",
              " 'Coronavirus news, chiusi tutti gli Atenei in Emilia Romagna. A rischio le scuole - Cronaca https://t.co/vSgAu5j36M']"
            ]
          },
          "metadata": {
            "tags": []
          },
          "execution_count": 15
        }
      ]
    },
    {
      "cell_type": "code",
      "metadata": {
        "id": "XAeAAlcokeQK",
        "colab_type": "code",
        "colab": {
          "base_uri": "https://localhost:8080/",
          "height": 205
        },
        "outputId": "22f17413-2c3f-44cd-f8d5-b43fc471c7d7"
      },
      "source": [
        "print_tweet(first_week, 'POSITIVE', 'sentiment_log_under', 10)"
      ],
      "execution_count": null,
      "outputs": [
        {
          "output_type": "execute_result",
          "data": {
            "text/plain": [
              "['Ringrazio di cuore @zaiapresidente per come sta gestendo la faccenda #coronavirus qui in #Veneto. Sono nata in Toscana ma per nulla al mondo cambierei il mio governatore. Mai. E sinceramente lo vedrei proprio bene come Presidente del Consiglio. Magari. #forzaZaia',\n",
              " 'Siamo felici a prenderci cura dei nostri ospiti #coronavirus #agriturismovillabracali #agriturismoserravalle #agriturismotoscano @ Agriturismo Villa Bracali https://t.co/gLOsDyfwgS',\n",
              " 'Coronavirus, il vescovo Forte: “No al segno di pace e svuotate le acquasantiere” https://t.co/o4tjN4xuJX #Lanciano',\n",
              " \"C'è il coronavirus, la peste, moriremo tutti ma le cavallette giganti quelle no, sopravvivono a tutto belle beate e mi fanno venire un infarto volando.\\nZoccole.\",\n",
              " 'Coronavirus - Una famiglia di Ponsacco (Pisa) in quarantena: \"E\\' solo a scopo precauzionale\".\\nIl sindaco Francesca Brogi ha firmato la sera di martedì l\\'apposita ordinanza. \\nLe persone sono state in contatto con un ammalato.\\nhttps://t.co/4PMb5rwOMe',\n",
              " 'Subito misure straordinarie per il rilancio dei settori compiti dalla crisi! 🔴 #CGIA #CORONAVIRUS: META’ DELL’ECONOMIA NAZIONALE E DEL GETTITO FISCALE E’ PRODOTTA AL #NORD! https://t.co/F35k5NiywR',\n",
              " 'Buongiorno amici, mi pare di poter lucidamente sostenere che il vero pericolo di diffusione del Coronavirus (che sia pericoloso o meno non spetta a noi giudici di Facebook ma ai virologhi) sia costituito da coloro… https://t.co/qGGoSLISsm',\n",
              " 'CORONAVIRUS MESSE SOSPESE- Il suono di una campana e la nostalgia punge il cuore -  #CORONAVIRUS #MESSE #SOSPESE- #suono  https://t.co/ritWNw51JH',\n",
              " \"S'è decisa la quarantena breve perché l'economia e perché uff, sarà sicuramente stato informato anche il virus\",\n",
              " 'Oltre al 71enne di Cattolica sono risultati positivi un operatore dell\\'ospedale \"Cervesi\" di Cattolica e un cliente del ristorante.\\n\\n#coronavirus, la Regione annuncia due nuovi casi a Rimini https://t.co/0BvbhILOTl']"
            ]
          },
          "metadata": {
            "tags": []
          },
          "execution_count": 18
        }
      ]
    },
    {
      "cell_type": "code",
      "metadata": {
        "id": "m6TMKsH_-ZNn",
        "colab_type": "code",
        "colab": {
          "base_uri": "https://localhost:8080/",
          "height": 205
        },
        "outputId": "9e282f27-a1bd-42ab-cfd9-3abd9e7b16f8"
      },
      "source": [
        "print_tweet(second_week, 'NEGATIVE', 'sentiment_log_under', 10)"
      ],
      "execution_count": null,
      "outputs": [
        {
          "output_type": "execute_result",
          "data": {
            "text/plain": [
              "['L’italiano medio non sa vivere senza aperitivo e sente il bisogno di dire a tutti che lo fa anche in quarantena, ma in pigiama.',\n",
              " 'Ho tantissimo bisogno di uscire e farmi i cazzi miei ma non posso e non solo per la quasi-quarantena, sarà così anche quando tutta questa storia sarà finita e io penso di impazzire',\n",
              " 'Ammetto che su questa cosa sono puramente ignorante, ma fortemente dubbioso.\\nLe mosche e le zanzare possono trasmettere il #coronavirus ?',\n",
              " 'Ma porca puttana madre che cazzo entri come una furia in camera mia durante la lezione MA CAZZO di grazia che ho chiuso il microfono in due secondi e che stava urlando come una dannata. Sta quarantena le fa male.',\n",
              " 'Coronavirus: studio sui primi malati italiani mostra i gravi danni ai polmoni https://t.co/hMkTZR6Y8y',\n",
              " 'Comunque in quarantena non sto mangiando molto più del solito il problema è che sono passata da fare 15.000 passi al giorno a farne 30/35.',\n",
              " 'Sul Coronavirus la nuova offensiva della Cina per l’egemonia in Italia - La Stampa - All’offensiva diplomatica corrisponde quella nella propaganda di Pechino sul web italiano. E Grillo celebra sul blog la collaborazione di Huawei https://t.co/G79xeQ0Lej di @LaStampa',\n",
              " 'voi continuate a credere alla propaganda cinese, un fottuto regime autoritario comunista... ma davvero credete anche lontanamente che i dati da loro diffusi sono lontanamente reali? AHAH!\\n\\n#coronavirus',\n",
              " '@chetempochefa Vi suete accirti che covid 19 non è solo un problema della lombardia?\\nHa colpito tutta Italia, quindi anche il centro e il sud!!!',\n",
              " 'Ma quanto siete miseri a lamentarvi del fatto che dovreste pagare di meno se i servizi di streaming diminuiscono la qualità? Togliete il servizio se non è necessario per voi. Non è una situazione ordinaria #iorestoacasa']"
            ]
          },
          "metadata": {
            "tags": []
          },
          "execution_count": 53
        }
      ]
    },
    {
      "cell_type": "code",
      "metadata": {
        "id": "z-dmW--Qli9a",
        "colab_type": "code",
        "colab": {
          "base_uri": "https://localhost:8080/",
          "height": 205
        },
        "outputId": "972a9b6d-b051-403a-8988-086541260a1a"
      },
      "source": [
        "print_tweet(second_week, 'POSITIVE', 'sentiment_log_under', 10)"
      ],
      "execution_count": null,
      "outputs": [
        {
          "output_type": "execute_result",
          "data": {
            "text/plain": [
              "['Dopo 30 giorni di ricovero e tantissime difficoltà, Mattia - il paziente 1 di Codogno - può tornare a casa da sua moglie che, tra qualche giorno, diventerà mamma.\\n\\nFinalmente qualche bella notizia!\\n\\n#coronavirus #coronavirusitalIa #COVID19italia #Covid_19 #20marzo https://t.co/GeneYm1bxD',\n",
              " 'Dieci giorni di ricovero, la vita consegnata ai medici e affidata a Dio, la sofferenza, il dolore, ma anche la speranza di potercela fare. E la fiducia nella scienza e nella medicina. Dopo essere risultato positivo al Covid-19, monsignor Antonio… https://t.co/f5euDjwl6x',\n",
              " 'Coronavirus Milano, Chinatown: «Siamo orgogliosi del nostro Paesealtruista e sensibile» https://t.co/TLVnMGQwhJ',\n",
              " 'Questa mattina sono arrivate in città 100mila #mascherine chirurgiche e 200 termometri a infrarossi donate dalla città di #Guangzhou 🇨🇳.#covid19 https://t.co/QIiHNIbRch',\n",
              " 'Comunque, lo dico giusto per dire, stasera #italia1 trasmette #HarryPotter e la pietra filosofale. La #quarantena si fa meno dura e prende esattamente la piega che tutti stavamo aspettando. https://t.co/RZEuKekzMK',\n",
              " 'Quarantena salva\\nIl mio Nintendo DS Lite funziona con inclusi Super Mario Bros, Mario Kart, Animal Crossing: Wild World, The Sims e Cooking Mama 1 e 2',\n",
              " '#coronavirus  Finché non si comincerà a sentire notizie di condanne a coloro che non rispettano le norme di limitazione dei contatti sociali la previsione sull’andamenti del contagio sarà pessimistica!',\n",
              " 'I professionisti dei reparti di #oncologia stanno adottando nuove misure per garantire le #terapie e le adeguate precauzioni per i pazienti in un momento di assoluta fragilità.\\n#nonlasciatecisoli #COVID19\\n\\nhttps://t.co/S6EBVNcf3P',\n",
              " '#iorestoacasa alleniamo mente e corpo per rimanere vivi. Dio proteggici.🙏 https://t.co/9vQxKMA87y',\n",
              " 'La mia risposta a È un buon momento questo per comprare azioni / stocks online, per via della pandemia del Coronavirus (COVID-19)? https://t.co/r5DbZO8fyT']"
            ]
          },
          "metadata": {
            "tags": []
          },
          "execution_count": 22
        }
      ]
    },
    {
      "cell_type": "code",
      "metadata": {
        "id": "TwzPNmpNljfd",
        "colab_type": "code",
        "colab": {
          "base_uri": "https://localhost:8080/",
          "height": 205
        },
        "outputId": "890a3990-ab83-4e39-b297-ba955bb37962"
      },
      "source": [
        "print_tweet(second_week, 'NEUTRAL', 'sentiment_log_under', 10)"
      ],
      "execution_count": null,
      "outputs": [
        {
          "output_type": "execute_result",
          "data": {
            "text/plain": [
              "['Corriere della Sera: Coronavirus, in Lombardia stop a sport all’aperto anche da soli, studi professionali e cantieri.\\nhttps://t.co/7ZGBKHRoxZ',\n",
              " 'Coronavirus: dalla Regione i fondi per la sanificazione delle città siciliane https://t.co/bIgkxr9CuK https://t.co/C4tpmVCaKC',\n",
              " 'Coronavirus: militari in strada, sindaci e Fontana chiedono altri divieti e chiusure https://t.co/xKy9RA6HAo',\n",
              " 'Un Branco di idioti che metteranno in difficoltà il proprio Paese e il mondo #covid19 #coronavirus BBC News - US students party on spring break despite coronavirus\\nhttps://t.co/4J7xOQBjGG',\n",
              " 'Coronavirus. Di Maio: \"Sbloccata l\\'esportazione delle mascherine da Germania-Francia https://t.co/pF8JEPyqrD',\n",
              " 'Coronavirus, De Luca: “Se fate feste di laurea, vi mando i carabinieri con lanciafiamme”. Sul governo: “No a mezze misure. Va chiuso tutto” https://t.co/A0Ve6BUhyK',\n",
              " \"Dati coronavirus: \\nContagiati: 35.713\\nMultati perché in strada senza motivo: circa 50.000!!\\nE acclarato in Italia ci stanno più sciem ca' malat https://t.co/Lve24JHXff\",\n",
              " 'Papa Francesco, Messa a Santa Marta/ Diretta video Tv2000: preghiera per coronavirus https://t.co/SQXpmeS6Od',\n",
              " 'Per vincere il #coronavirus tutti i Paesi Europei devono impegnarsi allo stesso modo. Firma per chiedere un piano congiunto! @thegoodlobbyit #EUcanfightit https://t.co/X1dFRSMiAf',\n",
              " '#Inghilterra #Covid19. Chiusi tutti i locali pubblici, ma il governo prende in carico le paghe retroattivamente | https://t.co/VFMdXwXk0h https://t.co/fbvqk6bQmc']"
            ]
          },
          "metadata": {
            "tags": []
          },
          "execution_count": 23
        }
      ]
    },
    {
      "cell_type": "code",
      "metadata": {
        "id": "Kr-vIZpKmJgh",
        "colab_type": "code",
        "colab": {
          "base_uri": "https://localhost:8080/",
          "height": 205
        },
        "outputId": "0a878a38-7f63-4bb9-a5f1-31fec91aef5e"
      },
      "source": [
        "print_tweet(third_week, 'POSITIVE', 'sentiment_log_under', 10)"
      ],
      "execution_count": null,
      "outputs": [
        {
          "output_type": "execute_result",
          "data": {
            "text/plain": [
              "['°°[Psicologia] Amore a Distanza (Al Tempo della Quarantena)°° https://t.co/TbBTSoGoni via @wordpressdotcom',\n",
              " 'Eccola la nostra magnifica #MoleAntonelliana, che illuminata ancora una volta grazie ad @gruppoiren  si prepara a festeggiare con la @twitorino la 75° #FestadellaLiberazione.\\nhttps://t.co/C4mWsEKykw\\n\\n@c_appendino @RubenAbba @chieleon #torino #iorestoacasa @luisacicero #covid19 https://t.co/tYYHnWfpp2',\n",
              " '@INPS_it Buongiorno, vorrei sapere come mai fino a ieri sera mi diceva ATTESA ESITO e questa mattina mi dice che non ci sono domande covid 19 in corso #InpsInAscolto https://t.co/JhcSdAtd1H',\n",
              " 'Un mese fa espressi i miei dubbi. Tra insulti, esser tacciato di fare complottismo e defollow (oggi ringrazio) piovve un mare di melma. Sul #COVID19, e quello che ci hanno raccontato, il Premio Nobel 2008 per la Medicina #Montagner ha le idee chiarissime. \\nAnche lui complottista?',\n",
              " 'Imperia, Coronavirus: Mercato Oneglia, parlano gli ambulanti. \"Bello rivedere...\\nhttps://t.co/ckc3FWn954',\n",
              " \"Nasce 'Respira' , il primo ventilatore polmonare compatto adatto anche per uso domiciliare, grazie alla partnership tra due eccellenze italiane: la Seco di Arezzo e Ibd di Mantova.\\n#COVID19 #coronavirus https://t.co/xDp0iGCfgI\",\n",
              " 'Grazie presidente Zaia - Veneto sempre un passo avanti        Coronavirus e tamponi: la \"disobbedienza\" civile di Zaia ha salvato vite? - Le Iene https://t.co/ouOz9JZerc',\n",
              " 'Fa sempre piacere tuffarsi nella lettura di un libro e restarne rapiti... #libri #books @welikeduel #amigurumi #iorestoacasa #lettura https://t.co/uWRYYqHzLm',\n",
              " \"Ho trovato nella galleria del telefono dei video che ho fatto di nascosto a mio nonno prima che la quarantena iniziasse...e mi sono messa a guardarli,e sto piangendo come una fontana perché vorrei tanto vederlo e spero che tutto questo finisca presto perché non c'è la faccio più-\",\n",
              " 'Coronavirus, Franceschini a FI e FdI: “Non bisogna illudere settore del turismo, risposte le do con… https://t.co/Vx4nmTzQYs']"
            ]
          },
          "metadata": {
            "tags": []
          },
          "execution_count": 29
        }
      ]
    },
    {
      "cell_type": "code",
      "metadata": {
        "id": "Nhg0Cq7dmJYe",
        "colab_type": "code",
        "colab": {
          "base_uri": "https://localhost:8080/",
          "height": 205
        },
        "outputId": "bb7c6819-df3e-486c-bd4b-bf0cae8fefd4"
      },
      "source": [
        "print_tweet(third_week, 'NEUTRAL', 'sentiment_log_under', 10)"
      ],
      "execution_count": null,
      "outputs": [
        {
          "output_type": "execute_result",
          "data": {
            "text/plain": [
              "['Al tempo del #COVID19 si parla dello scaglionamento in base all’età per il ritorno alla normalità. Vorrei segnalare a Sergio Mattarella, ma non ne avrà bisogno, e a @GiuseppeConteIT che già troppa costituzione è stata adattata ora volete violare l’art. 3?',\n",
              " 'A quando il microchip sottopelle per i bambini senza smartphone e senza braccialetto? #coronavirus',\n",
              " 'Sono settimane che non ho aria nei polmoni e non è il corona virus.',\n",
              " \"Il coronavirus si mangia meta' risorse e diritti civili. Ricorda l'euro : da un giorno all'altro tutto organizzato e nessuna informazione ai comuni mortali.\",\n",
              " 'Mara Venier, confessione sulla quarantena: \"Niente coccole con mio marito. Ogni tanto lui allunga una mano, ma io lo freno\" https://t.co/dewQALLHQV',\n",
              " 'Coronavirus, senza il lockdown ci sarebbero stati tra “i 600 mila e gli 800 mila morti” https://t.co/AR8dT3ksQQ',\n",
              " 'Coronavirus a Messina, fiabe virtuali per i piccoli pazienti del centro @NemoSud \\nhttps://t.co/VzqSfOdrEL @GazzettaDelSud @CentroNemo',\n",
              " 'Selling travel when nobody can travel  Iniziano i nostri corsi virtuali https://t.co/ENifKk7n4h\\nAbbiamo aperto #dfmlab online info@musecomunicazione.it\\n https://t.co/M2KdEjX6BC #hotellerie vendere viaggi... #covid19',\n",
              " 'Mes, il direttore Regling: «Prestito? Per l’Italia non sarà un’altra Grecia. per i Coronabond, serve almeno un anno», intervista #danonperdere al capo del fondo salvastati #percapire @federicofubini \\u2066@L_Economia\\u2069 - del \\u2066@Corriere\\u2069  https://t.co/jZXYxdgNfR',\n",
              " '#Coronavirus. “#Indennità #Covid anche a chi fa attività di emergenza”. Per la #Cisl Fp il bonus è da estendere a tutti gli #operatori sanitari che sono esposti quotidianamente.\\n\\n👉 Leggi l’articolo su @tusciaweb: https://t.co/sEJ34xr2HU\\n\\n#AiutaChiTiAiuta #Ilmiolavorovale https://t.co/aFybTGti66']"
            ]
          },
          "metadata": {
            "tags": []
          },
          "execution_count": 30
        }
      ]
    },
    {
      "cell_type": "code",
      "metadata": {
        "id": "8frLslwO2Vo0",
        "colab_type": "code",
        "colab": {
          "base_uri": "https://localhost:8080/",
          "height": 205
        },
        "outputId": "557e66bb-c256-4fd3-846c-471e0feee184"
      },
      "source": [
        "print_tweet(fourth_week, 'POSITIVE', 'sentiment_log_under', 10)"
      ],
      "execution_count": null,
      "outputs": [
        {
          "output_type": "execute_result",
          "data": {
            "text/plain": [
              "['🖤 #DonnaSummer @OAODonnaSummer \\nI Remember Yesterday (1977)\\nLa musica che ci piace (ri)ascoltare 🎧 (Crazy)\\nFase 2 (quasi bis) 💥 Ai Tempi del Covid - 19 😷 https://t.co/m4NARAaHfx di @YouTube',\n",
              " '@INPS_it Buongiorno, ma i congedi parentali straordinari #covid19 per genitori con figli di età maggiore di 12 anni ma inferiore a 16 anni, sono in numero di 30gg dal 5 marzo o sono illimitati fino a chiusura scuole? Grazie.',\n",
              " 'raga il tendone non si smonta.\\nnessuno smetterà di seguire nessuno.\\nattive come sempre quando sarà necessario.\\nriprenderemo le nostre vite con annesse tutte le cose che la quarantena ci ha dato.\\nadesso si vedranno i veri fedeli. \\nily, 💙, \\U0001f9e1✨, ☘️  a tutti #circozzi https://t.co/sFuHRCGb2q',\n",
              " 'Nelle Marche ospedale Covid identico a quello \\xa0in Fiera di Milano. Voluto dal governatore Pd, è\\xa0vuoto https://t.co/mKlplENpFS',\n",
              " '1 solo nuovo caso positivo al #Covid-19 è stato riscontrato nelle ultime 24 ore in #Sardegna, su 1.026 tamponi eseguiti. Nessun decesso  https://t.co/xjdBW0IZLR',\n",
              " \"All'uscita dalla #goldfilm ieri #CanYaman rilascia un'intervista ai media. Parla di #BayYanliş del buon rapporto con #ÖzgeGürel, delle false chat con le fans, di Demet Ozdemir e di come ha trasformato il periodo di quarantena in positivo. @canyaman1989 🎬🎬🎬🥂🍾 https://t.co/82EHsUHfNj\",\n",
              " \"C'è da dire che questa quarantena ci ha insegnato a non essere superficiali, a non pensare sempre al fisico, al taglio di capelli, alla barba....ah no aspet\",\n",
              " '\"Sono ancora convinta che la soluzione sia continuare a credere, negli altri e nel futuro.\" \\n\\nQuella a @MichelaMarzano è una delle undici interviste realizzate durante la #quarantena da @marta_perego per \"Case di carta\", il suo ultimo libro.\\n\\nAcquistalo su https://t.co/Pr4S08WaeD https://t.co/hrxh6NKSPG',\n",
              " 'Il podcast di @senzagiro è per distacco il miglior prodotto audio di questa quarantena! Bravi! Bravissimi tutti! E spero già in un senza Tour...😜',\n",
              " 'crocerossa: \"Questo è uno dei servizi più belli che ho fatto da quando sono in #CroceRossa\". I Volontari di cri_paderno aiutano le persone più fragili, in isolamento nelle Residenze Sanitarie a causa del rischio #Covid19, a rimanere in contatto con i lor… https://t.co/6u0N5NuO0U']"
            ]
          },
          "metadata": {
            "tags": []
          },
          "execution_count": 37
        }
      ]
    },
    {
      "cell_type": "code",
      "metadata": {
        "id": "1O8YCnaQx2hA",
        "colab_type": "code",
        "colab": {
          "base_uri": "https://localhost:8080/",
          "height": 205
        },
        "outputId": "3b2d456b-adfa-40c9-c56f-1e497fef5d37"
      },
      "source": [
        "print_tweet(fourth_week, 'NEUTRAL', 'sentiment_log_under', 10)"
      ],
      "execution_count": null,
      "outputs": [
        {
          "output_type": "execute_result",
          "data": {
            "text/plain": [
              "['Molti si chiedono quando ripartirà il settore Wedding e quello degli eventi, due di quelli maggiormente colpiti dal Coronavirus\\n\\n#iltarantino #matrimoni #eventi\\n\\n https://t.co/z1pw1bVwxn',\n",
              " 'Buona fine quarantena a tutti!',\n",
              " 'Lavoro%2C una bomba pronta a esplodere: 149 aziende in crisi congelate dal Covid https://t.co/yE6LXngTEb',\n",
              " 'Non solo Boccia boccia il provvedimento ma anche Confindustria #turismo. Le perplessità legittime sono diverse e vengono da tante parti. #covid19 #coronavirus https://t.co/sv2RyllLiP di @ilGiornale',\n",
              " 'Calcio contro il Coronavirus, una magia al giorno/45: Ronaldo e lo stacco che resterà nella\\xa0storia https://t.co/ugANoGYoYc',\n",
              " \"#GuidaExpo #news &gt; Le #fiere italiane pronte alla #ripartenza chiedono al #Governo una data certa. @infoaefi ha richiamato l’attenzione sull'importanza delle fiere per l’economia: valore per #imprese e creano #lavoro\\n.\\nhttps://t.co/1wHp82V6bC\\n.\\n#coronavirus #covid19 #aefi\",\n",
              " 'Indagine ISTAT sul Covid. Età media delle persone decedute: 80 anni. I morti avevano in media 3 patologie croniche preesistenti. L’1% aveva meno di 50 anni',\n",
              " 'Coronavirus, al Regno Unito prime 30 mln dosi del vaccino italo-inglese https://t.co/ZqZOWVdL8p',\n",
              " '#Coronavirus, nessun nuovo contagio in #Calabria. I guariti sono 734 \\n\\nhttps://t.co/YktMHTq2nt',\n",
              " 'Movida e coronavirus: anche a Marsala i giovani che se ne fregano della\\xa0distanza https://t.co/xjA17Ki62J']"
            ]
          },
          "metadata": {
            "tags": []
          },
          "execution_count": 38
        }
      ]
    },
    {
      "cell_type": "markdown",
      "metadata": {
        "id": "GHYPCLqCrqpl",
        "colab_type": "text"
      },
      "source": [
        "### LSTM Categorical"
      ]
    },
    {
      "cell_type": "code",
      "metadata": {
        "id": "KaC6H5HbgBH-",
        "colab_type": "code",
        "colab": {}
      },
      "source": [
        "from keras.preprocessing.text import Tokenizer\n",
        "from sklearn.preprocessing import LabelEncoder\n",
        "from keras.preprocessing.sequence import pad_sequences\n",
        "from sklearn.preprocessing import LabelEncoder"
      ],
      "execution_count": 25,
      "outputs": []
    },
    {
      "cell_type": "markdown",
      "metadata": {
        "id": "Fi9z7xXdqkFK",
        "colab_type": "text"
      },
      "source": [
        "#### Under-sampling model "
      ]
    },
    {
      "cell_type": "code",
      "metadata": {
        "id": "iX2tAmiTS0-p",
        "colab_type": "code",
        "colab": {}
      },
      "source": [
        "# import models \n",
        "import tensorflow as tf \n",
        "model_under = tf.keras.models.load_model('lstm_category_under.h5')"
      ],
      "execution_count": 26,
      "outputs": []
    },
    {
      "cell_type": "code",
      "metadata": {
        "id": "-WOb48_Pqztn",
        "colab_type": "code",
        "colab": {}
      },
      "source": [
        "train_texts = train_under['clean_text']\n",
        "\n",
        "# tokenizer createad as during the training phase \n",
        "t = Tokenizer()\n",
        "t.fit_on_texts(train_texts)\n",
        "X_train = t.texts_to_sequences(train_texts)\n",
        "\n",
        "labels2numbers = LabelEncoder()\n",
        "y_train = labels2numbers.fit_transform(train_under['sentiment'])\n",
        "\n",
        "k = sorted([len(xx) for xx in X_train])\n",
        "f = k[int(len(k)/100*90)]\n",
        "maxlen = f"
      ],
      "execution_count": 27,
      "outputs": []
    },
    {
      "cell_type": "code",
      "metadata": {
        "id": "B7Wq3xwIkeNE",
        "colab_type": "code",
        "colab": {
          "base_uri": "https://localhost:8080/",
          "height": 101
        },
        "outputId": "d0e2f8dd-5b3b-4eeb-c9e7-86b05f4368b3"
      },
      "source": [
        "# first week \n",
        "X_test = t.texts_to_sequences(first_week.clean_text)\n",
        "X_test = pad_sequences(X_test, padding='post', maxlen=maxlen)\n",
        "prediction = model_under.predict(X_test)\n",
        "sentiment = []\n",
        "for pred in prediction: \n",
        "  sentiment.append(labels2numbers.inverse_transform([pred.argmax()])[0])\n",
        "\n",
        "first_week['deep_sentiment_under'] = sentiment\n",
        "first_week_counts = first_week['deep_sentiment_under'].value_counts()\n",
        "\n",
        "w1_deep = PrettyTable(['Model', 'Positive' ,'Negative', 'Neutral'])\n",
        "w1_deep.add_row(['LSTM (under)', \n",
        "           round((first_week_counts[2]/first_week.shape[0] * 100),2), \n",
        "           round((first_week_counts[1]/first_week.shape[0] * 100),2), \n",
        "           round((first_week_counts[0]/first_week.shape[0] * 100),2)])\n",
        "print(w1_deep)"
      ],
      "execution_count": 28,
      "outputs": [
        {
          "output_type": "stream",
          "text": [
            "+--------------+----------+----------+---------+\n",
            "|    Model     | Positive | Negative | Neutral |\n",
            "+--------------+----------+----------+---------+\n",
            "| LSTM (under) |   6.18   |  29.35   |  64.47  |\n",
            "+--------------+----------+----------+---------+\n"
          ],
          "name": "stdout"
        }
      ]
    },
    {
      "cell_type": "code",
      "metadata": {
        "id": "eNFYYroTqO4X",
        "colab_type": "code",
        "colab": {
          "base_uri": "https://localhost:8080/",
          "height": 101
        },
        "outputId": "f58c644c-1544-4955-f6b3-7f59f9aceda1"
      },
      "source": [
        "# second week \n",
        "X_test = t.texts_to_sequences(second_week.clean_text)\n",
        "X_test = pad_sequences(X_test, padding='post', maxlen=maxlen)\n",
        "prediction = model_under.predict(X_test)\n",
        "sentiment = []\n",
        "for pred in prediction: \n",
        "  sentiment.append(labels2numbers.inverse_transform([pred.argmax()])[0])\n",
        "\n",
        "second_week['deep_sentiment_under'] = sentiment\n",
        "second_week_counts = second_week['deep_sentiment_under'].value_counts()\n",
        "\n",
        "w2_deep = PrettyTable(['Model', 'Positive' ,'Negative', 'Neutral'])\n",
        "w2_deep.add_row(['LSTM (under)', \n",
        "           round((second_week_counts[2]/second_week.shape[0] * 100),2), \n",
        "           round((second_week_counts[1]/second_week.shape[0] * 100),2), \n",
        "           round((second_week_counts[0]/second_week.shape[0] * 100),2)])\n",
        "print(w2_deep)"
      ],
      "execution_count": 29,
      "outputs": [
        {
          "output_type": "stream",
          "text": [
            "+--------------+----------+----------+---------+\n",
            "|    Model     | Positive | Negative | Neutral |\n",
            "+--------------+----------+----------+---------+\n",
            "| LSTM (under) |   8.96   |  25.84   |  65.21  |\n",
            "+--------------+----------+----------+---------+\n"
          ],
          "name": "stdout"
        }
      ]
    },
    {
      "cell_type": "code",
      "metadata": {
        "id": "hV3wvh40qdh_",
        "colab_type": "code",
        "colab": {
          "base_uri": "https://localhost:8080/",
          "height": 101
        },
        "outputId": "4df75db8-d616-4764-ba74-6488e93a294b"
      },
      "source": [
        "# third week \n",
        "X_test = t.texts_to_sequences(third_week.clean_text)\n",
        "X_test = pad_sequences(X_test, padding='post', maxlen=maxlen)\n",
        "prediction = model_under.predict(X_test)\n",
        "sentiment = []\n",
        "for pred in prediction: \n",
        "  sentiment.append(labels2numbers.inverse_transform([pred.argmax()])[0])\n",
        "\n",
        "third_week['deep_sentiment_under'] = sentiment\n",
        "third_week_counts = third_week['deep_sentiment_under'].value_counts()\n",
        "\n",
        "w3_deep = PrettyTable(['Model', 'Positive' ,'Negative', 'Neutral'])\n",
        "w3_deep.add_row(['LSTM (under)', \n",
        "           round((third_week_counts[2]/third_week.shape[0] * 100),2), \n",
        "           round((third_week_counts[1]/third_week.shape[0] * 100),2), \n",
        "           round((third_week_counts[0]/third_week.shape[0] * 100),2)])\n",
        "print(w3_deep)"
      ],
      "execution_count": 30,
      "outputs": [
        {
          "output_type": "stream",
          "text": [
            "+--------------+----------+----------+---------+\n",
            "|    Model     | Positive | Negative | Neutral |\n",
            "+--------------+----------+----------+---------+\n",
            "| LSTM (under) |   8.38   |  26.46   |  65.15  |\n",
            "+--------------+----------+----------+---------+\n"
          ],
          "name": "stdout"
        }
      ]
    },
    {
      "cell_type": "code",
      "metadata": {
        "id": "yDg-VU3zrBVR",
        "colab_type": "code",
        "colab": {
          "base_uri": "https://localhost:8080/",
          "height": 101
        },
        "outputId": "50c4970f-0675-465b-89ab-18f90fdaf02d"
      },
      "source": [
        "# fourth week \n",
        "X_test = t.texts_to_sequences(fourth_week.clean_text)\n",
        "X_test = pad_sequences(X_test, padding='post', maxlen=maxlen)\n",
        "prediction = model_under.predict(X_test)\n",
        "sentiment = []\n",
        "for pred in prediction: \n",
        "  sentiment.append(labels2numbers.inverse_transform([pred.argmax()])[0])\n",
        "\n",
        "fourth_week['deep_sentiment_under'] = sentiment\n",
        "fourth_week_counts = fourth_week['deep_sentiment_under'].value_counts()\n",
        "\n",
        "w4_deep = PrettyTable(['Model', 'Positive' ,'Negative', 'Neutral'])\n",
        "w4_deep.add_row(['LSTM (under)', \n",
        "           round((fourth_week_counts[2]/fourth_week.shape[0] * 100),2), \n",
        "           round((fourth_week_counts[1]/fourth_week.shape[0] * 100),2), \n",
        "           round((fourth_week_counts[0]/fourth_week.shape[0] * 100),2)])\n",
        "print(w4_deep)"
      ],
      "execution_count": 31,
      "outputs": [
        {
          "output_type": "stream",
          "text": [
            "+--------------+----------+----------+---------+\n",
            "|    Model     | Positive | Negative | Neutral |\n",
            "+--------------+----------+----------+---------+\n",
            "| LSTM (under) |   7.67   |  25.36   |  66.97  |\n",
            "+--------------+----------+----------+---------+\n"
          ],
          "name": "stdout"
        }
      ]
    },
    {
      "cell_type": "markdown",
      "metadata": {
        "id": "KZbHWQM7r4wL",
        "colab_type": "text"
      },
      "source": [
        "#### Original dataset model"
      ]
    },
    {
      "cell_type": "code",
      "metadata": {
        "id": "RxPdNQIpsHRD",
        "colab_type": "code",
        "colab": {}
      },
      "source": [
        "# import models \n",
        "import tensorflow as tf \n",
        "model_category = tf.keras.models.load_model('lstm_category.h5')"
      ],
      "execution_count": 32,
      "outputs": []
    },
    {
      "cell_type": "code",
      "metadata": {
        "id": "tFk8tGOfsL91",
        "colab_type": "code",
        "colab": {}
      },
      "source": [
        "train_texts = train['clean_text']\n",
        "\n",
        "# tokenizer createad as during the training phase \n",
        "t = Tokenizer()\n",
        "t.fit_on_texts(train_texts)\n",
        "X_train = t.texts_to_sequences(train_texts)\n",
        "\n",
        "labels2numbers = LabelEncoder()\n",
        "y_train = labels2numbers.fit_transform(train['sentiment'])\n",
        "\n",
        "k = sorted([len(xx) for xx in X_train])\n",
        "f = k[int(len(k)/100*90)]\n",
        "maxlen = f"
      ],
      "execution_count": 33,
      "outputs": []
    },
    {
      "cell_type": "code",
      "metadata": {
        "id": "fxcMVd7hsNfi",
        "colab_type": "code",
        "colab": {
          "base_uri": "https://localhost:8080/",
          "height": 118
        },
        "outputId": "bfe7f631-fb16-497d-e725-85899f772cf1"
      },
      "source": [
        "# first week \n",
        "X_test = t.texts_to_sequences(first_week.clean_text)\n",
        "X_test = pad_sequences(X_test, padding='post', maxlen=maxlen)\n",
        "prediction = model_category.predict(X_test)\n",
        "sentiment = []\n",
        "for pred in prediction: \n",
        "  sentiment.append(labels2numbers.inverse_transform([pred.argmax()])[0])\n",
        "\n",
        "first_week['deep_sentiment'] = sentiment\n",
        "first_week_counts = first_week['deep_sentiment'].value_counts()\n",
        "\n",
        "w1_deep.add_row(['LSTM (original)', \n",
        "           round((first_week_counts[2]/first_week.shape[0] * 100),2), \n",
        "           round((first_week_counts[1]/first_week.shape[0] * 100),2), \n",
        "           round((first_week_counts[0]/first_week.shape[0] * 100),2)])\n",
        "print(w1_deep)"
      ],
      "execution_count": 34,
      "outputs": [
        {
          "output_type": "stream",
          "text": [
            "+-----------------+----------+----------+---------+\n",
            "|      Model      | Positive | Negative | Neutral |\n",
            "+-----------------+----------+----------+---------+\n",
            "|   LSTM (under)  |   6.18   |  29.35   |  64.47  |\n",
            "| LSTM (original) |   2.73   |   4.8    |  92.48  |\n",
            "+-----------------+----------+----------+---------+\n"
          ],
          "name": "stdout"
        }
      ]
    },
    {
      "cell_type": "code",
      "metadata": {
        "id": "0TFbtAPisNc1",
        "colab_type": "code",
        "colab": {
          "base_uri": "https://localhost:8080/",
          "height": 118
        },
        "outputId": "e26ee8cd-df04-405e-e082-d39cfe118f04"
      },
      "source": [
        "# second week \n",
        "X_test = t.texts_to_sequences(second_week.clean_text)\n",
        "X_test = pad_sequences(X_test, padding='post', maxlen=maxlen)\n",
        "prediction = model_category.predict(X_test)\n",
        "sentiment = []\n",
        "for pred in prediction: \n",
        "  sentiment.append(labels2numbers.inverse_transform([pred.argmax()])[0])\n",
        "\n",
        "second_week['deep_sentiment'] = sentiment\n",
        "second_week_counts = second_week['deep_sentiment'].value_counts()\n",
        "\n",
        "w2_deep.add_row(['LSTM (original)', \n",
        "           round((second_week_counts[2]/second_week.shape[0] * 100),2), \n",
        "           round((second_week_counts[1]/second_week.shape[0] * 100),2), \n",
        "           round((second_week_counts[0]/second_week.shape[0] * 100),2)])\n",
        "print(w2_deep)"
      ],
      "execution_count": 35,
      "outputs": [
        {
          "output_type": "stream",
          "text": [
            "+-----------------+----------+----------+---------+\n",
            "|      Model      | Positive | Negative | Neutral |\n",
            "+-----------------+----------+----------+---------+\n",
            "|   LSTM (under)  |   8.96   |  25.84   |  65.21  |\n",
            "| LSTM (original) |   2.18   |   8.4    |  89.42  |\n",
            "+-----------------+----------+----------+---------+\n"
          ],
          "name": "stdout"
        }
      ]
    },
    {
      "cell_type": "code",
      "metadata": {
        "id": "GC7ZjzLYsNaS",
        "colab_type": "code",
        "colab": {
          "base_uri": "https://localhost:8080/",
          "height": 118
        },
        "outputId": "fe3707e7-d51b-4a5d-ce1e-8908bd4df23e"
      },
      "source": [
        "# third week \n",
        "X_test = t.texts_to_sequences(third_week.clean_text)\n",
        "X_test = pad_sequences(X_test, padding='post', maxlen=maxlen)\n",
        "prediction = model_category.predict(X_test)\n",
        "sentiment = []\n",
        "for pred in prediction: \n",
        "  sentiment.append(labels2numbers.inverse_transform([pred.argmax()])[0])\n",
        "\n",
        "third_week['deep_sentiment'] = sentiment\n",
        "third_week_counts = third_week['deep_sentiment'].value_counts()\n",
        "\n",
        "w3_deep.add_row(['LSTM (original)', \n",
        "           round((third_week_counts[2]/third_week.shape[0] * 100),2), \n",
        "           round((third_week_counts[1]/third_week.shape[0] * 100),2), \n",
        "           round((third_week_counts[0]/third_week.shape[0] * 100),2)])\n",
        "print(w3_deep)"
      ],
      "execution_count": 36,
      "outputs": [
        {
          "output_type": "stream",
          "text": [
            "+-----------------+----------+----------+---------+\n",
            "|      Model      | Positive | Negative | Neutral |\n",
            "+-----------------+----------+----------+---------+\n",
            "|   LSTM (under)  |   8.38   |  26.46   |  65.15  |\n",
            "| LSTM (original) |   1.93   |   6.86   |  91.21  |\n",
            "+-----------------+----------+----------+---------+\n"
          ],
          "name": "stdout"
        }
      ]
    },
    {
      "cell_type": "code",
      "metadata": {
        "id": "uVlpkse4sNRp",
        "colab_type": "code",
        "colab": {
          "base_uri": "https://localhost:8080/",
          "height": 118
        },
        "outputId": "157bf599-94aa-41ea-f28d-de4cf25d4c5d"
      },
      "source": [
        "# fourth week \n",
        "X_test = t.texts_to_sequences(fourth_week.clean_text)\n",
        "X_test = pad_sequences(X_test, padding='post', maxlen=maxlen)\n",
        "prediction = model_category.predict(X_test)\n",
        "sentiment = []\n",
        "for pred in prediction: \n",
        "  sentiment.append(labels2numbers.inverse_transform([pred.argmax()])[0])\n",
        "\n",
        "fourth_week['deep_sentiment'] = sentiment\n",
        "fourth_week_counts = fourth_week['deep_sentiment'].value_counts()\n",
        "\n",
        "w4_deep.add_row(['LSTM (original)', \n",
        "           round((fourth_week_counts[2]/fourth_week.shape[0] * 100),2), \n",
        "           round((fourth_week_counts[1]/fourth_week.shape[0] * 100),2), \n",
        "           round((fourth_week_counts[0]/fourth_week.shape[0] * 100),2)])\n",
        "print(w4_deep)"
      ],
      "execution_count": 37,
      "outputs": [
        {
          "output_type": "stream",
          "text": [
            "+-----------------+----------+----------+---------+\n",
            "|      Model      | Positive | Negative | Neutral |\n",
            "+-----------------+----------+----------+---------+\n",
            "|   LSTM (under)  |   7.67   |  25.36   |  66.97  |\n",
            "| LSTM (original) |   2.11   |   5.75   |  92.14  |\n",
            "+-----------------+----------+----------+---------+\n"
          ],
          "name": "stdout"
        }
      ]
    },
    {
      "cell_type": "markdown",
      "metadata": {
        "id": "BxxmKGKHfG8p",
        "colab_type": "text"
      },
      "source": [
        "#### Over-sampling dataset"
      ]
    },
    {
      "cell_type": "code",
      "metadata": {
        "id": "CkdE51RifC_5",
        "colab_type": "code",
        "colab": {}
      },
      "source": [
        "# import models \n",
        "import tensorflow as tf \n",
        "model_category_over = tf.keras.models.load_model('lstm_category_over.h5')"
      ],
      "execution_count": 38,
      "outputs": []
    },
    {
      "cell_type": "code",
      "metadata": {
        "id": "OuSTFcPWhypJ",
        "colab_type": "code",
        "colab": {}
      },
      "source": [
        "train_texts = train['clean_text']\n",
        "\n",
        "# tokenizer createad as during the training phase \n",
        "t = Tokenizer()\n",
        "t.fit_on_texts(train_texts)\n",
        "X_train = t.texts_to_sequences(train_texts)\n",
        "\n",
        "labels2numbers = LabelEncoder()\n",
        "y_train = labels2numbers.fit_transform(train['sentiment'])\n",
        "\n",
        "k = sorted([len(xx) for xx in X_train])\n",
        "f = k[int(len(k)/100*90)]\n",
        "maxlen = f"
      ],
      "execution_count": 39,
      "outputs": []
    },
    {
      "cell_type": "code",
      "metadata": {
        "colab_type": "code",
        "id": "1vApohvNhtA9",
        "colab": {
          "base_uri": "https://localhost:8080/",
          "height": 134
        },
        "outputId": "430d0c74-2151-4250-d853-7980e437d44c"
      },
      "source": [
        "# first week \n",
        "X_test = t.texts_to_sequences(first_week.clean_text)\n",
        "X_test = pad_sequences(X_test, padding='post', maxlen=maxlen)\n",
        "prediction = model_category_over.predict(X_test)\n",
        "sentiment = []\n",
        "for pred in prediction: \n",
        "  sentiment.append(labels2numbers.inverse_transform([pred.argmax()])[0])\n",
        "\n",
        "first_week['deep_sentiment_over'] = sentiment\n",
        "first_week_counts = first_week['deep_sentiment_over'].value_counts()\n",
        "\n",
        "w1_deep.add_row(['LSTM (over)', \n",
        "           round((first_week_counts[2]/first_week.shape[0] * 100),2), \n",
        "           round((first_week_counts[1]/first_week.shape[0] * 100),2), \n",
        "           round((first_week_counts[0]/first_week.shape[0] * 100),2)])\n",
        "print(w1_deep)"
      ],
      "execution_count": 40,
      "outputs": [
        {
          "output_type": "stream",
          "text": [
            "+-----------------+----------+----------+---------+\n",
            "|      Model      | Positive | Negative | Neutral |\n",
            "+-----------------+----------+----------+---------+\n",
            "|   LSTM (under)  |   6.18   |  29.35   |  64.47  |\n",
            "| LSTM (original) |   2.73   |   4.8    |  92.48  |\n",
            "|   LSTM (over)   |   3.62   |   3.91   |  92.47  |\n",
            "+-----------------+----------+----------+---------+\n"
          ],
          "name": "stdout"
        }
      ]
    },
    {
      "cell_type": "code",
      "metadata": {
        "colab_type": "code",
        "id": "ZSMxbPmJhtBB",
        "colab": {
          "base_uri": "https://localhost:8080/",
          "height": 134
        },
        "outputId": "4e0340c4-a7e7-4cbc-8285-5f57671914a6"
      },
      "source": [
        "# second week \n",
        "X_test = t.texts_to_sequences(second_week.clean_text)\n",
        "X_test = pad_sequences(X_test, padding='post', maxlen=maxlen)\n",
        "prediction = model_category_over.predict(X_test)\n",
        "sentiment = []\n",
        "for pred in prediction: \n",
        "  sentiment.append(labels2numbers.inverse_transform([pred.argmax()])[0])\n",
        "\n",
        "second_week['deep_sentiment_over'] = sentiment\n",
        "second_week_counts = second_week['deep_sentiment_over'].value_counts()\n",
        "\n",
        "w2_deep.add_row(['LSTM (over)', \n",
        "           round((second_week_counts[2]/second_week.shape[0] * 100),2), \n",
        "           round((second_week_counts[1]/second_week.shape[0] * 100),2), \n",
        "           round((second_week_counts[0]/second_week.shape[0] * 100),2)])\n",
        "print(w2_deep)"
      ],
      "execution_count": 41,
      "outputs": [
        {
          "output_type": "stream",
          "text": [
            "+-----------------+----------+----------+---------+\n",
            "|      Model      | Positive | Negative | Neutral |\n",
            "+-----------------+----------+----------+---------+\n",
            "|   LSTM (under)  |   8.96   |  25.84   |  65.21  |\n",
            "| LSTM (original) |   2.18   |   8.4    |  89.42  |\n",
            "|   LSTM (over)   |   2.91   |   6.19   |   90.9  |\n",
            "+-----------------+----------+----------+---------+\n"
          ],
          "name": "stdout"
        }
      ]
    },
    {
      "cell_type": "code",
      "metadata": {
        "colab_type": "code",
        "id": "KmgWcDAghtBD",
        "colab": {
          "base_uri": "https://localhost:8080/",
          "height": 134
        },
        "outputId": "c46b022e-1eb9-459c-a0a9-629105c33d71"
      },
      "source": [
        "# third week \n",
        "X_test = t.texts_to_sequences(third_week.clean_text)\n",
        "X_test = pad_sequences(X_test, padding='post', maxlen=maxlen)\n",
        "prediction = model_category_over.predict(X_test)\n",
        "sentiment = []\n",
        "for pred in prediction: \n",
        "  sentiment.append(labels2numbers.inverse_transform([pred.argmax()])[0])\n",
        "\n",
        "third_week['deep_sentiment_over'] = sentiment\n",
        "third_week_counts = third_week['deep_sentiment_over'].value_counts()\n",
        "\n",
        "w3_deep.add_row(['LSTM (over)', \n",
        "           round((third_week_counts[2]/third_week.shape[0] * 100),2), \n",
        "           round((third_week_counts[1]/third_week.shape[0] * 100),2), \n",
        "           round((third_week_counts[0]/third_week.shape[0] * 100),2)])\n",
        "print(w3_deep)"
      ],
      "execution_count": 42,
      "outputs": [
        {
          "output_type": "stream",
          "text": [
            "+-----------------+----------+----------+---------+\n",
            "|      Model      | Positive | Negative | Neutral |\n",
            "+-----------------+----------+----------+---------+\n",
            "|   LSTM (under)  |   8.38   |  26.46   |  65.15  |\n",
            "| LSTM (original) |   1.93   |   6.86   |  91.21  |\n",
            "|   LSTM (over)   |   2.58   |   5.65   |  91.77  |\n",
            "+-----------------+----------+----------+---------+\n"
          ],
          "name": "stdout"
        }
      ]
    },
    {
      "cell_type": "code",
      "metadata": {
        "colab_type": "code",
        "id": "LGIKhXLThtBG",
        "colab": {
          "base_uri": "https://localhost:8080/",
          "height": 134
        },
        "outputId": "0c46daf6-728f-46b0-b924-de9428a96f47"
      },
      "source": [
        "# fourth week \n",
        "X_test = t.texts_to_sequences(fourth_week.clean_text)\n",
        "X_test = pad_sequences(X_test, padding='post', maxlen=maxlen)\n",
        "prediction = model_category_over.predict(X_test)\n",
        "sentiment = []\n",
        "for pred in prediction: \n",
        "  sentiment.append(labels2numbers.inverse_transform([pred.argmax()])[0])\n",
        "\n",
        "fourth_week['deep_sentiment_over'] = sentiment\n",
        "fourth_week_counts = fourth_week['deep_sentiment_over'].value_counts()\n",
        "\n",
        "w4_deep.add_row(['LSTM (over)', \n",
        "           round((fourth_week_counts[2]/fourth_week.shape[0] * 100),2), \n",
        "           round((fourth_week_counts[1]/fourth_week.shape[0] * 100),2), \n",
        "           round((fourth_week_counts[0]/fourth_week.shape[0] * 100),2)])\n",
        "print(w4_deep)"
      ],
      "execution_count": 43,
      "outputs": [
        {
          "output_type": "stream",
          "text": [
            "+-----------------+----------+----------+---------+\n",
            "|      Model      | Positive | Negative | Neutral |\n",
            "+-----------------+----------+----------+---------+\n",
            "|   LSTM (under)  |   7.67   |  25.36   |  66.97  |\n",
            "| LSTM (original) |   2.11   |   5.75   |  92.14  |\n",
            "|   LSTM (over)   |   2.55   |   4.84   |  92.61  |\n",
            "+-----------------+----------+----------+---------+\n"
          ],
          "name": "stdout"
        }
      ]
    },
    {
      "cell_type": "markdown",
      "metadata": {
        "id": "m9JjsPCZtsFN",
        "colab_type": "text"
      },
      "source": [
        "#### Print tweets"
      ]
    },
    {
      "cell_type": "code",
      "metadata": {
        "id": "h_IIVb4KsdvN",
        "colab_type": "code",
        "colab": {
          "base_uri": "https://localhost:8080/",
          "height": 205
        },
        "outputId": "7de1474c-908a-474a-fc21-26ac1ecbd35d"
      },
      "source": [
        "print_tweet(first_week, 'NEGATIVE', 'deep_sentiment_under', 10)"
      ],
      "execution_count": 53,
      "outputs": [
        {
          "output_type": "execute_result",
          "data": {
            "text/plain": [
              "['Coronavirus, il piano di Trump: \\u200b\\u200b\\u200b\\u200b\\u200b\\u200b\\u200buna task force \\u200b\\u200b\\u200b\\u200b\\u200b\\u200b\\u200be l’invito alla calma https://t.co/8WQ7tUEejh https://t.co/M0nGxFT7eV',\n",
              " \"Per alcuni temerari il #COVID19 è l'anticorpo della Terra che si difende dalle devastazioni climatiche e inquinamento degli umani.\",\n",
              " 'GUALTIERI MINISTRO DELL’ECONOMIA ha comunicato che a causa del CORONAVIRUS\\n- I COMUNI DOVE L’ECONOMIA SI È FERMATA AVRANNO UNA SOSPENSIONE DEL PAGAMENTO DELLE TASSE E BOLLETTE\\n- INVECE PER TUTTA L’ITALIA VIENE TOLTO IL PAGAMENTO DI TASSE E CONTRIBUTI A TUTTE LE AZIENDE TURISTICHE',\n",
              " 'Dopo la psicosi da virus, emerge che l’aspetto più grave non è quello della salute pubblica ma quella economica... Coronavirus, Burioni e la psicosi: «Non è un raffreddore ma nemmeno la peste. Mi scuso con Gismondo, la collega del Sacco» #agorarai',\n",
              " '#Coronavirus : a #Palermo #cinesi chiudono negozi per paura di essere contagiati dai turisti\\n\\nCari amici cinesi, questa è una barzelletta. State mettendo in ginocchio l’Italia è fate dell’umorismo? Fate una cosa, chiudete per sempre e andate altrove.  https://t.co/Fz3TlQWqd8',\n",
              " 'Spediscono nelle buste di plastica e fanno FCFS a Milano con emergenza corona virus, i miei geni https://t.co/VxBYaWaDZl',\n",
              " 'Non mi dite che non esistono le  caratteristiche di genere. Tutti i maschi che conosco reputano eccessiva la preoccupazione isterica per il #coronavirus e sono preoccupati per le aziende. Tutte le donne se ne fregano dell’economia, preoccupate + o - istericamente del contagio.',\n",
              " '#coronavirus 3 giorni scuole chiuse a Napoli per igienizzazione e sanificazione ma la città continua ad essere sporca. Incoerenze da #coronavirusitalianews    https://t.co/2hOsesc2d4',\n",
              " 'il coronavirus ha scelto proprio l’italia perché ha visto che siamo un popolo di deficienti che guardano Barbara D’Urso e ha capito che meritiamo l’estinzione',\n",
              " \"#CoronaVirusitaly \\nL'epidemia si allarga a tutta l'Italia\\n\\nUltim'ora 08.15 @repubblica \\nCoronavirus, due nuovi casi in Italia: a Firenze e Palermo\"]"
            ]
          },
          "metadata": {
            "tags": []
          },
          "execution_count": 53
        }
      ]
    },
    {
      "cell_type": "code",
      "metadata": {
        "id": "SKHaqb58FGgy",
        "colab_type": "code",
        "colab": {
          "base_uri": "https://localhost:8080/",
          "height": 205
        },
        "outputId": "b61ee9de-f8d3-4c64-dfe0-1380d4794359"
      },
      "source": [
        "print_tweet(fourth_week, 'NEUTRAL', 'deep_sentiment_under', 10)"
      ],
      "execution_count": 62,
      "outputs": [
        {
          "output_type": "execute_result",
          "data": {
            "text/plain": [
              "['Coronavirus, in Lombardia 84.844 casi. Crescono i guariti e calano i ricoveri https://t.co/Kpz7xPad6k',\n",
              " 'Coronavirus. Radiografia al torace predice ricovero e intubazione https://t.co/0IQFWNvVnN',\n",
              " 'Coronavirus a Reggio Calabria, nessun nuovo contagiato #calabrianotizie #newscalabria https://t.co/86fWnxyCrF',\n",
              " 'Coronavirus. Bollettino Regione Calabria, +0 positivi rispetto a ieri https://t.co/84Zc5DJYWv',\n",
              " 'CORONAVIRUS, ASL VITERBO: UN CASO ACCERTATO NELLA GIORNATA DI OGGI A BELCOLLE https://t.co/PZNtirdXVj di @lacitta',\n",
              " 'CORONAVIRUS: IL BOLLETTINO/ A Pozzuoli nessun contagiato da nove giorni: anche oggi zero\\xa0“positivi” https://t.co/lYB5jFt9U0',\n",
              " 'A #Verona il 95% della popolazione non ha contratto il coronavirus https://t.co/W79GgyGja0',\n",
              " 'Quelli che... in tempi di #quarantena da #pandemia devono stare a casa e non sapendo come passare tempo picchiano le mogli che devono stare a casa anche loro... OH YEAH! \\n[mezza cit. Jannacci]\\nSembra una brutta battuta ma i dati dicono sia davvero così... #portaaporta #Lamorgese',\n",
              " \"Gli ultimi dati del Covid 19 ci dice che l'84% dei positivi non ha sintomi o sintomi lievi.Quindi solo il 16% si ammala gravemente.Allora di che si sta parlando?????\",\n",
              " '🗣️Spadafora: \"Il 28 maggio riunione con @FIGC e @SerieA, decideremo il futuro del campionato\"\\n\\n#lungavitaalcalcio #LVAC #SerieA #coronavirus #COVID19 https://t.co/PwpcOhXFOP']"
            ]
          },
          "metadata": {
            "tags": []
          },
          "execution_count": 62
        }
      ]
    },
    {
      "cell_type": "code",
      "metadata": {
        "id": "itQmcxtmtKGg",
        "colab_type": "code",
        "colab": {
          "base_uri": "https://localhost:8080/",
          "height": 205
        },
        "outputId": "d2574a41-69dc-42a3-d34f-5d155e83fb91"
      },
      "source": [
        "print_tweet(fourth_week, 'POSITIVE', 'deep_sentiment_under', 10)"
      ],
      "execution_count": 58,
      "outputs": [
        {
          "output_type": "execute_result",
          "data": {
            "text/plain": [
              "[\"L'Italia ha fornito 800 risposte all'indagine che i ricercatori europei hanno diffuso in 23 Nazioni su #alcol e #coronavirus.Ne servono 2000,il ink al questionario è:\\nhttps://t.co/ptOddgZukJ \\nCOMPILATE &amp; CONDIVIDETE, Grazie ! \\n@istsupsan  @MinisteroSalute  https://t.co/MlTAd3HzIu\",\n",
              " 'Coronavirus, al Regno Unito prime 30 mln dosi del vaccino italo-inglese https://t.co/flybmmdE0T',\n",
              " 'Questa famiglia è nata per sostenerle e per la loro musica, la quarantena sarà finita, si scriverà di meno, ma una famiglia è sempre una famiglia. Loro ci accomunano e le farà piacere vedere questa famiglia unita che le sostiene e saper di poter contare su di noi. #circozzi',\n",
              " '🔴 In #ValledAosta nessun nuovo caso positivo nelle ultime 24 ore. Il totale, quindi, resta a 1.177 e 86 attualmente positivi. Decessi totali: 143. In terapia intensiva: 2. In isolamento domiciliare: 61. #covid19 #coronavirus',\n",
              " 'CORONAVIRUS: Sale a 9 morti in Gibuti, 30 in Yemen, 55 in Mali, 57 in Ciad, 61 in Somalia, 233 negli Emirati Arabi Uniti, 279 in Israele, 304 in Repubblica Ceca, 339 in Sudafrica e 962 in Polonia: In totale sono 325.627 morti https://t.co/Vu0hg9KfoB',\n",
              " 'Raga ma solo a me va in crush Facebook? #facebookdown #COVID19',\n",
              " 'Dai valore alla gioia e agli eventi belli: non rinunciare ai giorni di festa... in sicurezza\\n#iorestoacasa #palloncini #partyacasa #festaincasa #palloncini #party #auguri #compleanno #festa #kitfesta https://t.co/xYgBvSWv2J',\n",
              " 'I ricatti delle Nazioni unite durante il coronavirus https://t.co/UdjRL9ZjmD',\n",
              " 'Comunicazione istituzionale e giornalistica al tempo del\\xa0Covid https://t.co/sxKcaL6QaN',\n",
              " 'Coronavirus, il primo aggiornamento di giornata su contagi che tornano a salire https://t.co/sW7IjUIvO3']"
            ]
          },
          "metadata": {
            "tags": []
          },
          "execution_count": 58
        }
      ]
    }
  ]
}