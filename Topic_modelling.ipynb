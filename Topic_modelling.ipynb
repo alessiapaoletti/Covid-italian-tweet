{
  "nbformat": 4,
  "nbformat_minor": 0,
  "metadata": {
    "colab": {
      "name": "Topic_modelling.ipynb",
      "provenance": [],
      "collapsed_sections": [],
      "toc_visible": true
    },
    "kernelspec": {
      "name": "python3",
      "display_name": "Python 3"
    }
  },
  "cells": [
    {
      "cell_type": "markdown",
      "metadata": {
        "id": "SBjoJibtFLEd",
        "colab_type": "text"
      },
      "source": [
        "## Start setup\n",
        "\n"
      ]
    },
    {
      "cell_type": "code",
      "metadata": {
        "id": "HNftT9mq-bnw",
        "colab_type": "code",
        "colab": {}
      },
      "source": [
        "import warnings\n",
        "category='DeprecationWarning'\n",
        "warnings.filterwarnings('ignore', category)"
      ],
      "execution_count": null,
      "outputs": []
    },
    {
      "cell_type": "code",
      "metadata": {
        "id": "m-2jJ18UJuCb",
        "colab_type": "code",
        "colab": {}
      },
      "source": [
        "import warnings\n",
        "warnings.simplefilter(\"ignore\", category=PendingDeprecationWarning)"
      ],
      "execution_count": null,
      "outputs": []
    },
    {
      "cell_type": "code",
      "metadata": {
        "id": "3Oftl4Tf8Sms",
        "colab_type": "code",
        "colab": {}
      },
      "source": [
        "import logging\n",
        "logger = logging.getLogger()\n",
        "logger.setLevel(logging.CRITICAL)"
      ],
      "execution_count": null,
      "outputs": []
    },
    {
      "cell_type": "code",
      "metadata": {
        "id": "IDN_x_dgsmh1",
        "colab_type": "code",
        "colab": {
          "base_uri": "https://localhost:8080/",
          "height": 121
        },
        "outputId": "48192de5-571b-4542-ef89-bac3c6ca4a7d"
      },
      "source": [
        "# google drive settings \n",
        "from google.colab import drive \n",
        "drive.mount('/content/gdrive')"
      ],
      "execution_count": null,
      "outputs": [
        {
          "output_type": "stream",
          "text": [
            "Go to this URL in a browser: https://accounts.google.com/o/oauth2/auth?client_id=947318989803-6bn6qk8qdgf4n4g3pfee6491hc0brc4i.apps.googleusercontent.com&redirect_uri=urn%3aietf%3awg%3aoauth%3a2.0%3aoob&response_type=code&scope=email%20https%3a%2f%2fwww.googleapis.com%2fauth%2fdocs.test%20https%3a%2f%2fwww.googleapis.com%2fauth%2fdrive%20https%3a%2f%2fwww.googleapis.com%2fauth%2fdrive.photos.readonly%20https%3a%2f%2fwww.googleapis.com%2fauth%2fpeopleapi.readonly\n",
            "\n",
            "Enter your authorization code:\n",
            "··········\n",
            "Mounted at /content/gdrive\n"
          ],
          "name": "stdout"
        }
      ]
    },
    {
      "cell_type": "code",
      "metadata": {
        "id": "wSagBq3HsrmW",
        "colab_type": "code",
        "colab": {}
      },
      "source": [
        "# google drive settings \n",
        "%%capture\n",
        "%cd /content/gdrive/My\\ Drive/NLP"
      ],
      "execution_count": null,
      "outputs": []
    },
    {
      "cell_type": "code",
      "metadata": {
        "id": "EzH_pRBstRBS",
        "colab_type": "code",
        "colab": {}
      },
      "source": [
        " %matplotlib inline\n",
        "from gensim.models import LdaMulticore, TfidfModel, CoherenceModel, LdaModel\n",
        "from gensim.corpora import Dictionary\n",
        "import time # to know how long training took\n",
        "import multiprocessing # to speed things up by parallelizing\n",
        "import numpy \n",
        "import matplotlib.pyplot as plt"
      ],
      "execution_count": null,
      "outputs": []
    },
    {
      "cell_type": "code",
      "metadata": {
        "id": "YU5kfCSpsvlq",
        "colab_type": "code",
        "colab": {}
      },
      "source": [
        "import pandas as pd\n",
        "first_week = pd.read_csv(\"tweet_data/first_week_new.csv\")\n",
        "second_week = pd.read_csv(\"tweet_data/second_week_new.csv\")\n",
        "third_week = pd.read_csv(\"tweet_data/third_week_new.csv\")\n",
        "fourth_week = pd.read_csv(\"tweet_data/fourth_week_new.csv\")"
      ],
      "execution_count": null,
      "outputs": []
    },
    {
      "cell_type": "code",
      "metadata": {
        "id": "U6YoCRSqiCwr",
        "colab_type": "code",
        "colab": {}
      },
      "source": [
        "first_week = first_week[first_week.clean_text.isna()==False] # drop all tweets without text\n",
        "second_week = second_week[second_week.clean_text.isna()==False] # drop all tweets without text\n",
        "third_week = third_week[third_week.clean_text.isna()==False] # drop all tweets without text\n",
        "fourth_week = fourth_week[fourth_week.clean_text.isna()==False] # drop all tweets without text"
      ],
      "execution_count": null,
      "outputs": []
    },
    {
      "cell_type": "markdown",
      "metadata": {
        "id": "kLW3eGsSr42S",
        "colab_type": "text"
      },
      "source": [
        " ## Find the number of topics "
      ]
    },
    {
      "cell_type": "code",
      "metadata": {
        "id": "NsfSgGJO-gWo",
        "colab_type": "code",
        "colab": {}
      },
      "source": [
        " def get_coherence_score(dataset, num_topics = 10):  \n",
        "  limit=50000\n",
        "  string_version = dataset.clean_text.apply(str)\n",
        "  instances = string_version.apply(str.split)[:limit] \n",
        "  dictionary = Dictionary(instances) # create dictionary \n",
        "  dictionary.filter_extremes(no_below=50, no_above=0.3)   # get rid of words that are too rare or too frequent\n",
        "  \n",
        "  ldacorpus = [dictionary.doc2bow(text) for text in instances]\n",
        "  tfidfmodel = TfidfModel(ldacorpus)\n",
        "  model_corpus = tfidfmodel[ldacorpus] # transform raw frequencies into TFIDF\n",
        "\n",
        "  coherence_values = []\n",
        "\n",
        "  dev_size = 10000\n",
        "  eval_size = 5000\n",
        "\n",
        "  for num_topics in range(1, num_topics):\n",
        "      model = LdaMulticore(corpus=model_corpus[:dev_size], \n",
        "                          id2word=dictionary, \n",
        "                          num_topics=num_topics)\n",
        "\n",
        "      coherencemodel_cv = CoherenceModel(model=model, \n",
        "                                        texts=instances[dev_size:dev_size+eval_size], \n",
        "                                        dictionary=dictionary, \n",
        "                                        coherence='c_v')\n",
        "\n",
        "      cv_score = coherencemodel_cv.get_coherence()\n",
        "      \n",
        "      print(num_topics, cv_score)\n",
        "      coherence_values.append(cv_score)\n",
        "  \n",
        "  plt.figure(figsize=(12,8))\n",
        "  plt.xticks(range(1,num_topics+1))\n",
        "  plt.plot(range(1,num_topics+1), coherence_values, '-o')\n",
        "  plt.show()\n",
        "\n",
        "  return coherence_values"
      ],
      "execution_count": null,
      "outputs": []
    },
    {
      "cell_type": "code",
      "metadata": {
        "id": "e5KOs8WdAhLH",
        "colab_type": "code",
        "colab": {
          "base_uri": "https://localhost:8080/",
          "height": 736
        },
        "outputId": "482cbbe0-352b-4112-9329-ed8134a08b5b"
      },
      "source": [
        "w1_coherence = get_coherence_score(first_week, num_topics=15 )"
      ],
      "execution_count": null,
      "outputs": [
        {
          "output_type": "stream",
          "text": [
            "1 0.2280255678221806\n",
            "2 0.28911120290855435\n",
            "3 0.3060932991788774\n",
            "4 0.3092345108300881\n",
            "5 0.3101888807776394\n",
            "6 0.3612009892020736\n",
            "7 0.33388862718182183\n",
            "8 0.36674340425161844\n",
            "9 0.37307940141692664\n",
            "10 0.3548992383511521\n",
            "11 0.36886253816366726\n",
            "12 0.36181021926796014\n",
            "13 0.38789318035054526\n",
            "14 0.3967631781218655\n"
          ],
          "name": "stdout"
        },
        {
          "output_type": "display_data",
          "data": {
            "image/png": "[encoded data removed]",
            "text/plain": [
              "<Figure size 864x576 with 1 Axes>"
            ]
          },
          "metadata": {
            "tags": [],
            "needs_background": "light"
          }
        }
      ]
    },
    {
      "cell_type": "code",
      "metadata": {
        "id": "voYHTtKjsyP-",
        "colab_type": "code",
        "colab": {
          "base_uri": "https://localhost:8080/",
          "height": 736
        },
        "outputId": "4f148458-de90-4d79-82ed-ca1abff72a80"
      },
      "source": [
        "w2_coherence = get_coherence_score(second_week, num_topics=15 )"
      ],
      "execution_count": null,
      "outputs": [
        {
          "output_type": "stream",
          "text": [
            "1 0.37552003877830303\n",
            "2 0.27845839768323943\n",
            "3 0.3346135901754926\n",
            "4 0.3745724028235527\n",
            "5 0.40452035198766056\n",
            "6 0.3685705838473956\n",
            "7 0.44103900115010053\n",
            "8 0.4502807253863138\n",
            "9 0.4825115375493046\n",
            "10 0.4760144139861368\n",
            "11 0.46206820908858964\n",
            "12 0.4732379999730314\n",
            "13 0.4691097339632926\n",
            "14 0.46467204326396533\n"
          ],
          "name": "stdout"
        },
        {
          "output_type": "display_data",
          "data": {
            "image/png": "[encoded data removed]",
            "text/plain": [
              "<Figure size 864x576 with 1 Axes>"
            ]
          },
          "metadata": {
            "tags": [],
            "needs_background": "light"
          }
        }
      ]
    },
    {
      "cell_type": "code",
      "metadata": {
        "id": "-5LRACieZWC0",
        "colab_type": "code",
        "colab": {
          "base_uri": "https://localhost:8080/",
          "height": 736
        },
        "outputId": "a2227573-c1e2-45e2-b958-0e2d6576110a"
      },
      "source": [
        "w3_coherence = get_coherence_score(third_week, num_topics=15 )"
      ],
      "execution_count": null,
      "outputs": [
        {
          "output_type": "stream",
          "text": [
            "1 0.3267649776881628\n",
            "2 0.32897877442504087\n",
            "3 0.3858268607337199\n",
            "4 0.4375293326267982\n",
            "5 0.42940922632440703\n",
            "6 0.45772543964143875\n",
            "7 0.437320929150631\n",
            "8 0.49469958319148444\n",
            "9 0.505174141879614\n",
            "10 0.4914151657283667\n",
            "11 0.5106876069226377\n",
            "12 0.5430391245894356\n",
            "13 0.4861363811004972\n",
            "14 0.548824848518646\n"
          ],
          "name": "stdout"
        },
        {
          "output_type": "display_data",
          "data": {
            "image/png": "[encoded data removed]",
            "text/plain": [
              "<Figure size 864x576 with 1 Axes>"
            ]
          },
          "metadata": {
            "tags": [],
            "needs_background": "light"
          }
        }
      ]
    },
    {
      "cell_type": "code",
      "metadata": {
        "id": "CIfYpCFv35DU",
        "colab_type": "code",
        "colab": {
          "base_uri": "https://localhost:8080/",
          "height": 736
        },
        "outputId": "9b5cff53-0b32-4f0f-afd1-2b0f9ea39405"
      },
      "source": [
        "w4_coherence = get_coherence_score(fourth_week, num_topics=15)"
      ],
      "execution_count": null,
      "outputs": [
        {
          "output_type": "stream",
          "text": [
            "1 0.3551463528627825\n",
            "2 0.32543835716366154\n",
            "3 0.3847598123733178\n",
            "4 0.41006160829966215\n",
            "5 0.4169331586302982\n",
            "6 0.4390228876011018\n",
            "7 0.43921390912319336\n",
            "8 0.3957555516318806\n",
            "9 0.483552518349036\n",
            "10 0.42380668810541355\n",
            "11 0.4512076734159624\n",
            "12 0.4510314003568314\n",
            "13 0.4470507921254008\n",
            "14 0.47468575683545605\n"
          ],
          "name": "stdout"
        },
        {
          "output_type": "display_data",
          "data": {
            "image/png": "[encoded data removed]",
            "text/plain": [
              "<Figure size 864x576 with 1 Axes>"
            ]
          },
          "metadata": {
            "tags": [],
            "needs_background": "light"
          }
        }
      ]
    },
    {
      "cell_type": "code",
      "metadata": {
        "id": "SwKEB0n64B3_",
        "colab_type": "code",
        "colab": {}
      },
      "source": [
        "k1 = 6 \n",
        "k2 = 5\n",
        "k3 = 4\n",
        "k4 = 6"
      ],
      "execution_count": null,
      "outputs": []
    },
    {
      "cell_type": "markdown",
      "metadata": {
        "id": "4fcEPJOT8DlZ",
        "colab_type": "text"
      },
      "source": [
        "## Latent Dirichlet Allocation"
      ]
    },
    {
      "cell_type": "code",
      "metadata": {
        "id": "gOW20l1X5wcQ",
        "colab_type": "code",
        "colab": {}
      },
      "source": [
        "def lda_model(dataset, num_topics = 3): \n",
        "  \n",
        "  # get dictionary\n",
        "  dataset = dataset[dataset.clean_text.isna()==False] # drop all tweets without text\n",
        "  documents = dataset.clean_text.apply(str) # make sure they are strings\n",
        "\n",
        "  instances = documents.apply(str.split)\n",
        "  dictionary = Dictionary(instances)\n",
        "  dictionary.filter_extremes(no_below=50, no_above=0.3) # get rid of words that are too rare or too frequent\n",
        "\n",
        "  ldacorpus = [dictionary.doc2bow(text) for text in instances]\n",
        "  tfidfmodel = TfidfModel(ldacorpus) # learn TFIDF values from corpus\n",
        "  model_corpus = tfidfmodel[ldacorpus] # transform raw frequencies into TFIDF\n",
        "\n",
        "  lda_model = LdaModel(model_corpus, num_topics=num_topics, id2word=dictionary, random_state=41, alpha='auto')\n",
        "\n",
        "  return lda_model, model_corpus, dictionary"
      ],
      "execution_count": null,
      "outputs": []
    },
    {
      "cell_type": "code",
      "metadata": {
        "id": "MA8-yVGL6vwU",
        "colab_type": "code",
        "colab": {}
      },
      "source": [
        "def show_topics(model): \n",
        "  for idx, topic in model.print_topics(-1):\n",
        "    print('Topic: {} \\nWords: {}'.format(idx, model.show_topic(idx)))"
      ],
      "execution_count": null,
      "outputs": []
    },
    {
      "cell_type": "markdown",
      "metadata": {
        "id": "q3EKHpHAU-EI",
        "colab_type": "text"
      },
      "source": [
        "### First week"
      ]
    },
    {
      "cell_type": "code",
      "metadata": {
        "id": "G0JgeUYv6Xth",
        "colab_type": "code",
        "colab": {}
      },
      "source": [
        "%%time\n",
        "first_week_model, corpus_first_week, dictionary_first_week = lda_model(first_week, num_topics=k1)"
      ],
      "execution_count": null,
      "outputs": []
    },
    {
      "cell_type": "code",
      "metadata": {
        "id": "--jQWv1R7nzd",
        "colab_type": "code",
        "colab": {
          "base_uri": "https://localhost:8080/",
          "height": 238
        },
        "outputId": "26feef8a-8603-4fb9-f223-e26f183d185b"
      },
      "source": [
        "show_topics(first_week_model)"
      ],
      "execution_count": null,
      "outputs": [
        {
          "output_type": "stream",
          "text": [
            "Topic: 0 \n",
            "Words: [('scuola', 0.041096393), ('chiuso', 0.030847583), ('marzo', 0.023163065), ('salire', 0.021875123), ('lombardia', 0.021714045), ('regione', 0.019956663), ('emilia', 0.016531706), ('aggiornamento', 0.015534965), ('riaprire', 0.014179313), ('romagna', 0.013418307)]\n",
            "Topic: 1 \n",
            "Words: [('positivo', 0.014927379), ('guarire', 0.010373452), ('contagiare', 0.009715649), ('persona', 0.008482476), ('emergenza', 0.008090362), ('solere', 0.0078389635), ('ospedale', 0.007250641), ('roma', 0.0068762987), ('cinese', 0.0065526627), ('via', 0.0063754595)]\n",
            "Topic: 2 \n",
            "Words: [('porto', 0.03520631), ('rinviare', 0.030932192), ('giocare', 0.028665064), ('partito', 0.026468609), ('serio', 0.02407878), ('inter', 0.019887708), ('calciare', 0.01521447), ('tifoso', 0.013513847), ('gara', 0.011603921), ('campionare', 0.011590465)]\n",
            "Topic: 3 \n",
            "Words: [('puglia', 0.013772445), ('rosso', 0.013621343), ('paziente', 0.0123841185), ('zaia', 0.012117675), ('sanità', 0.0108592035), ('miliardo', 0.009123119), ('prete', 0.008663073), ('friuli', 0.008000092), ('immagine', 0.007901819), ('metà', 0.007900914)]\n",
            "Topic: 4 \n",
            "Words: [('quarantena', 0.009887208), ('sapere', 0.009380365), ('parlare', 0.009129261), ('repubblica', 0.008222588), ('paura', 0.0077954), ('andare', 0.0073613836), ('causare', 0.0067090937), ('ancorare', 0.006632147), ('economico', 0.006194718), ('video', 0.006067785)]\n",
            "Topic: 5 \n",
            "Words: [('morto', 0.026971066), ('contagio', 0.01790139), ('cina', 0.014757582), ('contagiare', 0.0140394755), ('mondare', 0.014015389), ('decesso', 0.012410087), ('luigi', 0.011302827), ('italiano', 0.01005735), ('vivo', 0.009028511), ('francia', 0.008583294)]\n"
          ],
          "name": "stdout"
        }
      ]
    },
    {
      "cell_type": "code",
      "metadata": {
        "id": "NwrXdA2WL89G",
        "colab_type": "code",
        "colab": {
          "base_uri": "https://localhost:8080/",
          "height": 50
        },
        "outputId": "644ff1c0-0742-4edb-b12c-65a3b308a325"
      },
      "source": [
        "%%time\n",
        "first_week_model_3, corpus_first_week_3, dictionary_first_week_3 = lda_model(first_week, num_topics=3)"
      ],
      "execution_count": null,
      "outputs": [
        {
          "output_type": "stream",
          "text": [
            "CPU times: user 42 s, sys: 299 ms, total: 42.3 s\n",
            "Wall time: 42.4 s\n"
          ],
          "name": "stdout"
        }
      ]
    },
    {
      "cell_type": "code",
      "metadata": {
        "id": "CSTx15IJL-80",
        "colab_type": "code",
        "colab": {
          "base_uri": "https://localhost:8080/",
          "height": 138
        },
        "outputId": "9e2699db-cd5a-4510-f6da-ba8cc4b8b2f2"
      },
      "source": [
        "show_topics(first_week_model_3)"
      ],
      "execution_count": null,
      "outputs": [
        {
          "output_type": "stream",
          "text": [
            "Topic: 0 \n",
            "Words: [('contagiare', 0.010517118), ('morto', 0.009710797), ('marzo', 0.0076981992), ('salire', 0.007269497), ('contagio', 0.006358183), ('emergenza', 0.0058616363), ('mondare', 0.0056241537), ('settimana', 0.005515979), ('aggiornamento', 0.0050900183), ('decretare', 0.005056038)]\n",
            "Topic: 1 \n",
            "Words: [('positivo', 0.014627019), ('scuola', 0.009968166), ('chiuso', 0.007983279), ('guarire', 0.0073051457), ('quarantena', 0.006739397), ('persona', 0.0060931053), ('ospedale', 0.005819809), ('regione', 0.0056283833), ('emilia', 0.0052542486), ('roma', 0.005244229)]\n",
            "Topic: 2 \n",
            "Words: [('rinviare', 0.0112369545), ('porto', 0.010799685), ('giocare', 0.0101694595), ('volo', 0.00952206), ('partito', 0.009406827), ('serio', 0.008799872), ('repubblica', 0.008029177), ('inter', 0.007080716), ('dato', 0.0069582136), ('cina', 0.006845748)]\n"
          ],
          "name": "stdout"
        }
      ]
    },
    {
      "cell_type": "markdown",
      "metadata": {
        "id": "hqoqUtPoZB8T",
        "colab_type": "text"
      },
      "source": [
        "### Second week"
      ]
    },
    {
      "cell_type": "code",
      "metadata": {
        "id": "3o5O6hymJa1S",
        "colab_type": "code",
        "colab": {
          "base_uri": "https://localhost:8080/",
          "height": 50
        },
        "outputId": "2aa6a266-8f4b-4a40-c66c-958849bc0f90"
      },
      "source": [
        "%%time\n",
        "second_week_model, corpus_second_week, dictionary_second_week = lda_model(second_week, num_topics=k2)"
      ],
      "execution_count": null,
      "outputs": [
        {
          "output_type": "stream",
          "text": [
            "CPU times: user 1min 7s, sys: 358 ms, total: 1min 7s\n",
            "Wall time: 1min 7s\n"
          ],
          "name": "stdout"
        }
      ]
    },
    {
      "cell_type": "code",
      "metadata": {
        "id": "01w4jNrBKo7G",
        "colab_type": "code",
        "colab": {
          "base_uri": "https://localhost:8080/",
          "height": 205
        },
        "outputId": "d530946f-0618-4e82-ad97-cb6b095f29d7"
      },
      "source": [
        "show_topics(second_week_model)"
      ],
      "execution_count": null,
      "outputs": [
        {
          "output_type": "stream",
          "text": [
            "Topic: 0 \n",
            "Words: [('medico', 0.013434168), ('attività', 0.0108448295), ('chiudere', 0.010499965), ('emergenza', 0.009317545), ('ospedale', 0.0088567315), ('mondare', 0.0075878743), ('aiutare', 0.007572974), ('repubblica', 0.0075192377), ('essenziale', 0.0073206057), ('notizia', 0.006536959)]\n",
            "Topic: 1 \n",
            "Words: [('provincia', 0.010150764), ('medicare', 0.009421987), ('farmaco', 0.009308723), ('avigan', 0.009148655), ('cina', 0.009129025), ('terapia', 0.008451861), ('cubano', 0.008433534), ('intensivo', 0.008127738), ('cubare', 0.007932598), ('merkel', 0.0077222935)]\n",
            "Topic: 2 \n",
            "Words: [('conta', 0.012954014), ('morire', 0.012672717), ('decretare', 0.011019466), ('governare', 0.009699136), ('stop', 0.00894006), ('misura', 0.0077974163), ('milano', 0.0070272065), ('calere', 0.0068611284), ('firmare', 0.0064886585), ('famiglia', 0.006300956)]\n",
            "Topic: 3 \n",
            "Words: [('quarantena', 0.021686085), ('casa', 0.013991998), ('solere', 0.008859701), ('andare', 0.007791933), ('persona', 0.0076286644), ('sapere', 0.0074263657), ('restare', 0.0071815355), ('tampone', 0.00637833), ('ancorare', 0.0062773367), ('uscire', 0.006266593)]\n",
            "Topic: 4 \n",
            "Words: [('positivo', 0.051946927), ('morto', 0.044558126), ('contagio', 0.026150702), ('contagiare', 0.024726044), ('marzo', 0.023095816), ('salire', 0.018992981), ('guarire', 0.018874986), ('decesso', 0.01699594), ('rispettare', 0.01650618), ('vittima', 0.015677499)]\n"
          ],
          "name": "stdout"
        }
      ]
    },
    {
      "cell_type": "markdown",
      "metadata": {
        "id": "QCuaEt9vZEP_",
        "colab_type": "text"
      },
      "source": [
        "### Third week"
      ]
    },
    {
      "cell_type": "code",
      "metadata": {
        "id": "1gnZ3n8GMqMU",
        "colab_type": "code",
        "colab": {
          "base_uri": "https://localhost:8080/",
          "height": 50
        },
        "outputId": "5e6f48a3-2832-442b-c008-e04072d13e09"
      },
      "source": [
        "%%time\n",
        "third_week_model, corpus_third_week, dictionary_third_week = lda_model(third_week, num_topics=k3)"
      ],
      "execution_count": null,
      "outputs": [
        {
          "output_type": "stream",
          "text": [
            "CPU times: user 37.6 s, sys: 141 ms, total: 37.7 s\n",
            "Wall time: 37.8 s\n"
          ],
          "name": "stdout"
        }
      ]
    },
    {
      "cell_type": "code",
      "metadata": {
        "id": "EiRJWzc5MqGA",
        "colab_type": "code",
        "colab": {
          "base_uri": "https://localhost:8080/",
          "height": 171
        },
        "outputId": "815f2177-9d9c-4dff-c53f-439379ad819f"
      },
      "source": [
        "show_topics(third_week_model)"
      ],
      "execution_count": null,
      "outputs": [
        {
          "output_type": "stream",
          "text": [
            "Topic: 0 \n",
            "Words: [('notizia', 0.013011782), ('mondare', 0.011815759), ('aggiornamento', 0.011419692), ('sindacare', 0.009104004), ('repubblica', 0.008408469), ('dirigere', 0.008293711), ('sicilia', 0.008292074), ('numero', 0.0077529377), ('sì', 0.007568366), ('napoli', 0.0069253272)]\n",
            "Topic: 1 \n",
            "Words: [('conta', 0.017289694), ('governare', 0.008401328), ('emergenza', 0.008165793), ('stampare', 0.005781097), ('famiglia', 0.0056524947), ('chiedere', 0.0056413086), ('settembre', 0.0056399014), ('conferenza', 0.0055982065), ('scuola', 0.005578689), ('amp', 0.0055379043)]\n",
            "Topic: 2 \n",
            "Words: [('quarantena', 0.024562309), ('casa', 0.0100271525), ('fase', 0.009038234), ('andare', 0.008995764), ('maggio', 0.008628793), ('vedere', 0.007242941), ('uscire', 0.0069738226), ('mascherina', 0.006582277), ('sapere', 0.0060756644), ('solere', 0.0057594823)]\n",
            "Topic: 3 \n",
            "Words: [('positivo', 0.019696483), ('morto', 0.018390922), ('aprile', 0.016130693), ('decesso', 0.015607347), ('contagio', 0.015028126), ('guarire', 0.014169756), ('ancorare', 0.012483418), ('contagiare', 0.011608461), ('dato', 0.011349745), ('calere', 0.011118612)]\n"
          ],
          "name": "stdout"
        }
      ]
    },
    {
      "cell_type": "markdown",
      "metadata": {
        "id": "6rQ4G8scZGYE",
        "colab_type": "text"
      },
      "source": [
        "### Fourth week"
      ]
    },
    {
      "cell_type": "code",
      "metadata": {
        "id": "bExPTROzM3lK",
        "colab_type": "code",
        "colab": {
          "base_uri": "https://localhost:8080/",
          "height": 50
        },
        "outputId": "e2c13e94-d5cf-4826-e5c2-296b6d19a79f"
      },
      "source": [
        "%%time\n",
        "fourth_week_model, corpus_fourth_week, dictionary_fourth_week = lda_model(fourth_week, num_topics=k4)"
      ],
      "execution_count": null,
      "outputs": [
        {
          "output_type": "stream",
          "text": [
            "CPU times: user 19.5 s, sys: 43.6 ms, total: 19.6 s\n",
            "Wall time: 19.6 s\n"
          ],
          "name": "stdout"
        }
      ]
    },
    {
      "cell_type": "code",
      "metadata": {
        "id": "THatRFuEM3jX",
        "colab_type": "code",
        "colab": {
          "base_uri": "https://localhost:8080/",
          "height": 171
        },
        "outputId": "4d1b4ef2-afb6-4df3-8ccb-4ca468a93cda"
      },
      "source": [
        "show_topics(fourth_week_model)"
      ],
      "execution_count": null,
      "outputs": [
        {
          "output_type": "stream",
          "text": [
            "Topic: 0 \n",
            "Words: [('quarantena', 0.01556683), ('andare', 0.007198575), ('casa', 0.006777221), ('mese', 0.006688193), ('solere', 0.0057863365), ('movida', 0.005632726), ('uscire', 0.005497977), ('sapere', 0.0054847877), ('emergenza', 0.0053680716), ('pensare', 0.0052599707)]\n",
            "Topic: 1 \n",
            "Words: [('distruggere', 0.0138979675), ('uso', 0.008832474), ('morire', 0.008489378), ('civile', 0.0077372794), ('protezione', 0.007550472), ('mondare', 0.0068382584), ('comune', 0.0063437647), ('milione', 0.006225653), ('veneto', 0.0061021545), ('spiegare', 0.0060750823)]\n",
            "Topic: 2 \n",
            "Words: [('video', 0.010266762), ('spuntare', 0.010019549), ('anti', 0.009446248), ('calabria', 0.0072442507), ('vaccinare', 0.007179699), ('palestra', 0.0068964506), ('liguria', 0.0065949815), ('piscina', 0.006298004), ('capitare', 0.006220911), ('sardegna', 0.005708858)]\n",
            "Topic: 3 \n",
            "Words: [('morto', 0.034607112), ('positivo', 0.032395497), ('lombardia', 0.030939225), ('decesso', 0.029624872), ('contagio', 0.025628831), ('dato', 0.025293738), ('maggio', 0.021685222), ('guarire', 0.021406664), ('bollettino', 0.017253272), ('contagiare', 0.016898837)]\n"
          ],
          "name": "stdout"
        }
      ]
    },
    {
      "cell_type": "markdown",
      "metadata": {
        "id": "dmSMvQz5ZJjU",
        "colab_type": "text"
      },
      "source": [
        "### Visualization with pyLDAvis"
      ]
    },
    {
      "cell_type": "code",
      "metadata": {
        "id": "Aw5q88IcEkth",
        "colab_type": "code",
        "colab": {}
      },
      "source": [
        "%%capture \n",
        "! pip install pyLDAvis"
      ],
      "execution_count": null,
      "outputs": []
    },
    {
      "cell_type": "code",
      "metadata": {
        "id": "urAVuu921Yyl",
        "colab_type": "code",
        "colab": {
          "base_uri": "https://localhost:8080/",
          "height": 881
        },
        "outputId": "df1c6825-cebb-4720-a671-6691cd0abe0b"
      },
      "source": [
        "import pyLDAvis\n",
        "import pyLDAvis.gensim\n",
        "pyLDAvis.enable_notebook()\n",
        "panel = pyLDAvis.gensim.prepare(first_week_model, corpus_first_week, dictionary_first_week, mds='tsne')\n",
        "panel"
      ],
      "execution_count": null,
      "outputs": [
        {
          "output_type": "execute_result",
          "data": {
            "text/html": [
              "\n",
              "<link rel=\"stylesheet\" type=\"text/css\" href=\"https://cdn.rawgit.com/bmabey/pyLDAvis/files/ldavis.v1.0.0.css\">\n",
              "\n",
              "\n",
              "<div id=\"ldavis_el1201401743388299129730536831\"></div>\n",
              "<script type=\"text/javascript\">\n",
              "\n",
              "var ldavis_el1201401743388299129730536831_data = {\"mdsDat\": {\"x\": [1.4650187492370605, 54.85479736328125, 32.212928771972656, 5.111096382141113, 26.350170135498047, 38.10981750488281], \"y\": [-47.625064849853516, -36.4767951965332, -61.44457244873047, -14.110331535339355, -33.37470245361328, -7.222781181335449], \"topics\": [1, 2, 3, 4, 5, 6], \"cluster\": [1, 1, 1, 1, 1, 1], \"Freq\": [30.13213348388672, 25.349929809570312, 14.471780776977539, 12.04857349395752, 10.886415481567383, 7.11116886138916]}, \"tinfo\": {\"Term\": [\"scuola\", \"chiuso\", \"morto\", \"porto\", \"marzo\", \"rinviare\", \"salire\", \"giocare\", \"lombardia\", \"partito\", \"regione\", \"serio\", \"contagio\", \"emilia\", \"aggiornamento\", \"inter\", \"cina\", \"mondare\", \"riaprire\", \"romagna\", \"decesso\", \"puglia\", \"rosso\", \"luigi\", \"napoli\", \"veneto\", \"paziente\", \"guarire\", \"contagiare\", \"zaia\", \"francese\", \"terapia\", \"intensivo\", \"cane\", \"parigi\", \"maggio\", \"grave\", \"mille\", \"moglie\", \"unito\", \"juventus\", \"lastampa\", \"ricoverato\", \"trasmettere\", \"dipendere\", \"domiciliare\", \"pesaro\", \"cremona\", \"maritare\", \"novembre\", \"moto\", \"sostegno\", \"ristorare\", \"riprendere\", \"gatto\", \"polemico\", \"gallo\", \"azienda\", \"bar\", \"servizio\", \"chiesa\", \"cancellare\", \"giovane\", \"oms\", \"comunicazione\", \"vivere\", \"isolamento\", \"riuscire\", \"guarire\", \"scoprire\", \"anziano\", \"correre\", \"provincia\", \"tampone\", \"lavorare\", \"ospedale\", \"persona\", \"domenica\", \"roma\", \"via\", \"medico\", \"positivo\", \"uso\", \"cinese\", \"aprire\", \"leggere\", \"emergenza\", \"solere\", \"situazione\", \"contagiare\", \"arrivare\", \"milano\", \"casa\", \"test\", \"settimana\", \"chiudere\", \"rischiare\", \"mangiare\", \"juve\", \"fiumicino\", \"inquinamento\", \"calere\", \"marca\", \"tornire\", \"spagna\", \"mutazione\", \"danno\", \"trump\", \"creare\", \"economia\", \"migrare\", \"ricostruire\", \"medio\", \"esperto\", \"milan\", \"sentire\", \"preso\", \"cronaca\", \"intervistare\", \"pensione\", \"giornale\", \"anti\", \"fugare\", \"ricovero\", \"supermercato\", \"breve\", \"borsa\", \"viaggiare\", \"economico\", \"crisi\", \"almeno\", \"guerra\", \"cambiare\", \"figliare\", \"restrizione\", \"guardare\", \"mese\", \"proporre\", \"parola\", \"tv\", \"repubblica\", \"continuare\", \"parlare\", \"politico\", \"vero\", \"campania\", \"spiegare\", \"paura\", \"problema\", \"ancorare\", \"sapere\", \"quarantena\", \"vedere\", \"pensare\", \"causare\", \"video\", \"andare\", \"vistare\", \"chiedere\", \"italiano\", \"epidemia\", \"governare\", \"solere\", \"luigi\", \"vivo\", \"mercoled\\u00ec\", \"legare\", \"liguria\", \"qatar\", \"mappa\", \"nasa\", \"corea\", \"rianimazione\", \"necessario\", \"hotel\", \"coppa\", \"bergamo\", \"volare\", \"temere\", \"svizzero\", \"gualtieri\", \"l\\u00ec\", \"turchia\", \"roberto\", \"febbre\", \"vecchio\", \"aprile\", \"genova\", \"iran\", \"francia\", \"presentire\", \"vacanza\", \"costare\", \"news\", \"germania\", \"numero\", \"decesso\", \"sud\", \"lezione\", \"ricoverare\", \"morto\", \"amp\", \"corriera\", \"totale\", \"youtube\", \"europa\", \"confermato\", \"contagio\", \"mondare\", \"isolare\", \"cina\", \"nigeria\", \"vittima\", \"contagiare\", \"risultare\", \"colpire\", \"volo\", \"italiano\", \"governare\", \"dato\", \"positivo\", \"marzo\", \"emilia\", \"romagna\", \"luned\\u00ec\", \"museo\", \"topo\", \"borrelli\", \"cinema\", \"universit\\u00e0\", \"attivit\\u00e0\", \"piemonte\", \"impresa\", \"sospendere\", \"ceppo\", \"turismo\", \"venezia\", \"ordinanza\", \"provvedimento\", \"sospeso\", \"scrittore\", \"accertare\", \"evento\", \"bilanciare\", \"annullare\", \"piemontese\", \"superato\", \"deficit\", \"sabato\", \"sospensione\", \"lavoratore\", \"scuola\", \"aggiornamento\", \"bologna\", \"salire\", \"riaprire\", \"napoli\", \"stop\", \"lombardia\", \"fermo\", \"fontana\", \"chiuso\", \"regione\", \"febbraio\", \"veneto\", \"american\", \"misura\", \"aumentare\", \"decretare\", \"zaia\", \"miliardo\", \"prete\", \"met\\u00e0\", \"immagine\", \"denunciare\", \"wuhan\", \"spallanzani\", \"antidiplomatico\", \"kong\", \"hong\", \"mostrare\", \"tg\", \"urso\", \"mercato\", \"fvg\", \"istituto\", \"firmare\", \"pavia\", \"personale\", \"barbaro\", \"agire\", \"euro\", \"superiora\", \"piacere\", \"straordinario\", \"perdita\", \"cultura\", \"strano\", \"reale\", \"puglia\", \"produrre\", \"protezione\", \"friuli\", \"civile\", \"rosso\", \"pubblicare\", \"baro\", \"soldo\", \"affrontare\", \"sanit\\u00e0\", \"paziente\", \"zona\", \"partito\", \"inter\", \"calciare\", \"giocare\", \"gara\", \"campionare\", \"viaggo\", \"verona\", \"piscina\", \"palestra\", \"ormai\", \"teatro\", \"giulia\", \"imparare\", \"passeggero\", \"lecce\", \"americano\", \"seriea\", \"animale\", \"fanpage\", \"consegnare\", \"ottobre\", \"atalanta\", \"dpcm\", \"albergo\", \"domestico\", \"rimborsare\", \"scenario\", \"sociale\", \"israele\", \"rinviare\", \"serio\", \"gennaio\", \"porto\", \"tifoso\", \"sport\", \"effetto\", \"decretare\", \"chiuso\"], \"Freq\": [2476.0, 2171.0, 2053.0, 1351.0, 1383.0, 1113.0, 1337.0, 1011.0, 1389.0, 933.0, 1373.0, 874.0, 1503.0, 987.0, 933.0, 701.0, 1378.0, 1185.0, 861.0, 802.0, 902.0, 747.0, 761.0, 811.0, 778.0, 904.0, 947.0, 1608.0, 2846.0, 654.0, 821.2449951171875, 656.4505004882812, 640.8046875, 639.767822265625, 620.099365234375, 561.2964477539062, 700.7501220703125, 529.8137817382812, 508.1726379394531, 462.9508056640625, 452.37420654296875, 444.2698669433594, 462.7645263671875, 390.94757080078125, 376.316650390625, 362.952880859375, 358.5288391113281, 359.5909729003906, 314.8519592285156, 313.0896301269531, 331.9266052246094, 307.8410339355469, 289.2259216308594, 288.9794616699219, 283.51751708984375, 282.04486083984375, 266.8178405761719, 262.75, 256.976806640625, 245.90521240234375, 538.7528076171875, 669.2421264648438, 483.95159912109375, 445.6455078125, 321.5923767089844, 447.63818359375, 682.5151977539062, 415.6236877441406, 1549.0377197265625, 494.1493225097656, 456.547119140625, 414.5245361328125, 664.1555786132812, 829.2552490234375, 863.9044189453125, 1082.7174072265625, 1266.6636962890625, 646.6644287109375, 1026.81787109375, 952.029052734375, 753.7588500976562, 2229.0625, 595.8610229492188, 978.4902954101562, 881.837158203125, 736.8601684570312, 1208.1104736328125, 1170.5699462890625, 697.0560302734375, 1450.8099365234375, 774.89111328125, 837.2120971679688, 806.8682250976562, 678.656982421875, 797.3671875, 781.0626831054688, 708.1734008789062, 755.2487182617188, 687.2294921875, 680.2026977539062, 474.861572265625, 427.5862731933594, 419.5993957519531, 509.837646484375, 381.9045104980469, 385.7276611328125, 350.9910888671875, 341.37286376953125, 358.1335754394531, 746.1631469726562, 331.39385986328125, 333.9307556152344, 316.73773193359375, 309.36895751953125, 302.4390869140625, 455.6315002441406, 284.3022766113281, 275.9389953613281, 272.26129150390625, 271.0426330566406, 281.5440368652344, 268.71270751953125, 271.4766540527344, 257.9009704589844, 244.32130432128906, 277.0745849609375, 238.4917755126953, 536.774658203125, 778.2285766601562, 760.83740234375, 392.5665588378906, 340.90509033203125, 450.21173095703125, 410.18389892578125, 376.3848876953125, 410.3508605957031, 544.3010864257812, 339.0198059082031, 479.63604736328125, 474.2400817871094, 1032.9853515625, 374.8415832519531, 1146.8885498046875, 572.0701293945312, 532.5755615234375, 563.3621826171875, 505.078857421875, 979.318603515625, 596.2399291992188, 833.1817626953125, 1178.4342041015625, 1242.1077880859375, 710.2188720703125, 663.6817016601562, 842.848388671875, 762.2822265625, 924.7941284179688, 573.8543090820312, 620.4833984375, 745.1514282226562, 543.3344116210938, 566.7789916992188, 516.3486328125, 810.6210327148438, 647.5106201171875, 570.2635498046875, 563.2320556640625, 495.2684020996094, 417.6939392089844, 371.26727294921875, 388.89349365234375, 344.49945068359375, 313.9294128417969, 314.7805480957031, 297.30615234375, 286.5398864746094, 270.65997314453125, 265.3930969238281, 350.1645202636719, 230.98648071289062, 229.26199340820312, 223.97093200683594, 224.6455078125, 222.9715576171875, 213.21995544433594, 213.16326904296875, 212.9295196533203, 213.65560913085938, 209.9811553955078, 615.5803833007812, 198.10096740722656, 194.11297607421875, 204.8071746826172, 608.37841796875, 496.1031799316406, 548.97021484375, 890.031982421875, 454.87841796875, 350.1670227050781, 533.3909912109375, 1934.3226318359375, 549.983154296875, 338.7562255859375, 377.0904235839844, 343.2982482910156, 500.1126403808594, 390.8214111328125, 1283.859619140625, 1005.1616821289062, 501.5024108886719, 1058.390625, 334.62176513671875, 512.8497314453125, 1006.88916015625, 398.23382568359375, 420.9422302246094, 559.6790771484375, 721.29736328125, 563.2435302734375, 432.78326416015625, 482.75518798828125, 1383.058349609375, 987.1022338867188, 801.2022705078125, 671.5157470703125, 576.4022216796875, 574.7203369140625, 466.9184875488281, 455.4867858886719, 454.396240234375, 442.774658203125, 605.1708374023438, 399.48284912109375, 552.221435546875, 385.1735534667969, 380.0428466796875, 385.9177551269531, 373.4700012207031, 320.5862731933594, 326.47540283203125, 291.6734619140625, 278.5921936035156, 277.44451904296875, 299.1125793457031, 420.869384765625, 249.31980895996094, 252.56683349609375, 242.55917358398438, 237.2841033935547, 224.15589904785156, 284.75506591796875, 2453.850830078125, 927.5872192382812, 262.6205139160156, 1306.15576171875, 846.6416625976562, 763.0774536132812, 545.8114624023438, 1296.537841796875, 472.5301513671875, 351.44537353515625, 1841.8980712890625, 1191.605224609375, 370.936767578125, 748.6292724609375, 396.7584533691406, 638.5037231445312, 466.4676513671875, 417.2659606933594, 653.7520141601562, 492.1948547363281, 467.3752746582031, 426.2565612792969, 426.305419921875, 414.7450866699219, 408.3765869140625, 389.9857177734375, 359.1614990234375, 341.8889465332031, 340.6217041015625, 331.0187072753906, 312.2192077636719, 305.36895751953125, 307.7130126953125, 368.1969909667969, 279.14581298828125, 278.5786437988281, 269.58770751953125, 268.64208984375, 261.9827575683594, 258.39373779296875, 252.12149047851562, 246.46783447265625, 237.56480407714844, 233.4654541015625, 231.44285583496094, 213.8912811279297, 213.3745880126953, 214.92645263671875, 743.02734375, 348.2491455078125, 408.1581726074219, 431.60723876953125, 380.8587951660156, 734.8753662109375, 409.3656311035156, 422.82171630859375, 309.5423583984375, 325.7448425292969, 585.8571166992188, 668.126708984375, 384.7223815917969, 932.7837524414062, 700.8653564453125, 536.1751708984375, 1010.1893310546875, 408.935302734375, 408.4610900878906, 397.4839782714844, 324.6211853027344, 326.2312316894531, 288.05987548828125, 272.7683410644531, 266.5869140625, 255.95834350585938, 252.2636260986328, 250.80690002441406, 239.3201904296875, 237.59669494628906, 232.62472534179688, 230.87730407714844, 235.4712371826172, 233.39053344726562, 222.88259887695312, 210.56814575195312, 200.79441833496094, 193.29661560058594, 187.0241241455078, 187.1236572265625, 175.58590698242188, 169.82044982910156, 166.13327026367188, 1090.08544921875, 848.5635375976562, 237.61512756347656, 1240.710205078125, 476.2432861328125, 245.11944580078125, 333.6969299316406, 376.26171875, 312.6964416503906], \"Total\": [2476.0, 2171.0, 2053.0, 1351.0, 1383.0, 1113.0, 1337.0, 1011.0, 1389.0, 933.0, 1373.0, 874.0, 1503.0, 987.0, 933.0, 701.0, 1378.0, 1185.0, 861.0, 802.0, 902.0, 747.0, 761.0, 811.0, 778.0, 904.0, 947.0, 1608.0, 2846.0, 654.0, 822.0917358398438, 657.2867431640625, 641.6409912109375, 640.6054077148438, 620.9452514648438, 562.1390991210938, 701.865234375, 530.658935546875, 509.02197265625, 463.7889404296875, 453.2153015136719, 445.10675048828125, 463.7245788574219, 391.788818359375, 377.1541748046875, 363.79144287109375, 359.3776550292969, 360.466796875, 315.6926574707031, 313.9286804199219, 332.825439453125, 308.6954040527344, 290.0632019042969, 289.8170471191406, 284.3529052734375, 282.8843688964844, 267.65716552734375, 263.58660888671875, 257.8149108886719, 246.74237060546875, 540.597900390625, 673.7736206054688, 486.185302734375, 448.6092529296875, 322.81854248046875, 451.26092529296875, 695.453369140625, 419.9003601074219, 1608.018798828125, 501.3445129394531, 462.62164306640625, 418.8236083984375, 684.7772827148438, 864.0068969726562, 915.6544189453125, 1171.4984130859375, 1444.352294921875, 687.08251953125, 1158.92578125, 1083.458740234375, 829.0156860351562, 2997.5732421875, 635.0980834960938, 1228.559326171875, 1117.502685546875, 888.7671508789062, 1806.014892578125, 1744.402587890625, 826.132080078125, 2846.678955078125, 1093.8330078125, 1284.909423828125, 1237.6407470703125, 882.6516723632812, 1492.51318359375, 1529.888916015625, 1216.1280517578125, 756.1028442382812, 688.0661010742188, 681.0640869140625, 475.6985778808594, 428.4168395996094, 420.4290771484375, 510.87664794921875, 382.7391052246094, 386.5795593261719, 351.8227844238281, 342.2030944824219, 359.02618408203125, 748.0248413085938, 332.2237854003906, 334.77349853515625, 317.57379150390625, 310.1993408203125, 303.2723388671875, 456.94219970703125, 285.13250732421875, 276.7691345214844, 273.09039306640625, 271.87841796875, 282.41265869140625, 269.5436706542969, 272.3490295410156, 258.7333068847656, 245.14901733398438, 278.0139465332031, 239.31956481933594, 538.7236328125, 785.2088623046875, 769.2763061523438, 394.9073181152344, 342.6786193847656, 454.3708801269531, 413.2437438964844, 379.9515380859375, 415.3466796875, 556.6348266601562, 342.4949035644531, 497.3567199707031, 493.5719909667969, 1176.830078125, 382.7904968261719, 1342.0347900390625, 617.47998046875, 572.5386352539062, 623.3762817382812, 549.6566162109375, 1242.19189453125, 676.2070922851562, 1037.78369140625, 1620.013427734375, 1805.6705322265625, 864.5274047851562, 793.0971069335938, 1100.705810546875, 974.760009765625, 1373.4183349609375, 726.202880859375, 882.878173828125, 2047.7413330078125, 865.2066650390625, 1479.947021484375, 1744.402587890625, 811.4797973632812, 648.33740234375, 571.0983276367188, 564.0601196289062, 496.0954284667969, 418.58917236328125, 372.1071472167969, 389.8631286621094, 345.3635559082031, 314.7587890625, 315.6482849121094, 298.1392517089844, 287.3725280761719, 271.49920654296875, 266.2197265625, 351.2689514160156, 231.81175231933594, 230.09194946289062, 224.7989501953125, 225.47727966308594, 223.7974853515625, 214.04568481445312, 213.989013671875, 213.75701904296875, 214.51841735839844, 210.84213256835938, 618.1372680664062, 198.92596435546875, 194.9417724609375, 205.68350219726562, 612.2705688476562, 498.485595703125, 552.92919921875, 902.3019409179688, 458.9103698730469, 352.9331970214844, 541.8935546875, 2053.720458984375, 565.9576416015625, 344.2391052246094, 385.0014953613281, 351.49554443359375, 522.5745239257812, 406.4862060546875, 1503.242431640625, 1185.3441162109375, 543.18212890625, 1378.2493896484375, 343.8461608886719, 740.4639282226562, 2846.678955078125, 480.74749755859375, 548.3261108398438, 1081.5072021484375, 2047.7413330078125, 1479.947021484375, 824.1640625, 2997.5732421875, 1383.906982421875, 987.9683227539062, 802.0501708984375, 672.3721313476562, 577.2506713867188, 575.5787963867188, 467.769775390625, 456.3360290527344, 455.2473449707031, 443.6236572265625, 606.4144897460938, 400.3263854980469, 553.3997192382812, 386.025390625, 380.88787841796875, 386.7904357910156, 374.3620910644531, 321.4393005371094, 327.368896484375, 292.5558776855469, 279.4385986328125, 278.289794921875, 300.0254211425781, 422.168701171875, 250.16781616210938, 253.42636108398438, 243.41781616210938, 238.13467407226562, 225.01568603515625, 285.8726806640625, 2476.990478515625, 933.6320190429688, 263.7076416015625, 1337.6749267578125, 861.3367919921875, 778.319580078125, 553.5248413085938, 1389.762939453125, 490.61956787109375, 357.69415283203125, 2171.441650390625, 1373.1458740234375, 382.2690734863281, 904.2286987304688, 437.114013671875, 1146.9715576171875, 705.072265625, 1101.618408203125, 654.583984375, 493.0270080566406, 468.2384338378906, 427.08837890625, 427.1392822265625, 415.5760803222656, 409.2174377441406, 390.8170166015625, 359.9939270019531, 342.71875, 341.4515075683594, 331.8515930175781, 313.0514221191406, 306.2014465332031, 308.5676574707031, 369.2382507324219, 279.9739990234375, 279.4189758300781, 270.4231872558594, 269.4910583496094, 262.8175354003906, 259.2288513183594, 252.94992065429688, 247.296142578125, 238.39715576171875, 234.2967529296875, 232.27288818359375, 214.72128295898438, 214.205810546875, 215.77059936523438, 747.151123046875, 350.6652526855469, 412.9677429199219, 438.1571350097656, 386.09588623046875, 761.6356811523438, 417.93792724609375, 432.2908935546875, 315.6724548339844, 340.00653076171875, 781.6740112304688, 947.1141967773438, 974.1602172851562, 933.6385498046875, 701.7098388671875, 537.034423828125, 1011.8692016601562, 409.78125, 409.3094177246094, 398.3472595214844, 325.4705810546875, 327.1009826660156, 288.9176025390625, 273.6268310546875, 267.4385986328125, 256.81988525390625, 253.11338806152344, 251.6527862548828, 240.16650390625, 238.44580078125, 233.47637939453125, 231.72312927246094, 236.33468627929688, 234.24771118164062, 223.72918701171875, 211.413818359375, 201.66358947753906, 194.1422882080078, 187.87051391601562, 187.99253845214844, 176.4350128173828, 170.66494750976562, 166.9769287109375, 1113.3695068359375, 874.6940307617188, 240.09197998046875, 1351.1024169921875, 504.06646728515625, 255.60873413085938, 502.858642578125, 1101.618408203125, 2171.441650390625], \"Category\": [\"Default\", \"Default\", \"Default\", \"Default\", \"Default\", \"Default\", \"Default\", \"Default\", \"Default\", \"Default\", \"Default\", \"Default\", \"Default\", \"Default\", \"Default\", \"Default\", \"Default\", \"Default\", \"Default\", \"Default\", \"Default\", \"Default\", \"Default\", \"Default\", \"Default\", \"Default\", \"Default\", \"Default\", \"Default\", \"Default\", \"Topic1\", \"Topic1\", \"Topic1\", \"Topic1\", \"Topic1\", \"Topic1\", \"Topic1\", \"Topic1\", \"Topic1\", \"Topic1\", \"Topic1\", \"Topic1\", \"Topic1\", \"Topic1\", \"Topic1\", \"Topic1\", \"Topic1\", \"Topic1\", \"Topic1\", \"Topic1\", \"Topic1\", \"Topic1\", \"Topic1\", \"Topic1\", \"Topic1\", \"Topic1\", \"Topic1\", \"Topic1\", \"Topic1\", \"Topic1\", \"Topic1\", \"Topic1\", \"Topic1\", \"Topic1\", \"Topic1\", \"Topic1\", \"Topic1\", \"Topic1\", \"Topic1\", \"Topic1\", \"Topic1\", \"Topic1\", \"Topic1\", \"Topic1\", \"Topic1\", \"Topic1\", \"Topic1\", \"Topic1\", \"Topic1\", \"Topic1\", \"Topic1\", \"Topic1\", \"Topic1\", \"Topic1\", \"Topic1\", \"Topic1\", \"Topic1\", \"Topic1\", \"Topic1\", \"Topic1\", \"Topic1\", \"Topic1\", \"Topic1\", \"Topic1\", \"Topic1\", \"Topic1\", \"Topic1\", \"Topic2\", \"Topic2\", \"Topic2\", \"Topic2\", \"Topic2\", \"Topic2\", \"Topic2\", \"Topic2\", \"Topic2\", \"Topic2\", \"Topic2\", \"Topic2\", \"Topic2\", \"Topic2\", \"Topic2\", \"Topic2\", \"Topic2\", \"Topic2\", \"Topic2\", \"Topic2\", \"Topic2\", \"Topic2\", \"Topic2\", \"Topic2\", \"Topic2\", \"Topic2\", \"Topic2\", \"Topic2\", \"Topic2\", \"Topic2\", \"Topic2\", \"Topic2\", \"Topic2\", \"Topic2\", \"Topic2\", \"Topic2\", \"Topic2\", \"Topic2\", \"Topic2\", \"Topic2\", \"Topic2\", \"Topic2\", \"Topic2\", \"Topic2\", \"Topic2\", \"Topic2\", \"Topic2\", \"Topic2\", \"Topic2\", \"Topic2\", \"Topic2\", \"Topic2\", \"Topic2\", \"Topic2\", \"Topic2\", \"Topic2\", \"Topic2\", \"Topic2\", \"Topic2\", \"Topic2\", \"Topic2\", \"Topic2\", \"Topic2\", \"Topic2\", \"Topic2\", \"Topic2\", \"Topic3\", \"Topic3\", \"Topic3\", \"Topic3\", \"Topic3\", \"Topic3\", \"Topic3\", \"Topic3\", \"Topic3\", \"Topic3\", \"Topic3\", \"Topic3\", \"Topic3\", \"Topic3\", \"Topic3\", \"Topic3\", \"Topic3\", \"Topic3\", \"Topic3\", \"Topic3\", \"Topic3\", \"Topic3\", \"Topic3\", \"Topic3\", \"Topic3\", \"Topic3\", \"Topic3\", \"Topic3\", \"Topic3\", \"Topic3\", \"Topic3\", \"Topic3\", \"Topic3\", \"Topic3\", \"Topic3\", \"Topic3\", \"Topic3\", \"Topic3\", \"Topic3\", \"Topic3\", \"Topic3\", \"Topic3\", \"Topic3\", \"Topic3\", \"Topic3\", \"Topic3\", \"Topic3\", \"Topic3\", \"Topic3\", \"Topic3\", \"Topic3\", \"Topic3\", \"Topic3\", \"Topic3\", \"Topic3\", \"Topic3\", \"Topic3\", \"Topic3\", \"Topic4\", \"Topic4\", \"Topic4\", \"Topic4\", \"Topic4\", \"Topic4\", \"Topic4\", \"Topic4\", \"Topic4\", \"Topic4\", \"Topic4\", \"Topic4\", \"Topic4\", \"Topic4\", \"Topic4\", \"Topic4\", \"Topic4\", \"Topic4\", \"Topic4\", \"Topic4\", \"Topic4\", \"Topic4\", \"Topic4\", \"Topic4\", \"Topic4\", \"Topic4\", \"Topic4\", \"Topic4\", \"Topic4\", \"Topic4\", \"Topic4\", \"Topic4\", \"Topic4\", \"Topic4\", \"Topic4\", \"Topic4\", \"Topic4\", \"Topic4\", \"Topic4\", \"Topic4\", \"Topic4\", \"Topic4\", \"Topic4\", \"Topic4\", \"Topic4\", \"Topic4\", \"Topic4\", \"Topic4\", \"Topic5\", \"Topic5\", \"Topic5\", \"Topic5\", \"Topic5\", \"Topic5\", \"Topic5\", \"Topic5\", \"Topic5\", \"Topic5\", \"Topic5\", \"Topic5\", \"Topic5\", \"Topic5\", \"Topic5\", \"Topic5\", \"Topic5\", \"Topic5\", \"Topic5\", \"Topic5\", \"Topic5\", \"Topic5\", \"Topic5\", \"Topic5\", \"Topic5\", \"Topic5\", \"Topic5\", \"Topic5\", \"Topic5\", \"Topic5\", \"Topic5\", \"Topic5\", \"Topic5\", \"Topic5\", \"Topic5\", \"Topic5\", \"Topic5\", \"Topic5\", \"Topic5\", \"Topic5\", \"Topic5\", \"Topic5\", \"Topic5\", \"Topic6\", \"Topic6\", \"Topic6\", \"Topic6\", \"Topic6\", \"Topic6\", \"Topic6\", \"Topic6\", \"Topic6\", \"Topic6\", \"Topic6\", \"Topic6\", \"Topic6\", \"Topic6\", \"Topic6\", \"Topic6\", \"Topic6\", \"Topic6\", \"Topic6\", \"Topic6\", \"Topic6\", \"Topic6\", \"Topic6\", \"Topic6\", \"Topic6\", \"Topic6\", \"Topic6\", \"Topic6\", \"Topic6\", \"Topic6\", \"Topic6\", \"Topic6\", \"Topic6\", \"Topic6\", \"Topic6\", \"Topic6\", \"Topic6\", \"Topic6\", \"Topic6\"], \"logprob\": [30.0, 29.0, 28.0, 27.0, 26.0, 25.0, 24.0, 23.0, 22.0, 21.0, 20.0, 19.0, 18.0, 17.0, 16.0, 15.0, 14.0, 13.0, 12.0, 11.0, 10.0, 9.0, 8.0, 7.0, 6.0, 5.0, 4.0, 3.0, 2.0, 1.0, -5.203100204467773, -5.427000045776367, -5.451200008392334, -5.4527997970581055, -5.484000205993652, -5.583600044250488, -5.361700057983398, -5.64139986038208, -5.68310022354126, -5.776299953460693, -5.7993998527526855, -5.817500114440918, -5.776700019836426, -5.945300102233887, -5.983500003814697, -6.019599914550781, -6.031899929046631, -6.028900146484375, -6.161799907684326, -6.167399883270264, -6.109000205993652, -6.184299945831299, -6.246699810028076, -6.247499942779541, -6.266600131988525, -6.2718000411987305, -6.327300071716309, -6.342700004577637, -6.3649001121521, -6.408899784088135, -5.624599933624268, -5.407700061798096, -5.731900215148926, -5.8144001960754395, -6.140600204467773, -5.809899806976318, -5.3881001472473145, -5.884099960327148, -4.56850004196167, -5.711100101470947, -5.790200233459473, -5.8867998123168945, -5.41540002822876, -5.193399906158447, -5.152400016784668, -4.926700115203857, -4.769800186157227, -5.4421000480651855, -4.979700088500977, -5.055300235748291, -5.28879976272583, -4.204599857330322, -5.523900032043457, -5.027900218963623, -5.131899833679199, -5.311500072479248, -4.8171000480651855, -4.848599910736084, -5.367000102996826, -4.633999824523926, -5.261199951171875, -5.183800220489502, -5.220699787139893, -5.393799781799316, -5.232600212097168, -5.253200054168701, -5.351200103759766, -5.113999843597412, -5.208399772644043, -5.218699932098389, -5.578100204467773, -5.6828999519348145, -5.7017998695373535, -5.506999969482422, -5.795899868011475, -5.785900115966797, -5.880300045013428, -5.908100128173828, -5.860199928283691, -5.126100063323975, -5.93779993057251, -5.930099964141846, -5.982999801635742, -6.006499767303467, -6.029200077056885, -5.6194000244140625, -6.091000080108643, -6.1209001541137695, -6.134300231933594, -6.138800144195557, -6.100800037384033, -6.14739990234375, -6.137199878692627, -6.188499927520752, -6.242599964141846, -6.116799831390381, -6.26669979095459, -5.45550012588501, -5.084099769592285, -5.1066999435424805, -5.768400192260742, -5.9095001220703125, -5.631400108337402, -5.7245001792907715, -5.810500144958496, -5.724100112915039, -5.4415998458862305, -5.914999961853027, -5.5680999755859375, -5.579400062561035, -4.800899982452393, -5.814599990844727, -4.696300029754639, -5.3917999267578125, -5.463399887084961, -5.407199859619141, -5.51639986038208, -4.8541998863220215, -5.350399971008301, -5.0157999992370605, -4.669099807739258, -4.616499900817871, -5.17549991607666, -5.243299961090088, -5.004300117492676, -5.104800224304199, -4.911499977111816, -5.388700008392334, -5.3105998039245605, -5.127500057220459, -5.443399906158447, -5.401100158691406, -5.49429988861084, -4.482699871063232, -4.707399845123291, -4.834400177001953, -4.846799850463867, -4.975399971008301, -5.1458001136779785, -5.263599872589111, -5.217199802398682, -5.338399887084961, -5.431300163269043, -5.428599834442139, -5.4857001304626465, -5.522600173950195, -5.579599857330322, -5.599299907684326, -5.3221001625061035, -5.738100051879883, -5.74560022354126, -5.769000053405762, -5.765999794006348, -5.773499965667725, -5.81820011138916, -5.818399906158447, -5.819499969482422, -5.816100120544434, -5.833499908447266, -4.757900238037109, -5.89169979095459, -5.912099838256836, -5.858399868011475, -4.769700050354004, -4.973700046539307, -4.872499942779541, -4.389200210571289, -5.060500144958496, -5.3221001625061035, -4.901199817657471, -3.61299991607666, -4.87060022354126, -5.355199813842773, -5.248000144958496, -5.341899871826172, -4.965700149536133, -5.212299823760986, -4.022900104522705, -4.267600059509277, -4.962900161743164, -4.216000080108643, -5.367499828338623, -4.940499782562256, -4.265900135040283, -5.19350004196167, -5.138000011444092, -4.853099822998047, -4.5995001792907715, -4.846799850463867, -5.110300064086914, -5.000999927520752, -3.765199899673462, -4.102499961853027, -4.311100006103516, -4.48769998550415, -4.640399932861328, -4.643400192260742, -4.851099967956543, -4.875899791717529, -4.878300189971924, -4.904200077056885, -4.591700077056885, -5.0071001052856445, -4.683300018310547, -5.043600082397461, -5.057000160217285, -5.041600227355957, -5.074399948120117, -5.227099895477295, -5.208899974822998, -5.321599960327148, -5.367499828338623, -5.371600151062012, -5.29640007019043, -4.954899787902832, -5.478499889373779, -5.46560001373291, -5.50600004196167, -5.5279998779296875, -5.58489990234375, -5.345600128173828, -3.191800117492676, -4.164700031280518, -5.426499843597412, -3.8224000930786133, -4.25600004196167, -4.359899997711182, -4.695000171661377, -3.8297998905181885, -4.839099884033203, -5.135200023651123, -3.4786999225616455, -3.9142000675201416, -5.081200122833252, -4.379000186920166, -5.013899803161621, -4.538099765777588, -4.852099895477295, -4.963500022888184, -4.413099765777588, -4.696899890899658, -4.748700141906738, -4.840799808502197, -4.840700149536133, -4.868199825286865, -4.883600234985352, -4.929699897766113, -5.01200008392334, -5.061299800872803, -5.065000057220459, -5.093599796295166, -5.152100086212158, -5.174300193786621, -5.1666998863220215, -4.987199783325195, -5.264100074768066, -5.26609992980957, -5.298900127410889, -5.3024001121521, -5.327499866485596, -5.341300010681152, -5.365900039672852, -5.388599872589111, -5.4253997802734375, -5.442800045013428, -5.451499938964844, -5.530399799346924, -5.532800197601318, -5.5254998207092285, -4.285099983215332, -5.042900085449219, -4.884200096130371, -4.8282999992370605, -4.953400135040283, -4.29610013961792, -4.881199836730957, -4.848899841308594, -5.160699844360352, -5.1097002029418945, -4.52269983291626, -4.391300201416016, -4.943299770355225, -3.6317999362945557, -3.9177000522613525, -4.185500144958496, -3.5520999431610107, -4.456399917602539, -4.457600116729736, -4.484799861907959, -4.687300205230713, -4.682400226593018, -4.80679988861084, -4.861299991607666, -4.884300231933594, -4.925000190734863, -4.939499855041504, -4.945300102233887, -4.992199897766113, -4.9994001388549805, -5.020500183105469, -5.02810001373291, -5.008399963378906, -5.017300128936768, -5.063300132751465, -5.120200157165527, -5.167699813842773, -5.205699920654297, -5.238699913024902, -5.2382001876831055, -5.301799774169922, -5.33519983291626, -5.3572001457214355, -3.4760000705718994, -3.7263998985290527, -4.999300003051758, -3.3464999198913574, -4.303999900817871, -4.968200206756592, -4.6596999168396, -4.539700031280518, -4.724699974060059], \"loglift\": [30.0, 29.0, 28.0, 27.0, 26.0, 25.0, 24.0, 23.0, 22.0, 21.0, 20.0, 19.0, 18.0, 17.0, 16.0, 15.0, 14.0, 13.0, 12.0, 11.0, 10.0, 9.0, 8.0, 7.0, 6.0, 5.0, 4.0, 3.0, 2.0, 1.0, 1.1985000371932983, 1.1983000040054321, 1.1983000040054321, 1.1983000040054321, 1.198199987411499, 1.198099970817566, 1.1979999542236328, 1.1979999542236328, 1.1979000568389893, 1.1978000402450562, 1.197700023651123, 1.197700023651123, 1.1974999904632568, 1.1973999738693237, 1.1973999738693237, 1.1972999572753906, 1.1971999406814575, 1.197100043296814, 1.1969000101089478, 1.1969000101089478, 1.1969000101089478, 1.1967999935150146, 1.1966999769210815, 1.1966999769210815, 1.1965999603271484, 1.1965999603271484, 1.1964000463485718, 1.1964000463485718, 1.1963000297546387, 1.1962000131607056, 1.1962000131607056, 1.1928000450134277, 1.1950000524520874, 1.1928999423980713, 1.1957999467849731, 1.191499948501587, 1.180799961090088, 1.1892999410629272, 1.1621999740600586, 1.1850999593734741, 1.186400055885315, 1.1892999410629272, 1.1690000295639038, 1.1584999561309814, 1.1413999795913696, 1.1208000183105469, 1.0683000087738037, 1.1390000581741333, 1.0785000324249268, 1.0702999830245972, 1.1044000387191772, 0.9034000039100647, 1.1358000040054321, 0.972000002861023, 0.9627000093460083, 1.0120999813079834, 0.7975000143051147, 0.8007000088691711, 1.0297000408172607, 0.5254999995231628, 0.8549000024795532, 0.7712000012397766, 0.7717999815940857, 0.9368000030517578, 0.572700023651123, 0.5273000001907349, 0.6588000059127808, 1.3712999820709229, 1.3711999654769897, 1.3710999488830566, 1.3705999851226807, 1.3704999685287476, 1.3703999519348145, 1.3703999519348145, 1.3702000379562378, 1.3702000379562378, 1.3700000047683716, 1.3700000047683716, 1.3698999881744385, 1.3698999881744385, 1.3698999881744385, 1.3698999881744385, 1.3697999715805054, 1.3696999549865723, 1.3696000576019287, 1.3695000410079956, 1.3695000410079956, 1.3694000244140625, 1.3694000244140625, 1.3693000078201294, 1.3693000078201294, 1.3693000078201294, 1.3691999912261963, 1.3691999912261963, 1.36899995803833, 1.36899995803833, 1.368899941444397, 1.3688000440597534, 1.3634999990463257, 1.3614000082015991, 1.3664000034332275, 1.3672000169754028, 1.3631999492645264, 1.3650000095367432, 1.3630000352859497, 1.3602999448776245, 1.350000023841858, 1.3622000217437744, 1.3360999822616577, 1.3323999643325806, 1.2419999837875366, 1.3514000177383423, 1.2152999639511108, 1.2960000038146973, 1.2999999523162842, 1.2711999416351318, 1.2877999544143677, 1.134600043296814, 1.246500015258789, 1.1527999639511108, 1.0541000366210938, 0.9983000159263611, 1.1757999658584595, 1.1943000555038452, 1.1054999828338623, 1.1265000104904175, 0.9768999814987183, 1.1368999481201172, 1.019700050354004, 0.36149999499320984, 0.9071999788284302, 0.41260001063346863, 0.1550000011920929, 1.9319000244140625, 1.9316999912261963, 1.93149995803833, 1.93149995803833, 1.9313000440597534, 1.930799961090088, 1.9306999444961548, 1.9305000305175781, 1.9305000305175781, 1.930299997329712, 1.9301999807357788, 1.9301999807357788, 1.9300999641418457, 1.929900050163269, 1.929900050163269, 1.929800033569336, 1.9293999671936035, 1.9293999671936035, 1.9292999505996704, 1.9292999505996704, 1.9292999505996704, 1.9291000366210938, 1.9291000366210938, 1.9291000366210938, 1.9289000034332275, 1.9289000034332275, 1.9287999868392944, 1.9287999868392944, 1.9286999702453613, 1.9286999702453613, 1.9265999794006348, 1.9282000064849854, 1.9257999658584595, 1.9192999601364136, 1.9241000413894653, 1.9250999689102173, 1.917199969291687, 1.8731000423431396, 1.9042999744415283, 1.9169000387191772, 1.9121999740600586, 1.9093999862670898, 1.8890000581741333, 1.8937000036239624, 1.7752000093460083, 1.7681000232696533, 1.8530999422073364, 1.6689000129699707, 1.9057999849319458, 1.5657000541687012, 0.8937000036239624, 1.7446999549865723, 1.6685999631881714, 1.2741999626159668, 0.8895000219345093, 0.9668999910354614, 1.2888000011444092, 0.10689999908208847, 2.115600109100342, 2.115299940109253, 2.1152000427246094, 2.1149001121520996, 2.114799976348877, 2.1147000789642334, 2.1143999099731445, 2.1143999099731445, 2.1143999099731445, 2.114300012588501, 2.1142001152038574, 2.1140999794006348, 2.1140999794006348, 2.114000082015991, 2.114000082015991, 2.114000082015991, 2.113800048828125, 2.113600015640259, 2.1135001182556152, 2.1131999492645264, 2.1131999492645264, 2.1131999492645264, 2.1131999492645264, 2.113100051879883, 2.112799882888794, 2.112799882888794, 2.1126999855041504, 2.112600088119507, 2.1124000549316406, 2.112299919128418, 2.106800079345703, 2.1096999645233154, 2.1120998859405518, 2.092400074005127, 2.0989999771118164, 2.096400022506714, 2.1022000312805176, 2.046799898147583, 2.078700065612793, 2.098599910736084, 1.9515999555587769, 1.9744000434875488, 2.0861001014709473, 1.92739999294281, 2.019399881362915, 1.530500054359436, 1.7030999660491943, 1.145400047302246, 2.216399908065796, 2.2160000801086426, 2.2158000469207764, 2.2156999111175537, 2.2156999111175537, 2.2156999111175537, 2.21560001373291, 2.2155001163482666, 2.2153000831604004, 2.2151999473571777, 2.2151999473571777, 2.215100049972534, 2.2149999141693115, 2.214900016784668, 2.214900016784668, 2.2147998809814453, 2.2146999835968018, 2.214600086212158, 2.214600086212158, 2.2144999504089355, 2.2144999504089355, 2.214400053024292, 2.214400053024292, 2.2142999172210693, 2.214200019836426, 2.214099884033203, 2.214099884033203, 2.2137999534606934, 2.2137999534606934, 2.21370005607605, 2.212100028991699, 2.210700035095215, 2.205899953842163, 2.2026000022888184, 2.2039999961853027, 2.1819000244140625, 2.196899890899658, 2.195499897003174, 2.197999954223633, 2.174799919128418, 1.9292999505996704, 1.8687000274658203, 1.288599967956543, 2.6426000595092773, 2.6422998905181885, 2.641900062561035, 2.6417999267578125, 2.641400098800659, 2.641400098800659, 2.6412999629974365, 2.640899896621704, 2.6407999992370605, 2.640500068664551, 2.640399932861328, 2.6403000354766846, 2.6401000022888184, 2.6401000022888184, 2.6401000022888184, 2.640000104904175, 2.639899969100952, 2.6398000717163086, 2.6398000717163086, 2.6398000717163086, 2.6398000717163086, 2.639699935913086, 2.6394999027252197, 2.63919997215271, 2.6391000747680664, 2.6389999389648438, 2.6389000415802, 2.638700008392334, 2.6384999752044678, 2.638400077819824, 2.6224000453948975, 2.6131999492645264, 2.6331000328063965, 2.558300018310547, 2.586699962615967, 2.601599931716919, 2.2334001064300537, 1.5693000555038452, 0.7056000232696533]}, \"token.table\": {\"Topic\": [4, 3, 5, 2, 4, 5, 5, 6, 2, 3, 2, 3, 4, 6, 2, 3, 1, 2, 3, 4, 5, 1, 2, 3, 4, 5, 6, 2, 4, 2, 5, 1, 2, 3, 1, 2, 3, 4, 5, 6, 1, 2, 3, 4, 5, 6, 6, 4, 2, 3, 4, 5, 1, 1, 5, 1, 5, 3, 4, 4, 4, 2, 2, 6, 2, 2, 5, 1, 2, 6, 1, 2, 1, 1, 2, 3, 4, 1, 2, 3, 4, 5, 6, 4, 1, 2, 3, 4, 5, 6, 1, 4, 1, 2, 3, 4, 1, 2, 4, 6, 1, 2, 3, 5, 6, 4, 1, 2, 3, 5, 1, 5, 1, 2, 3, 4, 5, 1, 6, 1, 3, 5, 6, 1, 2, 3, 4, 5, 1, 3, 4, 5, 1, 2, 3, 3, 3, 1, 4, 5, 3, 4, 3, 2, 1, 1, 2, 3, 5, 2, 5, 2, 1, 2, 3, 4, 5, 6, 3, 4, 1, 3, 4, 5, 6, 4, 5, 1, 1, 3, 5, 6, 6, 1, 6, 2, 4, 2, 5, 1, 5, 6, 1, 2, 3, 4, 5, 6, 4, 1, 2, 3, 4, 5, 2, 5, 2, 3, 4, 6, 1, 2, 3, 4, 5, 3, 2, 4, 6, 2, 3, 5, 2, 4, 5, 1, 2, 3, 5, 6, 2, 5, 1, 6, 1, 4, 6, 3, 2, 3, 2, 6, 2, 1, 2, 6, 1, 2, 3, 4, 5, 6, 1, 3, 2, 3, 5, 1, 2, 3, 4, 5, 1, 2, 5, 3, 5, 6, 4, 2, 1, 6, 2, 3, 1, 2, 3, 2, 3, 6, 5, 1, 2, 3, 5, 6, 2, 1, 5, 1, 1, 2, 3, 4, 5, 4, 6, 3, 1, 2, 3, 4, 5, 2, 3, 3, 1, 3, 4, 5, 3, 4, 3, 1, 2, 3, 2, 1, 4, 1, 2, 3, 5, 2, 5, 3, 1, 2, 3, 5, 2, 2, 1, 2, 3, 4, 5, 5, 1, 1, 2, 3, 4, 5, 6, 1, 1, 2, 3, 4, 5, 1, 2, 3, 4, 5, 5, 1, 4, 2, 3, 4, 5, 3, 3, 2, 3, 4, 5, 1, 2, 3, 4, 5, 6, 1, 2, 3, 1, 3, 4, 6, 1, 2, 3, 5, 6, 6, 1, 1, 2, 3, 1, 2, 3, 6, 6, 1, 2, 3, 5, 5, 1, 2, 3, 5, 1, 2, 3, 2, 5, 1, 2, 3, 5, 5, 1, 5, 1, 4, 4, 6, 1, 1, 2, 3, 5, 1, 2, 3, 4, 5, 6, 1, 2, 3, 4, 5, 3, 2, 5, 1, 2, 3, 5, 6, 2, 3, 1, 5, 1, 2, 3, 4, 5, 4, 3, 5, 1, 5, 3, 1, 2, 3, 4, 5, 5, 1, 3, 4, 5, 1, 2, 3, 4, 5, 6, 2, 3, 3, 3, 4, 2, 2, 3, 1, 2, 6, 4, 6, 1, 1, 2, 3, 4, 5, 6, 1, 2, 3, 5, 1, 3, 3, 1, 2, 3, 4, 5, 4, 2, 5, 4, 3, 4, 3, 4, 5, 1, 2, 3, 5, 6, 1, 3, 4, 1, 4, 2, 3, 6, 1, 2, 3, 6, 1, 1, 2, 3, 4, 1, 2, 3, 4, 5, 6, 4, 5, 1, 2, 3, 4, 4, 4, 4, 1, 2, 5, 2, 3, 4, 6, 4, 5, 5, 5, 1, 2, 3, 5, 4, 5, 2, 3, 1, 2, 3, 5, 6, 3, 1, 1, 2, 3, 5, 5, 1, 6, 4, 2, 1, 3, 4, 1, 2, 3, 4, 1, 2, 5, 1, 4, 5, 1, 2, 3, 3, 1, 2, 3, 5, 1, 3, 4, 5, 4, 1, 2, 3, 6, 1, 2, 3, 4, 5, 6, 2, 6, 6, 1, 2, 3, 4, 5, 1, 2, 3, 1, 2, 3, 4, 5, 1, 3, 3, 3, 1, 3, 6, 5, 3, 4, 5, 5, 1, 2, 3, 4, 5], \"Freq\": [0.9984304308891296, 0.04117567837238312, 0.9588050842285156, 0.001071085804142058, 0.9939676523208618, 0.005355428904294968, 0.9952595829963684, 0.9941162467002869, 0.9951702356338501, 0.005064479541033506, 0.022877326235175133, 0.06863197684288025, 0.9082298874855042, 0.9981303811073303, 0.026503751054406166, 0.9718042016029358, 0.17055577039718628, 0.8026720881462097, 0.02408979833126068, 0.0009635919122956693, 0.0009635919122956693, 0.3196403980255127, 0.6735020279884338, 0.005096771754324436, 0.0007281102589331567, 0.0007281102589331567, 0.9968793392181396, 0.0023687214124947786, 0.997231662273407, 0.9979829788208008, 0.9972390532493591, 0.9878482818603516, 0.010807967744767666, 0.9964585304260254, 0.7892598509788513, 0.10469773411750793, 0.004474262241274118, 0.09932862222194672, 0.0008948524482548237, 0.0008948524482548237, 0.7085176706314087, 0.19381386041641235, 0.07862260192632675, 0.000914216332603246, 0.018284326419234276, 0.000914216332603246, 0.998042643070221, 0.9985941648483276, 0.27089422941207886, 0.05531347915530205, 0.6609251499176025, 0.011346355080604553, 0.9977745413780212, 0.996839165687561, 0.9968893527984619, 0.02081931382417679, 0.9785077571868896, 0.9981613159179688, 0.9965822100639343, 0.9973165392875671, 0.9983543753623962, 0.9944861531257629, 0.9963529109954834, 0.9980738162994385, 0.9990270137786865, 0.9903803467750549, 0.006602535955607891, 0.09464588761329651, 0.9031463265419006, 0.9968008995056152, 0.9929150938987732, 0.005936712026596069, 0.9990549683570862, 0.6520470380783081, 0.34339529275894165, 0.0032319556921720505, 0.0008079889230430126, 0.1462697833776474, 0.7658722400665283, 0.025438223034143448, 0.05451047793030739, 0.0027255238965153694, 0.005451047793030739, 0.9973437190055847, 0.223133847117424, 0.7022486329078674, 0.06116359308362007, 0.004530636593699455, 0.003397977212443948, 0.004530636593699455, 0.9970442056655884, 0.0018498037243261933, 0.510494589805603, 0.1346503049135208, 0.19478538632392883, 0.16014234721660614, 0.005986806005239487, 0.0013815705897286534, 0.8482843637466431, 0.14414386451244354, 0.15309275686740875, 0.07473248243331909, 0.7676404714584351, 0.0029022323433309793, 0.0007255580858327448, 0.9970722794532776, 0.7960543632507324, 0.17093192040920258, 0.021976960822939873, 0.01058149989694357, 0.012950151227414608, 0.9868015050888062, 0.1477223038673401, 0.06383062899112701, 0.7677912712097168, 0.012766125611960888, 0.009118661284446716, 0.9974643588066101, 0.0030977155547589064, 0.03198140487074852, 0.9619022607803345, 0.004920216277241707, 0.9946735501289368, 0.5097167491912842, 0.046018537133932114, 0.35374554991722107, 0.07833690196275711, 0.012295029126107693, 0.0026609147898852825, 0.8541536331176758, 0.14169371128082275, 0.0013304573949426413, 0.007837184704840183, 0.9796481728553772, 0.010449579916894436, 0.99870365858078, 0.9960518479347229, 0.9908705949783325, 0.002387640066444874, 0.007162920199334621, 0.9847806096076965, 0.014524787664413452, 0.9966769218444824, 0.9971417784690857, 0.9987050294876099, 0.0012999230530112982, 0.9892414212226868, 0.0012999230530112982, 0.009099461138248444, 0.997221052646637, 0.9966408610343933, 0.9976613521575928, 0.3336714208126068, 0.02790706418454647, 0.5253808498382568, 0.09706804901361465, 0.006066753063350916, 0.010920155793428421, 0.9863660335540771, 0.013299317099153996, 0.06989715993404388, 0.005446532275527716, 0.3785339891910553, 0.2033371925354004, 0.34131601452827454, 0.9982835650444031, 0.9986137747764587, 0.9969397783279419, 0.9416627287864685, 0.0029108584858477116, 0.020376009866595268, 0.03493030369281769, 0.9953663945198059, 0.9978244304656982, 0.996709406375885, 0.9972930550575256, 0.001336853951215744, 0.9908191561698914, 0.007641279138624668, 0.30028319358825684, 0.03579534962773323, 0.6642025709152222, 0.6688759922981262, 0.13178186118602753, 0.04042048752307892, 0.07253539562225342, 0.073089100420475, 0.012735221534967422, 0.9990198612213135, 0.22075650095939636, 0.6275957226753235, 0.14678573608398438, 0.0023115864023566246, 0.0023115864023566246, 0.9961336255073547, 0.9962446093559265, 0.04209925979375839, 0.9568013548851013, 0.9953652620315552, 0.9943525791168213, 0.013079792261123657, 0.0026159584522247314, 0.007847875356674194, 0.970520555973053, 0.005231916904449463, 0.9951146841049194, 0.004076478071510792, 0.9640871286392212, 0.030573586001992226, 0.9921505451202393, 0.004839758854359388, 0.9985005259513855, 0.9984375834465027, 0.9812852740287781, 0.01677410677075386, 0.9986720085144043, 0.003235527314245701, 0.9965423941612244, 0.9859476685523987, 0.013693717308342457, 0.9950466752052307, 0.9966464638710022, 0.9975447654724121, 0.9980934858322144, 0.9987589120864868, 0.008330141194164753, 0.9912867546081543, 0.9975833296775818, 0.004012152086943388, 0.9950137138366699, 0.0009882700396701694, 0.9981527328491211, 0.9985387921333313, 0.9955052137374878, 0.004113657865673304, 0.9968075752258301, 0.20541276037693024, 0.3831218183040619, 0.3804190158843994, 0.006081298924982548, 0.022973794490098953, 0.002702799392864108, 0.9987672567367554, 0.9952542781829834, 0.9871271848678589, 0.007222882006317377, 0.0024076271802186966, 0.9632971882820129, 0.02674098126590252, 0.007462599314749241, 0.0006218832568265498, 0.0018656498286873102, 0.002918186131864786, 0.9951014518737793, 0.998677670955658, 0.9961788058280945, 0.997332751750946, 0.995601236820221, 0.9966867566108704, 0.9985314607620239, 0.9990010261535645, 0.9989883899688721, 0.9960072040557861, 0.9960058331489563, 0.9820931553840637, 0.01725493185222149, 0.0014379109488800168, 0.07548113167285919, 0.9241835474967957, 0.9941493272781372, 0.9965211153030396, 0.27689042687416077, 0.3638154864311218, 0.35209524631500244, 0.006348458118736744, 0.0004883429501205683, 0.9984505772590637, 0.9973185062408447, 0.9979028105735779, 0.9975135326385498, 0.9435874223709106, 0.05023729428648949, 0.003276345320045948, 0.0010921150678768754, 0.0010921150678768754, 0.9969472885131836, 0.995142936706543, 0.9981205463409424, 0.8292385935783386, 0.15189580619335175, 0.01575215719640255, 0.001125154085457325, 0.001125154085457325, 0.005666794721037149, 0.9916890859603882, 0.9977918863296509, 0.047490112483501434, 0.015110490843653679, 0.9332526922225952, 0.003597735892981291, 0.9994087219238281, 0.9994465112686157, 0.9964459538459778, 0.997973620891571, 0.9985414147377014, 0.997024655342102, 0.9989794492721558, 0.9978058934211731, 0.9993446469306946, 0.9095123410224915, 0.0012062498135492206, 0.00361874932423234, 0.08564373850822449, 0.9981932044029236, 0.9981603622436523, 0.9980767965316772, 0.017965098842978477, 0.9773014187812805, 0.0017965099541470408, 0.9974516034126282, 0.9963163733482361, 0.9958046078681946, 0.651407778263092, 0.2793971300125122, 0.011673974804580212, 0.056035079061985016, 0.0015565298963338137, 0.9979169368743896, 0.9987582564353943, 0.2580709159374237, 0.025283975526690483, 0.04010561481118202, 0.5571193099021912, 0.1063670665025711, 0.012206057086586952, 0.9979922771453857, 0.013498189859092236, 0.1358255296945572, 0.8478550314903259, 0.0008436368661932647, 0.0016872737323865294, 0.022885296493768692, 0.014120714738965034, 0.941705584526062, 0.01947684772312641, 0.0019476847955957055, 0.9974338412284851, 0.9975199103355408, 0.9978333711624146, 0.9985008239746094, 0.006424096412956715, 0.9803171157836914, 0.01284819282591343, 0.9977860450744629, 0.9979462027549744, 0.001633264822885394, 0.993025004863739, 0.003266529645770788, 0.001633264822885394, 0.011633109301328659, 0.008724831975996494, 0.9742729067802429, 0.0029082773253321648, 0.0029082773253321648, 0.0029082773253321648, 0.9970417618751526, 0.005425649229437113, 0.9928938746452332, 0.9941836595535278, 0.004458223003894091, 0.9963615536689758, 0.9977091550827026, 0.9244570732116699, 0.048655636608600616, 0.023901013657450676, 0.003414430655539036, 0.9967407584190369, 0.9968240261077881, 0.9984776973724365, 0.13636009395122528, 0.8546723127365112, 0.008941645734012127, 0.022116921842098236, 0.9651020765304565, 0.01407440472394228, 0.9993160367012024, 0.997406005859375, 0.19723200798034668, 0.7881230115890503, 0.013685486279428005, 0.0008050285978242755, 0.9984350800514221, 0.27451810240745544, 0.013725905679166317, 0.006335033103823662, 0.7053003907203674, 0.16013170778751373, 0.8372240662574768, 0.0025217593647539616, 0.9967690706253052, 0.994519829750061, 0.8772097826004028, 0.08446692675352097, 0.03807935118675232, 0.0006923518376424909, 0.9981778264045715, 0.9989491701126099, 0.9983340501785278, 0.0016490371199324727, 0.9976674318313599, 0.995331883430481, 0.9966341257095337, 0.9968737363815308, 0.06801839917898178, 0.9263458251953125, 0.003238971345126629, 0.0016194856725633144, 0.035526543855667114, 0.018503408879041672, 0.025164635851979256, 0.001480272738263011, 0.0007401363691315055, 0.9185091853141785, 0.7436015009880066, 0.05337651073932648, 0.16113033890724182, 0.018348176032304764, 0.023685825988650322, 0.9953451752662659, 0.9960281252861023, 0.9973551034927368, 0.10351858288049698, 0.8813868165016174, 0.014788368716835976, 0.9923994541168213, 0.005703445058315992, 0.9897957444190979, 0.008759254589676857, 0.009685986675322056, 0.9879706501960754, 0.9696583151817322, 0.007301643956452608, 0.016063617542386055, 0.002920657629147172, 0.00438098656013608, 0.9986333250999451, 0.01914159767329693, 0.9786142110824585, 0.004015251994132996, 0.9944440722465515, 0.9985924959182739, 0.2785668671131134, 0.6878331303596497, 0.031013410538434982, 0.0005538109107874334, 0.0022152436431497335, 0.9964286088943481, 0.11506424844264984, 0.01383684016764164, 0.868079662322998, 0.002913018921390176, 0.023792730644345284, 0.8777818083763123, 0.059481825679540634, 0.020393768325448036, 0.014445586130023003, 0.0033989613875746727, 0.989599883556366, 0.00789574347436428, 0.9975892901420593, 0.01625380478799343, 0.9833551645278931, 0.9976894855499268, 0.014763046987354755, 0.9835879802703857, 0.9984374642372131, 0.9971657991409302, 0.9947203397750854, 0.020658010616898537, 0.9790101051330566, 0.9971808195114136, 0.5821755528450012, 0.3700268268585205, 0.03700268268585205, 0.001644563628360629, 0.0008222818141803145, 0.007400536444038153, 0.9963346123695374, 0.13312602043151855, 0.827877402305603, 0.037441693246364594, 0.9907112121582031, 0.009526069276034832, 0.996436595916748, 0.88616544008255, 0.08887540549039841, 0.00604007625952363, 0.0034514721482992172, 0.014668756164610386, 0.998690664768219, 0.0341370552778244, 0.9650283455848694, 0.9952351450920105, 0.02317453920841217, 0.9763209223747253, 0.23795086145401, 0.01151375100016594, 0.7496731281280518, 0.25123247504234314, 0.7271544933319092, 0.019752923399209976, 0.0012345577124506235, 0.997534453868866, 0.9853503704071045, 0.01196781825274229, 0.9980999231338501, 0.008881745859980583, 0.9907183647155762, 0.9979380369186401, 0.0021884606685489416, 0.9979596138000488, 0.022865138947963715, 0.005716284736990929, 0.001143256900832057, 0.970625102519989, 0.9969913363456726, 0.5339986085891724, 0.32428523898124695, 0.006700108293443918, 0.13467217981815338, 0.8436907529830933, 0.14283430576324463, 0.004841840825974941, 0.006052300799638033, 0.0024209204129874706, 0.9961037635803223, 0.01583920232951641, 0.9820305705070496, 0.6712899804115295, 0.2958032786846161, 0.03210268169641495, 0.0005732621648348868, 0.9974706768989563, 0.9954861402511597, 0.9958184957504272, 0.9977473020553589, 0.9980689287185669, 0.9979094862937927, 0.9187554121017456, 0.08004997670650482, 0.03912229463458061, 0.9584962129592896, 0.986405611038208, 0.012646225281059742, 0.9943707585334778, 0.9944653511047363, 0.002179074799641967, 0.004358149599283934, 0.9914790391921997, 0.002179074799641967, 0.9983175992965698, 0.9947587251663208, 0.9953129887580872, 0.9964982271194458, 0.9594830870628357, 0.003472194541245699, 0.030092353001236916, 0.006944389082491398, 0.9983599781990051, 0.9963875412940979, 0.9980423450469971, 0.7692728638648987, 0.10536433011293411, 0.037387341260910034, 0.08837008476257324, 0.9966413974761963, 0.053564365953207016, 0.9443199038505554, 0.9989944100379944, 0.9982840418815613, 0.005194785073399544, 0.979216992855072, 0.01298696268349886, 0.9979866147041321, 0.9964842796325684, 0.9978832602500916, 0.9976689219474792, 0.03646884486079216, 0.9603462219238281, 0.002026046859100461, 0.9982989430427551, 0.9972600936889648, 0.9960762858390808, 0.9384377002716064, 0.06140783801674843, 0.9951689839363098, 0.9953781962394714, 0.17466190457344055, 0.8212579488754272, 0.0023134027142077684, 0.0011567013571038842, 0.16035766899585724, 0.004423659760504961, 0.8283302783966064, 0.007741404231637716, 0.997956395149231, 0.05589142441749573, 0.9309415221214294, 0.013972856104373932, 0.9985541701316833, 0.8786675333976746, 0.05722414329648018, 0.023074252530932426, 0.027689103037118912, 0.007383760530501604, 0.0064607905223965645, 0.9968005418777466, 0.00185623939614743, 0.99661785364151, 0.1456768810749054, 0.7817308902740479, 0.029750913381576538, 0.0041035739704966545, 0.0379580594599247, 0.19829168915748596, 0.7904127240180969, 0.009639179334044456, 0.012154541909694672, 0.006752523593604565, 0.6928089261054993, 0.2849564850330353, 0.004051513969898224, 0.9927737712860107, 0.006648038513958454, 0.9994795918464661, 0.99541836977005, 0.4780365824699402, 0.5177959203720093, 0.00369854224845767, 0.9970249533653259, 0.9758303165435791, 0.01137994509190321, 0.01137994509190321, 0.999107837677002, 0.381867378950119, 0.17964190244674683, 0.03490185737609863, 0.007185676135122776, 0.39521220326423645], \"Term\": [\"accertare\", \"affrontare\", \"affrontare\", \"aggiornamento\", \"aggiornamento\", \"aggiornamento\", \"agire\", \"albergo\", \"almeno\", \"almeno\", \"american\", \"american\", \"american\", \"americano\", \"amp\", \"amp\", \"ancorare\", \"ancorare\", \"ancorare\", \"ancorare\", \"ancorare\", \"andare\", \"andare\", \"andare\", \"andare\", \"andare\", \"animale\", \"annullare\", \"annullare\", \"anti\", \"antidiplomatico\", \"anziano\", \"anziano\", \"aprile\", \"aprire\", \"aprire\", \"aprire\", \"aprire\", \"aprire\", \"aprire\", \"arrivare\", \"arrivare\", \"arrivare\", \"arrivare\", \"arrivare\", \"arrivare\", \"atalanta\", \"attivit\\u00e0\", \"aumentare\", \"aumentare\", \"aumentare\", \"aumentare\", \"azienda\", \"bar\", \"barbaro\", \"baro\", \"baro\", \"bergamo\", \"bilanciare\", \"bologna\", \"borrelli\", \"borsa\", \"breve\", \"calciare\", \"calere\", \"cambiare\", \"cambiare\", \"campania\", \"campania\", \"campionare\", \"cancellare\", \"cancellare\", \"cane\", \"casa\", \"casa\", \"casa\", \"casa\", \"causare\", \"causare\", \"causare\", \"causare\", \"causare\", \"causare\", \"ceppo\", \"chiedere\", \"chiedere\", \"chiedere\", \"chiedere\", \"chiedere\", \"chiedere\", \"chiesa\", \"chiesa\", \"chiudere\", \"chiudere\", \"chiudere\", \"chiudere\", \"chiuso\", \"chiuso\", \"chiuso\", \"chiuso\", \"cina\", \"cina\", \"cina\", \"cina\", \"cina\", \"cinema\", \"cinese\", \"cinese\", \"cinese\", \"cinese\", \"civile\", \"civile\", \"colpire\", \"colpire\", \"colpire\", \"colpire\", \"colpire\", \"comunicazione\", \"comunicazione\", \"confermato\", \"confermato\", \"confermato\", \"consegnare\", \"contagiare\", \"contagiare\", \"contagiare\", \"contagiare\", \"contagiare\", \"contagio\", \"contagio\", \"contagio\", \"contagio\", \"continuare\", \"continuare\", \"continuare\", \"coppa\", \"corea\", \"correre\", \"correre\", \"correre\", \"corriera\", \"corriera\", \"costare\", \"creare\", \"cremona\", \"crisi\", \"crisi\", \"crisi\", \"crisi\", \"cronaca\", \"cultura\", \"danno\", \"dato\", \"dato\", \"dato\", \"dato\", \"dato\", \"dato\", \"decesso\", \"decesso\", \"decretare\", \"decretare\", \"decretare\", \"decretare\", \"decretare\", \"deficit\", \"denunciare\", \"dipendere\", \"domenica\", \"domenica\", \"domenica\", \"domenica\", \"domestico\", \"domiciliare\", \"dpcm\", \"economia\", \"economia\", \"economico\", \"economico\", \"effetto\", \"effetto\", \"effetto\", \"emergenza\", \"emergenza\", \"emergenza\", \"emergenza\", \"emergenza\", \"emergenza\", \"emilia\", \"epidemia\", \"epidemia\", \"epidemia\", \"epidemia\", \"epidemia\", \"esperto\", \"euro\", \"europa\", \"europa\", \"evento\", \"fanpage\", \"febbraio\", \"febbraio\", \"febbraio\", \"febbraio\", \"febbraio\", \"febbre\", \"fermo\", \"fermo\", \"fermo\", \"figliare\", \"figliare\", \"firmare\", \"fiumicino\", \"fontana\", \"fontana\", \"francese\", \"francia\", \"francia\", \"friuli\", \"friuli\", \"fugare\", \"fvg\", \"gallo\", \"gara\", \"gatto\", \"gennaio\", \"gennaio\", \"genova\", \"germania\", \"germania\", \"giocare\", \"giocare\", \"giornale\", \"giovane\", \"giovane\", \"giulia\", \"governare\", \"governare\", \"governare\", \"governare\", \"governare\", \"governare\", \"grave\", \"gualtieri\", \"guardare\", \"guardare\", \"guardare\", \"guarire\", \"guarire\", \"guarire\", \"guarire\", \"guarire\", \"guerra\", \"guerra\", \"hong\", \"hotel\", \"immagine\", \"imparare\", \"impresa\", \"inquinamento\", \"intensivo\", \"inter\", \"intervistare\", \"iran\", \"isolamento\", \"isolamento\", \"isolamento\", \"isolare\", \"isolare\", \"israele\", \"istituto\", \"italiano\", \"italiano\", \"italiano\", \"italiano\", \"italiano\", \"juve\", \"juventus\", \"kong\", \"lastampa\", \"lavorare\", \"lavorare\", \"lavorare\", \"lavorare\", \"lavorare\", \"lavoratore\", \"lecce\", \"legare\", \"leggere\", \"leggere\", \"leggere\", \"leggere\", \"leggere\", \"lezione\", \"lezione\", \"liguria\", \"lombardia\", \"lombardia\", \"lombardia\", \"lombardia\", \"luigi\", \"luned\\u00ec\", \"l\\u00ec\", \"maggio\", \"mangiare\", \"mappa\", \"marca\", \"maritare\", \"marzo\", \"medico\", \"medico\", \"medico\", \"medico\", \"medio\", \"mercato\", \"mercoled\\u00ec\", \"mese\", \"mese\", \"mese\", \"met\\u00e0\", \"migrare\", \"milan\", \"milano\", \"milano\", \"milano\", \"milano\", \"milano\", \"miliardo\", \"mille\", \"misura\", \"misura\", \"misura\", \"misura\", \"misura\", \"misura\", \"moglie\", \"mondare\", \"mondare\", \"mondare\", \"mondare\", \"mondare\", \"morto\", \"morto\", \"morto\", \"morto\", \"morto\", \"mostrare\", \"moto\", \"museo\", \"mutazione\", \"napoli\", \"napoli\", \"napoli\", \"nasa\", \"necessario\", \"news\", \"news\", \"news\", \"news\", \"nigeria\", \"nigeria\", \"nigeria\", \"nigeria\", \"nigeria\", \"nigeria\", \"novembre\", \"numero\", \"numero\", \"oms\", \"oms\", \"ordinanza\", \"ormai\", \"ospedale\", \"ospedale\", \"ospedale\", \"ospedale\", \"ottobre\", \"palestra\", \"parigi\", \"parlare\", \"parlare\", \"parlare\", \"parola\", \"parola\", \"parola\", \"partito\", \"passeggero\", \"paura\", \"paura\", \"paura\", \"paura\", \"pavia\", \"paziente\", \"paziente\", \"paziente\", \"paziente\", \"pensare\", \"pensare\", \"pensare\", \"pensione\", \"perdita\", \"persona\", \"persona\", \"persona\", \"persona\", \"personale\", \"pesaro\", \"piacere\", \"piemonte\", \"piemonte\", \"piemontese\", \"piscina\", \"polemico\", \"politico\", \"politico\", \"politico\", \"politico\", \"porto\", \"porto\", \"porto\", \"porto\", \"porto\", \"porto\", \"positivo\", \"positivo\", \"positivo\", \"positivo\", \"positivo\", \"presentire\", \"preso\", \"prete\", \"problema\", \"problema\", \"problema\", \"produrre\", \"produrre\", \"proporre\", \"proporre\", \"protezione\", \"protezione\", \"provincia\", \"provincia\", \"provincia\", \"provincia\", \"provincia\", \"provvedimento\", \"pubblicare\", \"pubblicare\", \"puglia\", \"puglia\", \"qatar\", \"quarantena\", \"quarantena\", \"quarantena\", \"quarantena\", \"quarantena\", \"reale\", \"regione\", \"regione\", \"regione\", \"regione\", \"repubblica\", \"repubblica\", \"repubblica\", \"repubblica\", \"repubblica\", \"repubblica\", \"restrizione\", \"restrizione\", \"rianimazione\", \"riaprire\", \"riaprire\", \"ricostruire\", \"ricoverare\", \"ricoverare\", \"ricoverato\", \"ricovero\", \"rimborsare\", \"rinviare\", \"rinviare\", \"riprendere\", \"rischiare\", \"rischiare\", \"rischiare\", \"rischiare\", \"rischiare\", \"rischiare\", \"ristorare\", \"risultare\", \"risultare\", \"risultare\", \"riuscire\", \"riuscire\", \"roberto\", \"roma\", \"roma\", \"roma\", \"roma\", \"roma\", \"romagna\", \"rosso\", \"rosso\", \"sabato\", \"salire\", \"salire\", \"sanit\\u00e0\", \"sanit\\u00e0\", \"sanit\\u00e0\", \"sapere\", \"sapere\", \"sapere\", \"sapere\", \"scenario\", \"scoprire\", \"scoprire\", \"scrittore\", \"scuola\", \"scuola\", \"sentire\", \"sentire\", \"seriea\", \"serio\", \"serio\", \"serio\", \"serio\", \"servizio\", \"settimana\", \"settimana\", \"settimana\", \"settimana\", \"situazione\", \"situazione\", \"situazione\", \"situazione\", \"situazione\", \"sociale\", \"soldo\", \"soldo\", \"solere\", \"solere\", \"solere\", \"solere\", \"sospendere\", \"sospensione\", \"sospeso\", \"sostegno\", \"spagna\", \"spallanzani\", \"spiegare\", \"spiegare\", \"sport\", \"sport\", \"stop\", \"stop\", \"strano\", \"straordinario\", \"sud\", \"sud\", \"sud\", \"sud\", \"superato\", \"superiora\", \"supermercato\", \"svizzero\", \"tampone\", \"tampone\", \"tampone\", \"tampone\", \"teatro\", \"temere\", \"terapia\", \"test\", \"test\", \"test\", \"test\", \"tg\", \"tifoso\", \"tifoso\", \"topo\", \"tornire\", \"totale\", \"totale\", \"totale\", \"trasmettere\", \"trump\", \"turchia\", \"turismo\", \"tv\", \"tv\", \"tv\", \"unito\", \"universit\\u00e0\", \"urso\", \"uso\", \"uso\", \"vacanza\", \"vecchio\", \"vedere\", \"vedere\", \"vedere\", \"vedere\", \"veneto\", \"veneto\", \"veneto\", \"veneto\", \"venezia\", \"vero\", \"vero\", \"vero\", \"verona\", \"via\", \"via\", \"via\", \"via\", \"via\", \"via\", \"viaggiare\", \"viaggiare\", \"viaggo\", \"video\", \"video\", \"video\", \"video\", \"video\", \"vistare\", \"vistare\", \"vistare\", \"vittima\", \"vittima\", \"vittima\", \"vittima\", \"vittima\", \"vivere\", \"vivere\", \"vivo\", \"volare\", \"volo\", \"volo\", \"volo\", \"wuhan\", \"youtube\", \"youtube\", \"youtube\", \"zaia\", \"zona\", \"zona\", \"zona\", \"zona\", \"zona\"]}, \"R\": 30, \"lambda.step\": 0.01, \"plot.opts\": {\"xlab\": \"PC1\", \"ylab\": \"PC2\"}, \"topic.order\": [2, 5, 6, 1, 4, 3]};\n",
              "\n",
              "function LDAvis_load_lib(url, callback){\n",
              "  var s = document.createElement('script');\n",
              "  s.src = url;\n",
              "  s.async = true;\n",
              "  s.onreadystatechange = s.onload = callback;\n",
              "  s.onerror = function(){console.warn(\"failed to load library \" + url);};\n",
              "  document.getElementsByTagName(\"head\")[0].appendChild(s);\n",
              "}\n",
              "\n",
              "if(typeof(LDAvis) !== \"undefined\"){\n",
              "   // already loaded: just create the visualization\n",
              "   !function(LDAvis){\n",
              "       new LDAvis(\"#\" + \"ldavis_el1201401743388299129730536831\", ldavis_el1201401743388299129730536831_data);\n",
              "   }(LDAvis);\n",
              "}else if(typeof define === \"function\" && define.amd){\n",
              "   // require.js is available: use it to load d3/LDAvis\n",
              "   require.config({paths: {d3: \"https://cdnjs.cloudflare.com/ajax/libs/d3/3.5.5/d3.min\"}});\n",
              "   require([\"d3\"], function(d3){\n",
              "      window.d3 = d3;\n",
              "      LDAvis_load_lib(\"https://cdn.rawgit.com/bmabey/pyLDAvis/files/ldavis.v1.0.0.js\", function(){\n",
              "        new LDAvis(\"#\" + \"ldavis_el1201401743388299129730536831\", ldavis_el1201401743388299129730536831_data);\n",
              "      });\n",
              "    });\n",
              "}else{\n",
              "    // require.js not available: dynamically load d3 & LDAvis\n",
              "    LDAvis_load_lib(\"https://cdnjs.cloudflare.com/ajax/libs/d3/3.5.5/d3.min.js\", function(){\n",
              "         LDAvis_load_lib(\"https://cdn.rawgit.com/bmabey/pyLDAvis/files/ldavis.v1.0.0.js\", function(){\n",
              "                 new LDAvis(\"#\" + \"ldavis_el1201401743388299129730536831\", ldavis_el1201401743388299129730536831_data);\n",
              "            })\n",
              "         });\n",
              "}\n",
              "</script>"
            ],
            "text/plain": [
              "PreparedData(topic_coordinates=               x          y  topics  cluster       Freq\n",
              "topic                                                  \n",
              "1       1.465019 -47.625065       1        1  30.132133\n",
              "4      54.854797 -36.476795       2        1  25.349930\n",
              "5      32.212929 -61.444572       3        1  14.471781\n",
              "0       5.111096 -14.110332       4        1  12.048573\n",
              "3      26.350170 -33.374702       5        1  10.886415\n",
              "2      38.109818  -7.222781       6        1   7.111169, topic_info=           Term         Freq        Total Category  logprob  loglift\n",
              "168      scuola  2476.000000  2476.000000  Default  30.0000  30.0000\n",
              "164      chiuso  2171.000000  2171.000000  Default  29.0000  29.0000\n",
              "141       morto  2053.000000  2053.000000  Default  28.0000  28.0000\n",
              "484       porto  1351.000000  1351.000000  Default  27.0000  27.0000\n",
              "1374      marzo  1383.000000  1383.000000  Default  26.0000  26.0000\n",
              "...         ...          ...          ...      ...      ...      ...\n",
              "804      tifoso   476.243286   504.066467   Topic6  -4.3040   2.5867\n",
              "368       sport   245.119446   255.608734   Topic6  -4.9682   2.6016\n",
              "2239    effetto   333.696930   502.858643   Topic6  -4.6597   2.2334\n",
              "173   decretare   376.261719  1101.618408   Topic6  -4.5397   1.5693\n",
              "164      chiuso   312.696442  2171.441650   Topic6  -4.7247   0.7056\n",
              "\n",
              "[351 rows x 6 columns], token_table=      Topic      Freq           Term\n",
              "term                                \n",
              "541       4  0.998430      accertare\n",
              "823       3  0.041176     affrontare\n",
              "823       5  0.958805     affrontare\n",
              "77        2  0.001071  aggiornamento\n",
              "77        4  0.993968  aggiornamento\n",
              "...     ...       ...            ...\n",
              "299       1  0.381867           zona\n",
              "299       2  0.179642           zona\n",
              "299       3  0.034902           zona\n",
              "299       4  0.007186           zona\n",
              "299       5  0.395212           zona\n",
              "\n",
              "[649 rows x 3 columns], R=30, lambda_step=0.01, plot_opts={'xlab': 'PC1', 'ylab': 'PC2'}, topic_order=[2, 5, 6, 1, 4, 3])"
            ]
          },
          "metadata": {
            "tags": []
          },
          "execution_count": 52
        }
      ]
    },
    {
      "cell_type": "code",
      "metadata": {
        "id": "4-LPttnrBZhW",
        "colab_type": "code",
        "colab": {}
      },
      "source": [
        "# pyLDAvis.save_html(panel, 'tweet_data/lda_first_week.html')"
      ],
      "execution_count": null,
      "outputs": []
    },
    {
      "cell_type": "markdown",
      "metadata": {
        "id": "UwhL-FVz9luH",
        "colab_type": "text"
      },
      "source": [
        "## K-Means"
      ]
    },
    {
      "cell_type": "code",
      "metadata": {
        "id": "a5Uf3SpogYnI",
        "colab_type": "code",
        "colab": {}
      },
      "source": [
        "from sklearn.feature_extraction.text import TfidfVectorizer\n",
        "from sklearn.cluster import KMeans\n",
        "from sklearn.metrics import adjusted_rand_score\n",
        "\n",
        "stop_word_file = open(\"tweet_data/italian_stop_words.txt\", \"r\")\n",
        "stopwords_italian = stop_word_file.read().split('\\n')\n",
        "\n",
        "def k_means_pp(dataset, k = 3, stopwords = stopwords_italian): \n",
        "  vectorizer = TfidfVectorizer(stop_words=stopwords_italian)\n",
        "  dataset = dataset[dataset['clean_text'].notnull()] \n",
        "  X = vectorizer.fit_transform(dataset['clean_text'])\n",
        "\n",
        "  model = KMeans(n_clusters=k, init='k-means++', max_iter=100, n_init=1, random_state = 1)\n",
        "  model.fit(X)\n",
        "\n",
        "  return model, vectorizer"
      ],
      "execution_count": null,
      "outputs": []
    },
    {
      "cell_type": "code",
      "metadata": {
        "id": "pEtmB4F0gyNA",
        "colab_type": "code",
        "colab": {}
      },
      "source": [
        "def print_topic(model,vectorizer, k = 3, num_words = 10 ): \n",
        "  print(\"Top terms per cluster:\")\n",
        "  order_centroids = model.cluster_centers_.argsort()[:, ::-1]\n",
        "  terms = vectorizer.get_feature_names()\n",
        "  for i in range(k):\n",
        "      print(\"Cluster %d:\" % i),\n",
        "      for ind in order_centroids[i, :num_words]:\n",
        "          print(' %s' % terms[ind]),"
      ],
      "execution_count": null,
      "outputs": []
    },
    {
      "cell_type": "markdown",
      "metadata": {
        "id": "CdGyYI_rJgld",
        "colab_type": "text"
      },
      "source": [
        "### First week"
      ]
    },
    {
      "cell_type": "code",
      "metadata": {
        "id": "LbjdQB_khY8i",
        "colab_type": "code",
        "colab": {
          "base_uri": "https://localhost:8080/",
          "height": 50
        },
        "outputId": "c11f9142-3684-42e4-e6ce-4673b3163269"
      },
      "source": [
        "%time w1_model, w1_vect = k_means_pp(first_week, k1)"
      ],
      "execution_count": null,
      "outputs": [
        {
          "output_type": "stream",
          "text": [
            "CPU times: user 1min 15s, sys: 4.01 s, total: 1min 19s\n",
            "Wall time: 1min 14s\n"
          ],
          "name": "stdout"
        }
      ]
    },
    {
      "cell_type": "code",
      "metadata": {
        "id": "7mhoiu34O5EY",
        "colab_type": "code",
        "colab": {
          "base_uri": "https://localhost:8080/",
          "height": 1000
        },
        "outputId": "d8281dc8-6434-41f8-fcf2-62a884e56a60"
      },
      "source": [
        "print_topic(w1_model, w1_vect, k1)"
      ],
      "execution_count": null,
      "outputs": [
        {
          "output_type": "stream",
          "text": [
            "Top terms per cluster:\n",
            "Cluster 0:\n",
            " quarantena\n",
            " andare\n",
            " casa\n",
            " migrare\n",
            " persona\n",
            " arrivare\n",
            " cina\n",
            " italiano\n",
            " sbarcare\n",
            " codogno\n",
            "Cluster 1:\n",
            " scuola\n",
            " chiuso\n",
            " porto\n",
            " lombardia\n",
            " regione\n",
            " università\n",
            " marzo\n",
            " chiudere\n",
            " chiusura\n",
            " museo\n",
            "Cluster 2:\n",
            " positivo\n",
            " test\n",
            " donna\n",
            " risultare\n",
            " tampone\n",
            " salire\n",
            " turista\n",
            " paziente\n",
            " persona\n",
            " palermo\n",
            "Cluster 3:\n",
            " rischiare\n",
            " situazione\n",
            " prendere\n",
            " lavorare\n",
            " solere\n",
            " andare\n",
            " uscire\n",
            " italiano\n",
            " emergenza\n",
            " persona\n",
            "Cluster 4:\n",
            " emergenza\n",
            " italiano\n",
            " solere\n",
            " sapere\n",
            " governare\n",
            " mascherina\n",
            " milano\n",
            " regione\n",
            " casa\n",
            " andare\n",
            "Cluster 5:\n",
            " contagiare\n",
            " morto\n",
            " vittima\n",
            " salire\n",
            " contagio\n",
            " lombardia\n",
            " guarire\n",
            " numerare\n",
            " matematico\n",
            " ragionare\n"
          ],
          "name": "stdout"
        }
      ]
    },
    {
      "cell_type": "code",
      "metadata": {
        "id": "ucEw01AWSMBL",
        "colab_type": "code",
        "colab": {
          "base_uri": "https://localhost:8080/",
          "height": 50
        },
        "outputId": "e11f4753-dafc-4d44-daf1-544b0d570868"
      },
      "source": [
        "%time w1_model_3, w1_vect_3 = k_means_pp(first_week, 3)"
      ],
      "execution_count": null,
      "outputs": [
        {
          "output_type": "stream",
          "text": [
            "CPU times: user 38.6 s, sys: 2.02 s, total: 40.6 s\n",
            "Wall time: 38.2 s\n"
          ],
          "name": "stdout"
        }
      ]
    },
    {
      "cell_type": "code",
      "metadata": {
        "id": "CY7XiNK2SOrI",
        "colab_type": "code",
        "colab": {
          "base_uri": "https://localhost:8080/",
          "height": 588
        },
        "outputId": "9e1ce060-1119-429f-d87e-7453b0ec0022"
      },
      "source": [
        "print_topic(w1_model_3, w1_vect_3, 3)"
      ],
      "execution_count": null,
      "outputs": [
        {
          "output_type": "stream",
          "text": [
            "Top terms per cluster:\n",
            "Cluster 0:\n",
            " contagiare\n",
            " quarantena\n",
            " italiano\n",
            " emergenza\n",
            " solere\n",
            " morto\n",
            " sapere\n",
            " persona\n",
            " andare\n",
            " governare\n",
            "Cluster 1:\n",
            " scuola\n",
            " chiuso\n",
            " porto\n",
            " lombardia\n",
            " università\n",
            " regione\n",
            " chiudere\n",
            " marzo\n",
            " chiusura\n",
            " museo\n",
            "Cluster 2:\n",
            " positivo\n",
            " test\n",
            " donna\n",
            " risultare\n",
            " tampone\n",
            " salire\n",
            " turista\n",
            " paziente\n",
            " persona\n",
            " palermo\n"
          ],
          "name": "stdout"
        }
      ]
    },
    {
      "cell_type": "markdown",
      "metadata": {
        "id": "ZCtkufhVJjXj",
        "colab_type": "text"
      },
      "source": [
        "### Second week"
      ]
    },
    {
      "cell_type": "code",
      "metadata": {
        "id": "PzHTPth-1RHO",
        "colab_type": "code",
        "colab": {
          "base_uri": "https://localhost:8080/",
          "height": 50
        },
        "outputId": "3fa6d1f4-d68e-4038-fad3-5d871cc82787"
      },
      "source": [
        "%time w2_model, w2_vect = k_means_pp(second_week, k2)"
      ],
      "execution_count": null,
      "outputs": [
        {
          "output_type": "stream",
          "text": [
            "CPU times: user 1min 23s, sys: 2.75 s, total: 1min 26s\n",
            "Wall time: 1min 23s\n"
          ],
          "name": "stdout"
        }
      ]
    },
    {
      "cell_type": "code",
      "metadata": {
        "id": "NTyKrwtb_V1k",
        "colab_type": "code",
        "colab": {
          "base_uri": "https://localhost:8080/",
          "height": 958
        },
        "outputId": "d4197930-2efc-4a5f-f6f1-e8061a38c1bc"
      },
      "source": [
        "print_topic(w2_model, w2_vect, k2)"
      ],
      "execution_count": null,
      "outputs": [
        {
          "output_type": "stream",
          "text": [
            "Top terms per cluster:\n",
            "Cluster 0:\n",
            " quarantena\n",
            " positivo\n",
            " morto\n",
            " contagiare\n",
            " marzo\n",
            " solere\n",
            " andare\n",
            " guarire\n",
            " persona\n",
            " sapere\n",
            "Cluster 1:\n",
            " emergenza\n",
            " sanitario\n",
            " misura\n",
            " ospedale\n",
            " affrontare\n",
            " governare\n",
            " decretare\n",
            " italiano\n",
            " medico\n",
            " fronteggiare\n",
            "Cluster 2:\n",
            " lombardia\n",
            " milano\n",
            " morto\n",
            " regione\n",
            " fontana\n",
            " gallera\n",
            " contagio\n",
            " ospedale\n",
            " positivo\n",
            " contagiare\n",
            "Cluster 3:\n",
            " neo\n",
            " supermercato\n",
            " parco\n",
            " confronto\n",
            " prossimo\n",
            " casa\n",
            " lavorare\n",
            " pennarello\n",
            " solere\n",
            " biancheria\n",
            "Cluster 4:\n",
            " casa\n",
            " restare\n",
            " quarantena\n",
            " uscire\n",
            " andare\n",
            " solere\n",
            " rimanere\n",
            " lavorare\n",
            " chiuso\n",
            " persona\n"
          ],
          "name": "stdout"
        }
      ]
    },
    {
      "cell_type": "code",
      "metadata": {
        "id": "4GpnFQS0YbI4",
        "colab_type": "code",
        "colab": {
          "base_uri": "https://localhost:8080/",
          "height": 50
        },
        "outputId": "16d26293-5aed-4173-e4be-51f908ba8542"
      },
      "source": [
        "%time w2_model_4, w2_vect_4 = k_means_pp(second_week, 4)"
      ],
      "execution_count": null,
      "outputs": [
        {
          "output_type": "stream",
          "text": [
            "CPU times: user 1min 41s, sys: 3.35 s, total: 1min 44s\n",
            "Wall time: 1min 40s\n"
          ],
          "name": "stdout"
        }
      ]
    },
    {
      "cell_type": "code",
      "metadata": {
        "id": "Oqg4GvR5YwUe",
        "colab_type": "code",
        "colab": {
          "base_uri": "https://localhost:8080/",
          "height": 773
        },
        "outputId": "a56c788d-10d4-47d0-9a28-4eb2d7f3a946"
      },
      "source": [
        "print_topic(w2_model_4, w2_vect_4, 4)"
      ],
      "execution_count": null,
      "outputs": [
        {
          "output_type": "stream",
          "text": [
            "Top terms per cluster:\n",
            "Cluster 0:\n",
            " quarantena\n",
            " casa\n",
            " positivo\n",
            " morto\n",
            " contagiare\n",
            " marzo\n",
            " solere\n",
            " guarire\n",
            " persona\n",
            " sapere\n",
            "Cluster 1:\n",
            " emergenza\n",
            " andare\n",
            " casa\n",
            " quarantena\n",
            " lavorare\n",
            " sanitario\n",
            " uscire\n",
            " solere\n",
            " ospedale\n",
            " misura\n",
            "Cluster 2:\n",
            " lombardia\n",
            " milano\n",
            " morto\n",
            " regione\n",
            " fontana\n",
            " gallera\n",
            " ospedale\n",
            " contagio\n",
            " positivo\n",
            " contagiare\n",
            "Cluster 3:\n",
            " neo\n",
            " bambino\n",
            " casa\n",
            " supermercato\n",
            " parco\n",
            " solere\n",
            " quarantena\n",
            " lavorare\n",
            " confronto\n",
            " prossimo\n"
          ],
          "name": "stdout"
        }
      ]
    },
    {
      "cell_type": "markdown",
      "metadata": {
        "id": "1iS0w2MzJrGU",
        "colab_type": "text"
      },
      "source": [
        "### Third week"
      ]
    },
    {
      "cell_type": "code",
      "metadata": {
        "id": "ChLckg9i_V0T",
        "colab_type": "code",
        "colab": {
          "base_uri": "https://localhost:8080/",
          "height": 50
        },
        "outputId": "b7616f3c-f672-4ef9-83b1-ffae613c42f6"
      },
      "source": [
        "%time w3_model, w3_vect = k_means_pp(third_week, k3)"
      ],
      "execution_count": null,
      "outputs": [
        {
          "output_type": "stream",
          "text": [
            "CPU times: user 1min 18s, sys: 4.35 s, total: 1min 23s\n",
            "Wall time: 1min 17s\n"
          ],
          "name": "stdout"
        }
      ]
    },
    {
      "cell_type": "code",
      "metadata": {
        "id": "BwKeOmSCO-ot",
        "colab_type": "code",
        "colab": {
          "base_uri": "https://localhost:8080/",
          "height": 773
        },
        "outputId": "dbcf7121-09dc-4d01-d786-8410e2fab4e7"
      },
      "source": [
        "print_topic(w3_model, w3_vect, k3)"
      ],
      "execution_count": null,
      "outputs": [
        {
          "output_type": "stream",
          "text": [
            "Top terms per cluster:\n",
            "Cluster 0:\n",
            " quarantena\n",
            " casa\n",
            " emergenza\n",
            " solere\n",
            " andare\n",
            " sapere\n",
            " italiano\n",
            " lavorare\n",
            " via\n",
            " mascherina\n",
            "Cluster 1:\n",
            " fase\n",
            " aprile\n",
            " maggio\n",
            " regione\n",
            " dato\n",
            " conta\n",
            " contagio\n",
            " riaprire\n",
            " riapertura\n",
            " bollettino\n",
            "Cluster 2:\n",
            " positivo\n",
            " morto\n",
            " decesso\n",
            " guarire\n",
            " contagio\n",
            " calere\n",
            " bollettino\n",
            " salire\n",
            " totale\n",
            " ancorare\n",
            "Cluster 3:\n",
            " appositamente\n",
            " minlavoro\n",
            " studiato\n",
            " elenabonetti\n",
            " azzolinalucia\n",
            " fallare\n",
            " forma\n",
            " grosso\n",
            " superare\n",
            " giuseppeconteit\n"
          ],
          "name": "stdout"
        }
      ]
    },
    {
      "cell_type": "code",
      "metadata": {
        "id": "TooUCObUMdvc",
        "colab_type": "code",
        "colab": {
          "base_uri": "https://localhost:8080/",
          "height": 50
        },
        "outputId": "1b7ecb95-03d9-4317-df20-a268ddcb3539"
      },
      "source": [
        "%time w3_model_3, w3_vect_3 = k_means_pp(third_week, 3)"
      ],
      "execution_count": null,
      "outputs": [
        {
          "output_type": "stream",
          "text": [
            "CPU times: user 1min 1s, sys: 3.44 s, total: 1min 4s\n",
            "Wall time: 1min\n"
          ],
          "name": "stdout"
        }
      ]
    },
    {
      "cell_type": "code",
      "metadata": {
        "id": "DyQrJD05MeYp",
        "colab_type": "code",
        "colab": {
          "base_uri": "https://localhost:8080/",
          "height": 588
        },
        "outputId": "ad11d8f0-6088-421d-9fd1-b09e6ada37a3"
      },
      "source": [
        "print_topic( w3_model_3, w3_vect_3, 3)"
      ],
      "execution_count": null,
      "outputs": [
        {
          "output_type": "stream",
          "text": [
            "Top terms per cluster:\n",
            "Cluster 0:\n",
            " quarantena\n",
            " casa\n",
            " emergenza\n",
            " solere\n",
            " andare\n",
            " sapere\n",
            " italiano\n",
            " lavorare\n",
            " via\n",
            " mascherina\n",
            "Cluster 1:\n",
            " fase\n",
            " aprile\n",
            " maggio\n",
            " regione\n",
            " dato\n",
            " conta\n",
            " contagio\n",
            " riaprire\n",
            " riapertura\n",
            " bollettino\n",
            "Cluster 2:\n",
            " positivo\n",
            " morto\n",
            " decesso\n",
            " guarire\n",
            " contagio\n",
            " calere\n",
            " bollettino\n",
            " salire\n",
            " totale\n",
            " ancorare\n"
          ],
          "name": "stdout"
        }
      ]
    },
    {
      "cell_type": "code",
      "metadata": {
        "id": "1MDvWIwi-o-Z",
        "colab_type": "code",
        "colab": {
          "base_uri": "https://localhost:8080/",
          "height": 50
        },
        "outputId": "4a92d541-b6fd-4adb-913d-b0872f0d199f"
      },
      "source": [
        "%time w3_model_3, w3_vect_3 = k_means_pp(third_week, 6)"
      ],
      "execution_count": null,
      "outputs": [
        {
          "output_type": "stream",
          "text": [
            "CPU times: user 26.1 s, sys: 1.33 s, total: 27.4 s\n",
            "Wall time: 25.9 s\n"
          ],
          "name": "stdout"
        }
      ]
    },
    {
      "cell_type": "code",
      "metadata": {
        "id": "usjZCzhm-x6K",
        "colab_type": "code",
        "colab": {
          "base_uri": "https://localhost:8080/",
          "height": 1000
        },
        "outputId": "0165c4d4-bd70-42af-b440-8d5a8d00b7d5"
      },
      "source": [
        "print_topic(w3_model_3, w3_vect_3, 6)"
      ],
      "execution_count": null,
      "outputs": [
        {
          "output_type": "stream",
          "text": [
            "Top terms per cluster:\n",
            "Cluster 0:\n",
            " emergenza\n",
            " sanitario\n",
            " giuseppeconteit\n",
            " superare\n",
            " minlavoro\n",
            " appositamente\n",
            " elenabonetti\n",
            " forma\n",
            " studiato\n",
            " azzolinalucia\n",
            "Cluster 1:\n",
            " casa\n",
            " quarantena\n",
            " riposare\n",
            " uscire\n",
            " restare\n",
            " tornire\n",
            " andare\n",
            " chiuso\n",
            " anziano\n",
            " solere\n",
            "Cluster 2:\n",
            " quarantena\n",
            " andare\n",
            " vedere\n",
            " finire\n",
            " uscire\n",
            " sapere\n",
            " solere\n",
            " pensare\n",
            " iniziare\n",
            " persona\n",
            "Cluster 3:\n",
            " leggere\n",
            " articolare\n",
            " quarantena\n",
            " emergenza\n",
            " notizia\n",
            " casa\n",
            " andare\n",
            " ospedale\n",
            " gt\n",
            " sapere\n",
            "Cluster 4:\n",
            " fase\n",
            " solere\n",
            " mascherina\n",
            " maggio\n",
            " regione\n",
            " via\n",
            " conta\n",
            " aprile\n",
            " contagiare\n",
            " mondare\n",
            "Cluster 5:\n",
            " positivo\n",
            " morto\n",
            " guarire\n",
            " decesso\n",
            " contagio\n",
            " calere\n",
            " aprile\n",
            " dato\n",
            " bollettino\n",
            " salire\n"
          ],
          "name": "stdout"
        }
      ]
    },
    {
      "cell_type": "code",
      "metadata": {
        "id": "Ndzw_5HAH0E2",
        "colab_type": "code",
        "colab": {
          "base_uri": "https://localhost:8080/",
          "height": 50
        },
        "outputId": "6aa3b741-2f34-4b86-ce5d-781c336fd7e4"
      },
      "source": [
        "%time w3_model_12, w3_vect_12 = k_means_pp(third_week, 12)"
      ],
      "execution_count": null,
      "outputs": [
        {
          "output_type": "stream",
          "text": [
            "CPU times: user 1min 8s, sys: 3.56 s, total: 1min 12s\n",
            "Wall time: 1min 7s\n"
          ],
          "name": "stdout"
        }
      ]
    },
    {
      "cell_type": "code",
      "metadata": {
        "id": "iIq546UWHz7a",
        "colab_type": "code",
        "colab": {
          "base_uri": "https://localhost:8080/",
          "height": 1000
        },
        "outputId": "6d9fdd4a-a78d-48f2-c616-66d8609b5214"
      },
      "source": [
        "print_topic(w3_model_12, w3_vect_12, 12)"
      ],
      "execution_count": null,
      "outputs": [
        {
          "output_type": "stream",
          "text": [
            "Top terms per cluster:\n",
            "Cluster 0:\n",
            " emergenza\n",
            " sanitario\n",
            " giuseppeconteit\n",
            " minlavoro\n",
            " appositamente\n",
            " elenabonetti\n",
            " forma\n",
            " studiato\n",
            " azzolinalucia\n",
            " fallare\n",
            "Cluster 1:\n",
            " positivo\n",
            " guarire\n",
            " calere\n",
            " tampone\n",
            " sicilia\n",
            " contagio\n",
            " ricovero\n",
            " aumentare\n",
            " ancorare\n",
            " intensivo\n",
            "Cluster 2:\n",
            " repubblica\n",
            " via\n",
            " morto\n",
            " contagio\n",
            " rep\n",
            " milano\n",
            " oms\n",
            " dare\n",
            " lombardia\n",
            " mondare\n",
            "Cluster 3:\n",
            " fase\n",
            " conta\n",
            " auto\n",
            " changeitalia\n",
            " petizione\n",
            " firmare\n",
            " giuseppe\n",
            " maggio\n",
            " scontare\n",
            " prorogare\n",
            "Cluster 4:\n",
            " iniziare\n",
            " quarantena\n",
            " fase\n",
            " emergenza\n",
            " epidemia\n",
            " settimana\n",
            " maggio\n",
            " solere\n",
            " vedere\n",
            " pandemia\n",
            "Cluster 5:\n",
            " solere\n",
            " mascherina\n",
            " contagiare\n",
            " mondare\n",
            " italiano\n",
            " via\n",
            " lavorare\n",
            " sapere\n",
            " andare\n",
            " parlare\n",
            "Cluster 6:\n",
            " regione\n",
            " lombardia\n",
            " dato\n",
            " contagio\n",
            " fase\n",
            " maggio\n",
            " spostamento\n",
            " milione\n",
            " zero\n",
            " campania\n",
            "Cluster 7:\n",
            " quarantena\n",
            " andare\n",
            " vedere\n",
            " uscire\n",
            " sapere\n",
            " finire\n",
            " solere\n",
            " pensare\n",
            " persona\n",
            " passare\n",
            "Cluster 8:\n",
            " morto\n",
            " contagio\n",
            " calere\n",
            " guarire\n",
            " positivo\n",
            " salire\n",
            " lombardia\n",
            " mondare\n",
            " contagiare\n",
            " ancorare\n",
            "Cluster 9:\n",
            " decesso\n",
            " contagio\n",
            " guarire\n",
            " positivo\n",
            " salire\n",
            " calere\n",
            " totale\n",
            " morto\n",
            " contagiare\n",
            " zero\n",
            "Cluster 10:\n",
            " casa\n",
            " quarantena\n",
            " riposare\n",
            " uscire\n",
            " restare\n",
            " tornire\n",
            " andare\n",
            " chiuso\n",
            " anziano\n",
            " solere\n",
            "Cluster 11:\n",
            " aprile\n",
            " bollettino\n",
            " dato\n",
            " morto\n",
            " positivo\n",
            " contagio\n",
            " aggiornato\n",
            " aggiornamento\n",
            " provincia\n",
            " notizia\n"
          ],
          "name": "stdout"
        }
      ]
    },
    {
      "cell_type": "markdown",
      "metadata": {
        "id": "KEZF4ebqJvEY",
        "colab_type": "text"
      },
      "source": [
        "### Fourth week"
      ]
    },
    {
      "cell_type": "code",
      "metadata": {
        "id": "WhIbA01m_Vrw",
        "colab_type": "code",
        "colab": {
          "base_uri": "https://localhost:8080/",
          "height": 50
        },
        "outputId": "913377ee-2497-4f75-9bf5-878f6982d776"
      },
      "source": [
        "%time w4_model, w4_vect = k_means_pp(fourth_week, k4)"
      ],
      "execution_count": null,
      "outputs": [
        {
          "output_type": "stream",
          "text": [
            "CPU times: user 27.8 s, sys: 2.85 s, total: 30.6 s\n",
            "Wall time: 27.3 s\n"
          ],
          "name": "stdout"
        }
      ]
    },
    {
      "cell_type": "code",
      "metadata": {
        "id": "ukfcksxp_VqC",
        "colab_type": "code",
        "colab": {
          "base_uri": "https://localhost:8080/",
          "height": 1000
        },
        "outputId": "cf7bbfa6-5ba3-4a15-8f7b-e2670b6ed5b4"
      },
      "source": [
        "print_topic(w4_model, w4_vect, k4)"
      ],
      "execution_count": null,
      "outputs": [
        {
          "output_type": "stream",
          "text": [
            "Top terms per cluster:\n",
            "Cluster 0:\n",
            " morto\n",
            " contagio\n",
            " decesso\n",
            " guarire\n",
            " lombardia\n",
            " salire\n",
            " bollettino\n",
            " totale\n",
            " calere\n",
            " maggio\n",
            "Cluster 1:\n",
            " dato\n",
            " maggio\n",
            " regione\n",
            " bollettino\n",
            " protezione\n",
            " civile\n",
            " aggiornato\n",
            " lombardia\n",
            " provincia\n",
            " odierno\n",
            "Cluster 2:\n",
            " quarantena\n",
            " uscire\n",
            " casa\n",
            " mese\n",
            " andare\n",
            " italiano\n",
            " twitter\n",
            " finito\n",
            " profilo\n",
            " iniziare\n",
            "Cluster 3:\n",
            " positivo\n",
            " guarire\n",
            " decesso\n",
            " tampone\n",
            " bollettino\n",
            " morto\n",
            " maggio\n",
            " scendere\n",
            " test\n",
            " calere\n",
            "Cluster 4:\n",
            " fase\n",
            " riaprire\n",
            " riapertura\n",
            " emergenza\n",
            " maggio\n",
            " rischiare\n",
            " regione\n",
            " contagio\n",
            " conta\n",
            " mascherina\n",
            "Cluster 5:\n",
            " emergenza\n",
            " contagiare\n",
            " mascherina\n",
            " solere\n",
            " lavorare\n",
            " regione\n",
            " mondare\n",
            " rischiare\n",
            " vaccinare\n",
            " sapere\n"
          ],
          "name": "stdout"
        }
      ]
    },
    {
      "cell_type": "code",
      "metadata": {
        "id": "h2dc7ADU_jMo",
        "colab_type": "code",
        "colab": {
          "base_uri": "https://localhost:8080/",
          "height": 50
        },
        "outputId": "c8d4b477-7646-4406-f50e-8d6969f85238"
      },
      "source": [
        "%time w4_model_9, w4_vect_9 = k_means_pp(fourth_week, 9)"
      ],
      "execution_count": null,
      "outputs": [
        {
          "output_type": "stream",
          "text": [
            "CPU times: user 20.2 s, sys: 2 s, total: 22.2 s\n",
            "Wall time: 19.9 s\n"
          ],
          "name": "stdout"
        }
      ]
    },
    {
      "cell_type": "code",
      "metadata": {
        "id": "r-5S6vdS_pSY",
        "colab_type": "code",
        "colab": {
          "base_uri": "https://localhost:8080/",
          "height": 1000
        },
        "outputId": "5cc7e1f5-4114-47a1-80b3-b841c9f08fac"
      },
      "source": [
        "print_topic( w4_model_9, w4_vect_9, 9)"
      ],
      "execution_count": null,
      "outputs": [
        {
          "output_type": "stream",
          "text": [
            "Top terms per cluster:\n",
            "Cluster 0:\n",
            " decesso\n",
            " positivo\n",
            " guarire\n",
            " contagio\n",
            " tampone\n",
            " calere\n",
            " zero\n",
            " lombardia\n",
            " scendere\n",
            " provincia\n",
            "Cluster 1:\n",
            " dato\n",
            " maggio\n",
            " regione\n",
            " bollettino\n",
            " positivo\n",
            " lombardia\n",
            " provincia\n",
            " aggiornato\n",
            " odierno\n",
            " contagio\n",
            "Cluster 2:\n",
            " morto\n",
            " bollettino\n",
            " contagio\n",
            " salire\n",
            " maggio\n",
            " lombardia\n",
            " positivo\n",
            " totale\n",
            " guarire\n",
            " decesso\n",
            "Cluster 3:\n",
            " emergenza\n",
            " news\n",
            " fake\n",
            " profilo\n",
            " italiano\n",
            " diffusore\n",
            " twitter\n",
            " super\n",
            " sanitario\n",
            " repubblica\n",
            "Cluster 4:\n",
            " mascherina\n",
            " contagio\n",
            " contagiare\n",
            " fase\n",
            " solere\n",
            " mondare\n",
            " lavorare\n",
            " rischiare\n",
            " vaccinare\n",
            " regione\n",
            "Cluster 5:\n",
            " persona\n",
            " via\n",
            " andare\n",
            " libero\n",
            " positivo\n",
            " mascherina\n",
            " solere\n",
            " contagiare\n",
            " test\n",
            " lavorare\n",
            "Cluster 6:\n",
            " quarantena\n",
            " uscire\n",
            " casa\n",
            " mese\n",
            " finito\n",
            " iniziare\n",
            " amico\n",
            " andare\n",
            " vedere\n",
            " solere\n",
            "Cluster 7:\n",
            " mercato\n",
            " analisi\n",
            " crescita\n",
            " previsione\n",
            " impattare\n",
            " tendenza\n",
            " fattore\n",
            " attore\n",
            " settore\n",
            " immobiliare\n",
            "Cluster 8:\n",
            " protezione\n",
            " civile\n",
            " dato\n",
            " bollettino\n",
            " morto\n",
            " guarire\n",
            " maggio\n",
            " contagio\n",
            " inps\n",
            " dpcgov\n"
          ],
          "name": "stdout"
        }
      ]
    }
  ]
}